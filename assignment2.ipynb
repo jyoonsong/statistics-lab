{
 "cells": [
  {
   "cell_type": "markdown",
   "metadata": {},
   "source": [
    "### 예제 1\n",
    "1부터 100 사이에서 40개의 서로 다른 정수를 임의로 선택하여 저장하자."
   ]
  },
  {
   "cell_type": "code",
   "execution_count": 8,
   "metadata": {},
   "outputs": [
    {
     "name": "stdout",
     "output_type": "stream",
     "text": [
      "[74 50 72 97 85 59 93 12 55 69 88 31 25 58 19 70 99  3 22  6 65 47  4 26\n",
      " 56 40 75 81 87 41 34 11 37 38  7 44 86 53 32 45]\n"
     ]
    }
   ],
   "source": [
    "import numpy as np\n",
    "rg = np.arange(1, 100)\n",
    "vec = np.random.choice(rg, 40, replace=False)\n",
    "print(vec)"
   ]
  },
  {
   "cell_type": "markdown",
   "metadata": {},
   "source": [
    "**1-1) 만들어진 벡터를 사용하여 5행 8열의 행렬을 생성하시오**"
   ]
  },
  {
   "cell_type": "code",
   "execution_count": 10,
   "metadata": {},
   "outputs": [
    {
     "name": "stdout",
     "output_type": "stream",
     "text": [
      "[[74 50 72 97 85 59 93 12]\n",
      " [55 69 88 31 25 58 19 70]\n",
      " [99  3 22  6 65 47  4 26]\n",
      " [56 40 75 81 87 41 34 11]\n",
      " [37 38  7 44 86 53 32 45]]\n"
     ]
    }
   ],
   "source": [
    "new_set = vec.reshape(5, 8)\n",
    "print(new_set)"
   ]
  },
  {
   "cell_type": "markdown",
   "metadata": {},
   "source": [
    "**1-2) 예제 1에서 생성된 행렬에서 2행과 3행만을 추출하여 저장하시오**"
   ]
  },
  {
   "cell_type": "code",
   "execution_count": 13,
   "metadata": {},
   "outputs": [
    {
     "name": "stdout",
     "output_type": "stream",
     "text": [
      "[[55 69 88 31 25 58 19 70]\n",
      " [99  3 22  6 65 47  4 26]]\n"
     ]
    }
   ],
   "source": [
    "extracted = new_set[1:3, :]\n",
    "print(extracted)"
   ]
  },
  {
   "cell_type": "markdown",
   "metadata": {},
   "source": [
    "**1-3) 예제 1에서 생성된 행렬에서 (1, 4, 7, 8)열을 추출하여 저장하시오.**"
   ]
  },
  {
   "cell_type": "code",
   "execution_count": 39,
   "metadata": {},
   "outputs": [
    {
     "name": "stdout",
     "output_type": "stream",
     "text": [
      "[[74 97 93 12]\n",
      " [55 31 19 70]\n",
      " [99  6  4 26]\n",
      " [56 81 34 11]\n",
      " [37 44 32 45]]\n"
     ]
    }
   ],
   "source": [
    "extracted2 = new_set[:, [0,3,6,7]]\n",
    "print(extracted2)"
   ]
  },
  {
   "cell_type": "markdown",
   "metadata": {},
   "source": [
    "**1-4) 예제 1에서 생성된 행렬의 7번째 열의 평균과 분산을 구하시오** "
   ]
  },
  {
   "cell_type": "code",
   "execution_count": 44,
   "metadata": {},
   "outputs": [
    {
     "name": "stdout",
     "output_type": "stream",
     "text": [
      "평균 36.4\n",
      "분산 916.24\n"
     ]
    }
   ],
   "source": [
    "sevenths = new_set[:, [6]]\n",
    "    \n",
    "print(\"평균\", np.mean(sevenths))\n",
    "print(\"분산\", np.var(sevenths))"
   ]
  },
  {
   "cell_type": "markdown",
   "metadata": {},
   "source": [
    "### 예제 2\n",
    "1부터 20 사이에서 1개의 숫자를 임의로 선택하여 저장하자. 이 숫자가 10 이상이면 \"P\"를 출력하고 10 미만이면 \"NP\"를 출력하는 코드를 작성해보시오."
   ]
  },
  {
   "cell_type": "code",
   "execution_count": 46,
   "metadata": {},
   "outputs": [
    {
     "name": "stdout",
     "output_type": "stream",
     "text": [
      "P\n"
     ]
    }
   ],
   "source": [
    "n = np.random.randint(1, 20, 1)[0]\n",
    "\n",
    "if (n >= 10):\n",
    "    print(\"P\")\n",
    "else:\n",
    "    print(\"NP\")"
   ]
  },
  {
   "cell_type": "markdown",
   "metadata": {},
   "source": [
    "### 예제 3\n",
    "1부터 20 사이에서 8개의 숫자를 임의로 선택하여 저장하자. 8개의 숫자들 각각에 대해 숫자가 10 이상이면 \"P\"를 출력하고 10 미만이면 \"NP\"를 출력하는 코드를 작성해보시오."
   ]
  },
  {
   "cell_type": "code",
   "execution_count": 47,
   "metadata": {},
   "outputs": [
    {
     "name": "stdout",
     "output_type": "stream",
     "text": [
      "NP\n",
      "P\n",
      "NP\n",
      "P\n",
      "P\n",
      "NP\n",
      "P\n",
      "NP\n"
     ]
    }
   ],
   "source": [
    "def isBigger(n):\n",
    "    if (n >= 10):\n",
    "        return \"P\"\n",
    "    else:\n",
    "        return \"NP\"\n",
    "\n",
    "nums = np.random.randint(1, 20, 8)\n",
    "\n",
    "for n in nums:\n",
    "    print( isBigger(n) )"
   ]
  }
 ],
 "metadata": {
  "kernelspec": {
   "display_name": "Python 3",
   "language": "python",
   "name": "python3"
  },
  "language_info": {
   "codemirror_mode": {
    "name": "ipython",
    "version": 3
   },
   "file_extension": ".py",
   "mimetype": "text/x-python",
   "name": "python",
   "nbconvert_exporter": "python",
   "pygments_lexer": "ipython3",
   "version": "3.7.3"
  }
 },
 "nbformat": 4,
 "nbformat_minor": 2
}
