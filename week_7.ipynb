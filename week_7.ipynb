{
 "cells": [
  {
   "cell_type": "markdown",
   "metadata": {},
   "source": [
    "# 7. 이산자료의 분석\n",
    "\n",
    "### 7.1. 모비율의 추정과 검정\n",
    "**한 모비율에 대한 추론**"
   ]
  },
  {
   "cell_type": "code",
   "execution_count": 12,
   "metadata": {},
   "outputs": [],
   "source": [
    "import numpy as np\n",
    "from scipy import stats\n",
    "import pandas\n",
    "from scipy.stats import norm\n",
    "\n",
    "p1hat = 10  / 30\n",
    "p2hat = 20 / 40"
   ]
  },
  {
   "cell_type": "markdown",
   "metadata": {},
   "source": [
    "**두 모비율의 차에 대한 추론**"
   ]
  },
  {
   "cell_type": "code",
   "execution_count": 14,
   "metadata": {},
   "outputs": [
    {
     "name": "stdout",
     "output_type": "stream",
     "text": [
      "-1.394433377556793\n",
      "0.16318677476266985\n"
     ]
    }
   ],
   "source": [
    "# H0: p1 = p2\n",
    "phat = (10 + 20) / (30 + 40)\n",
    "z = (p1hat - p2hat) / np.sqrt(phat * (1 - phat) * (1/30 + 1/40))\n",
    "print(z)\n",
    "\n",
    "# p-value\n",
    "print(norm.cdf(z) * 2) # 양측 검정이므로 2를 곱해줘야 함."
   ]
  },
  {
   "cell_type": "markdown",
   "metadata": {},
   "source": [
    "### 7.2. 범주형 자료에 의한 여러 모집단의 비교\n",
    "\n",
    "검정 결과는 똑같이 나오지만, 자료 형태에 따라 귀무가설 작성할 때 염두에 두고 동질성 검정과 독립성 검정 차이를 명시해야 함\n",
    "\n",
    "**동질성 검정 모형** <br>\n",
    "예: 두 도시에서 발생하는 범죄율이 같다고 볼 수 있는가?\n",
    "\n",
    "1. 가설 H0, H1\n",
    "2. 유의수준\n",
    "3. 검정통계량 ~ 분포\n",
    "4. 유의확률, 가설검정 결과"
   ]
  },
  {
   "cell_type": "code",
   "execution_count": 16,
   "metadata": {},
   "outputs": [
    {
     "name": "stdout",
     "output_type": "stream",
     "text": [
      "        Lit  Math  Eng\n",
      "Male     73    98   79\n",
      "Female   82    58  110\n",
      "Chi-squared test: X-squared = 15.86365, p-value = 0.00036, df = 2\n"
     ]
    }
   ],
   "source": [
    "x = np.array([[73, 98, 79], [82, 58, 110]])\n",
    "\n",
    "# 분할표\n",
    "table = pandas.DataFrame(x, ['Male', 'Female'], ['Lit', 'Math', 'Eng'])\n",
    "print(table)\n",
    "\n",
    "# 입력된 x에 대해 동질성 검정 시행\n",
    "g, p, dof, expctd = stats.chi2_contingency(table)\n",
    "print(\"Chi-squared test: X-squared = %s, p-value = %s, df = %s\" % (round(g, 5), round(p, 5), dof))"
   ]
  },
  {
   "cell_type": "code",
   "execution_count": null,
   "metadata": {},
   "outputs": [],
   "source": []
  }
 ],
 "metadata": {
  "kernelspec": {
   "display_name": "Python 3",
   "language": "python",
   "name": "python3"
  },
  "language_info": {
   "codemirror_mode": {
    "name": "ipython",
    "version": 3
   },
   "file_extension": ".py",
   "mimetype": "text/x-python",
   "name": "python",
   "nbconvert_exporter": "python",
   "pygments_lexer": "ipython3",
   "version": "3.7.3"
  }
 },
 "nbformat": 4,
 "nbformat_minor": 2
}
