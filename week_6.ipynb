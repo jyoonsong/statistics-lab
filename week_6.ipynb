{
 "cells": [
  {
   "cell_type": "markdown",
   "metadata": {},
   "source": [
    "### 6.1. 모평균에 관한 추론\n",
    "\n",
    "**일표본 T-검정**\n",
    "\n",
    "예 1)"
   ]
  },
  {
   "cell_type": "code",
   "execution_count": 16,
   "metadata": {},
   "outputs": [
    {
     "name": "stdout",
     "output_type": "stream",
     "text": [
      "Ttest_1sampResult(statistic=1.354469698602765, pvalue=0.1970442368445378)\n",
      "xbar = 43.933 sd = 11.247\n",
      "tstat= 1.354\n"
     ]
    }
   ],
   "source": [
    "import numpy as np\n",
    "from scipy import stats\n",
    "\n",
    "score = np.array([22, 25, 34, 35, 41, 41, 46, 46, 46, 47, 49, 54, 54, 59, 60])\n",
    "print(stats.ttest_1samp(score, popmean = 40))\n",
    "print(\"xbar = %.3f sd = %.3f\" % (np.mean(score), np.std(score, ddof = 1)))\n",
    "print(\"tstat= %.3f\" % ((np.mean(score) - 40)/np.std(score, ddof = 1) * np.sqrt(15)))\n"
   ]
  },
  {
   "cell_type": "markdown",
   "metadata": {},
   "source": [
    "단측 검정의 유의확률은 2로 나눠줘야 함"
   ]
  },
  {
   "cell_type": "code",
   "execution_count": 9,
   "metadata": {},
   "outputs": [
    {
     "data": {
      "text/plain": [
       "0.0985221184222689"
      ]
     },
     "execution_count": 9,
     "metadata": {},
     "output_type": "execute_result"
    }
   ],
   "source": [
    "0.1970442368445378 / 2"
   ]
  },
  {
   "cell_type": "markdown",
   "metadata": {},
   "source": [
    "평균에 대한 95% 신뢰구간"
   ]
  },
  {
   "cell_type": "code",
   "execution_count": 11,
   "metadata": {},
   "outputs": [
    {
     "name": "stdout",
     "output_type": "stream",
     "text": [
      "37.704946695244814\n",
      "50.161719971421846\n"
     ]
    }
   ],
   "source": [
    "from scipy.stats import t\n",
    "tt = t.ppf(0.975, df = 14) # 분위수\n",
    "\n",
    "print(np.mean(score) - tt * np.std(score, ddof = 1) / np.sqrt(15))\n",
    "print(np.mean(score) + tt * np.std(score, ddof = 1) / np.sqrt(15))"
   ]
  },
  {
   "cell_type": "markdown",
   "metadata": {},
   "source": [
    "정규분포 가정에 대한 확인"
   ]
  },
  {
   "cell_type": "code",
   "execution_count": 17,
   "metadata": {},
   "outputs": [
    {
     "data": {
      "image/png": "[encoded data removed]",
      "text/plain": [
       "<Figure size 432x288 with 1 Axes>"
      ]
     },
     "metadata": {
      "needs_background": "light"
     },
     "output_type": "display_data"
    },
    {
     "name": "stdout",
     "output_type": "stream",
     "text": [
      "0.9483703970909119 0.49916043877601624\n"
     ]
    }
   ],
   "source": [
    "import matplotlib.pyplot as plt\n",
    "from statsmodels.graphics.gofplots import ProbPlot\n",
    "from scipy.stats import shapiro\n",
    "\n",
    "# 정규분포 분위수 대조도\n",
    "QQ = ProbPlot(score)\n",
    "plot = QQ.qqplot(line = 's', color = 'C0', lw = 1)\n",
    "plt.title(\"Normal Q-Q Plot\")\n",
    "plt.show()\n",
    "\n",
    "# Shapiro-Wilk's Normality Test\n",
    "stat, p = shapiro(score)\n",
    "print(stat, p)"
   ]
  },
  {
   "cell_type": "markdown",
   "metadata": {},
   "source": [
    "예 2)"
   ]
  },
  {
   "cell_type": "code",
   "execution_count": 20,
   "metadata": {},
   "outputs": [
    {
     "name": "stdout",
     "output_type": "stream",
     "text": [
      "Ttest_1sampResult(statistic=0.15359390551473265, pvalue=0.8813187090682193)\n",
      "xbar = 400.400 sd = 8.235\n",
      "tstat= 0.154\n",
      "( 395.62607898663606 ,  405.1739210133639 )\n"
     ]
    }
   ],
   "source": [
    "can = np.array([408, 405, 397, 405, 395, 415, 389, 403, 397, 390])\n",
    "print(stats.ttest_1samp(can, popmean = 400))\n",
    "print(\"xbar = %.3f sd = %.3f\" % (np.mean(can), np.std(can, ddof = 1)))\n",
    "print(\"tstat= %.3f\" % ((np.mean(can) - 400)/np.std(can, ddof = 1) * np.sqrt(10)))\n",
    "\n",
    "tt = t.ppf(0.95, df = 9) # 분위수\n",
    "start = np.mean(can) - tt * np.std(can, ddof = 1) / np.sqrt(10)\n",
    "end = np.mean(can) + tt * np.std(can, ddof = 1) / np.sqrt(10)\n",
    "print(\"(\", start, \", \", end, \")\")"
   ]
  },
  {
   "cell_type": "markdown",
   "metadata": {},
   "source": [
    "### 6.2. 대응비교에 의한 모평균의 비교\n",
    "**대응비교/쌍체비교**\n",
    "\n",
    "예1)"
   ]
  },
  {
   "cell_type": "code",
   "execution_count": 27,
   "metadata": {},
   "outputs": [
    {
     "name": "stdout",
     "output_type": "stream",
     "text": [
      "   purple  green\n",
      "1     3.1    2.2\n",
      "2     3.7    2.7\n",
      "3     4.0    3.1\n",
      "4     3.2    2.9\n",
      "5     3.6    3.3\n",
      "(14, 2)\n"
     ]
    }
   ],
   "source": [
    "import pandas\n",
    "\n",
    "paired = pandas.read_csv(\"week_6/paired.txt\", sep = \" \")\n",
    "print(paired.head())\n",
    "print(paired.shape)"
   ]
  },
  {
   "cell_type": "markdown",
   "metadata": {},
   "source": [
    "아래 T검정 결과를 보면 \n",
    "1. 기각역에 비해 검정통계량 값 6.3381이 작고\n",
    "2. 유의확률이 0.00002584로 매우 작기 때문에 \n",
    "\n",
    "귀무가설 기각할 수 있다"
   ]
  },
  {
   "cell_type": "code",
   "execution_count": 29,
   "metadata": {},
   "outputs": [
    {
     "data": {
      "text/plain": [
       "Ttest_relResult(statistic=6.3380731434065325, pvalue=2.5838913496640584e-05)"
      ]
     },
     "execution_count": 29,
     "metadata": {},
     "output_type": "execute_result"
    }
   ],
   "source": [
    "stats.ttest_rel(paired.purple, paired.green)"
   ]
  },
  {
   "cell_type": "code",
   "execution_count": 40,
   "metadata": {},
   "outputs": [
    {
     "name": "stdout",
     "output_type": "stream",
     "text": [
      "(0.461401, 0.938599)\n"
     ]
    }
   ],
   "source": [
    "diff = paired.purple - paired.green\n",
    "\n",
    "tt = t.ppf(0.975, df = 13)\n",
    "start = np.mean(diff) - tt * np.std(diff, ddof = 1) / np.sqrt(14)\n",
    "end = np.mean(diff) + tt * np.std(diff, ddof = 1) / np.sqrt(14)\n",
    "\n",
    "print(\"(%.6f, %.6f)\" % (start, end))"
   ]
  },
  {
   "cell_type": "code",
   "execution_count": 41,
   "metadata": {},
   "outputs": [
    {
     "data": {
      "image/png": "[encoded data removed]",
      "text/plain": [
       "<Figure size 432x288 with 1 Axes>"
      ]
     },
     "metadata": {
      "needs_background": "light"
     },
     "output_type": "display_data"
    },
    {
     "name": "stdout",
     "output_type": "stream",
     "text": [
      "0.9203648567199707 0.22256828844547272\n"
     ]
    }
   ],
   "source": [
    "# 정규분포 분위수 대조도\n",
    "QQ = ProbPlot(diff)\n",
    "plot = QQ.qqplot(line = 's', color = 'C0', lw = 1)\n",
    "plt.title(\"Normal Q-Q Plot\")\n",
    "plt.show()\n",
    "\n",
    "# Shapiro-Wilk's Normality Test\n",
    "stat, p = shapiro(diff)\n",
    "print(stat, p)"
   ]
  },
  {
   "cell_type": "markdown",
   "metadata": {},
   "source": [
    "예2) -3.24,  pvalue = 0.004, 정규분포 잘 따른다"
   ]
  },
  {
   "cell_type": "code",
   "execution_count": 42,
   "metadata": {},
   "outputs": [
    {
     "data": {
      "text/plain": [
       "Ttest_relResult(statistic=-3.231252665580312, pvalue=0.004394965993185664)"
      ]
     },
     "execution_count": 42,
     "metadata": {},
     "output_type": "execute_result"
    }
   ],
   "source": [
    "before = np.array([18, 21, 16, 22, 19, 24, 17, 21, 23, 18, 14, 16, 16, 19, 18, 20, 12, 22, 15, 17])\n",
    "after = np.array([22, 25, 17, 24, 16, 29, 20, 23, 19, 20, 15, 15, 18, 26, 18, 24, 18, 25, 19, 16])\n",
    "stats.ttest_rel(before, after)"
   ]
  },
  {
   "cell_type": "code",
   "execution_count": 43,
   "metadata": {},
   "outputs": [
    {
     "data": {
      "image/png": "[encoded data removed]",
      "text/plain": [
       "<Figure size 432x288 with 1 Axes>"
      ]
     },
     "metadata": {
      "needs_background": "light"
     },
     "output_type": "display_data"
    },
    {
     "name": "stdout",
     "output_type": "stream",
     "text": [
      "0.968596339225769 0.7249979376792908\n"
     ]
    }
   ],
   "source": [
    "diff = before - after\n",
    "\n",
    "# 정규분포 분위수 대조도\n",
    "QQ = ProbPlot(diff)\n",
    "plot = QQ.qqplot(line = 's', color = 'C0', lw = 1)\n",
    "plt.title(\"Normal Q-Q Plot\")\n",
    "plt.show()\n",
    "\n",
    "# Shapiro-Wilk's Normality Test\n",
    "stat, p = shapiro(diff)\n",
    "print(stat, p)"
   ]
  },
  {
   "cell_type": "markdown",
   "metadata": {},
   "source": [
    "### 6.3. 이표본에 의한 모평균의 비교"
   ]
  },
  {
   "cell_type": "code",
   "execution_count": null,
   "metadata": {},
   "outputs": [],
   "source": []
  },
  {
   "cell_type": "markdown",
   "metadata": {},
   "source": [
    "### 6.4. 두 모분산에 관한 추론\n",
    "함수를 직접 구현해야 함\n",
    "\n",
    "[1] **F 검정** : 등분산성의 검정 \n",
    "\n",
    "예제 1)"
   ]
  },
  {
   "cell_type": "code",
   "execution_count": 57,
   "metadata": {},
   "outputs": [
    {
     "data": {
      "text/html": [
       "<div>\n",
       "<style scoped>\n",
       "    .dataframe tbody tr th:only-of-type {\n",
       "        vertical-align: middle;\n",
       "    }\n",
       "\n",
       "    .dataframe tbody tr th {\n",
       "        vertical-align: top;\n",
       "    }\n",
       "\n",
       "    .dataframe thead th {\n",
       "        text-align: right;\n",
       "    }\n",
       "</style>\n",
       "<table border=\"1\" class=\"dataframe\">\n",
       "  <thead>\n",
       "    <tr style=\"text-align: right;\">\n",
       "      <th></th>\n",
       "      <th>group</th>\n",
       "      <th>time</th>\n",
       "    </tr>\n",
       "  </thead>\n",
       "  <tbody>\n",
       "    <tr>\n",
       "      <th>1</th>\n",
       "      <td>1</td>\n",
       "      <td>49</td>\n",
       "    </tr>\n",
       "    <tr>\n",
       "      <th>2</th>\n",
       "      <td>1</td>\n",
       "      <td>44</td>\n",
       "    </tr>\n",
       "    <tr>\n",
       "      <th>3</th>\n",
       "      <td>1</td>\n",
       "      <td>47</td>\n",
       "    </tr>\n",
       "    <tr>\n",
       "      <th>4</th>\n",
       "      <td>1</td>\n",
       "      <td>44</td>\n",
       "    </tr>\n",
       "    <tr>\n",
       "      <th>5</th>\n",
       "      <td>1</td>\n",
       "      <td>46</td>\n",
       "    </tr>\n",
       "  </tbody>\n",
       "</table>\n",
       "</div>"
      ],
      "text/plain": [
       "   group  time\n",
       "1      1    49\n",
       "2      1    44\n",
       "3      1    47\n",
       "4      1    44\n",
       "5      1    46"
      ]
     },
     "execution_count": 57,
     "metadata": {},
     "output_type": "execute_result"
    }
   ],
   "source": [
    "paint = pandas.read_csv(\"week_6/paint.txt\", sep = \" \")\n",
    "paint.head()"
   ]
  },
  {
   "cell_type": "code",
   "execution_count": 58,
   "metadata": {},
   "outputs": [
    {
     "data": {
      "text/html": [
       "<div>\n",
       "<style scoped>\n",
       "    .dataframe tbody tr th:only-of-type {\n",
       "        vertical-align: middle;\n",
       "    }\n",
       "\n",
       "    .dataframe tbody tr th {\n",
       "        vertical-align: top;\n",
       "    }\n",
       "\n",
       "    .dataframe thead th {\n",
       "        text-align: right;\n",
       "    }\n",
       "</style>\n",
       "<table border=\"1\" class=\"dataframe\">\n",
       "  <thead>\n",
       "    <tr style=\"text-align: right;\">\n",
       "      <th></th>\n",
       "      <th>time</th>\n",
       "    </tr>\n",
       "    <tr>\n",
       "      <th>group</th>\n",
       "      <th></th>\n",
       "    </tr>\n",
       "  </thead>\n",
       "  <tbody>\n",
       "    <tr>\n",
       "      <th>1</th>\n",
       "      <td>45</td>\n",
       "    </tr>\n",
       "    <tr>\n",
       "      <th>2</th>\n",
       "      <td>42</td>\n",
       "    </tr>\n",
       "  </tbody>\n",
       "</table>\n",
       "</div>"
      ],
      "text/plain": [
       "       time\n",
       "group      \n",
       "1        45\n",
       "2        42"
      ]
     },
     "execution_count": 58,
     "metadata": {},
     "output_type": "execute_result"
    }
   ],
   "source": [
    "groupby_group = paint.groupby('group') \n",
    "groupby_group.mean()"
   ]
  },
  {
   "cell_type": "code",
   "execution_count": 74,
   "metadata": {},
   "outputs": [
    {
     "name": "stdout",
     "output_type": "stream",
     "text": [
      " F test to compare two variances: F = 1.83333\n",
      " num df = 9\n",
      " denom df = 9\n",
      " p-value = 0.37999\n"
     ]
    }
   ],
   "source": [
    "from scipy.stats import f\n",
    "\n",
    "def var_test(sample1, sample2):\n",
    "    n1 = len(sample1)\n",
    "    n2 = len(sample2)\n",
    "    \n",
    "#     S1 = sum((sample1 - sample1.mean())**2) / (n1 - 1)\n",
    "#     S2 = sum((sample2 - sample2.mean())**2) / (n2 - 1)\n",
    "    S1 = np.var(sample1, ddof = 1)\n",
    "    S2 = np.var(sample2, ddof = 1)\n",
    "    \n",
    "    dfn = n1 - 1\n",
    "    dfd = n2 - 1\n",
    "    \n",
    "    F = S1/S2\n",
    "    \n",
    "    pval = 2 * min(f.cdf(F, dfn, dfd), 1 - f.cdf(F, dfn, dfd))\n",
    "    \n",
    "    print(\" F test to compare two variances: F = %s\\n num df = %s\\n denom df = %s\\n p-value = %s\" % (round(F, 5), dfn, dfd, round(pval, 5)))\n",
    "\n",
    "group1 = paint[paint.group == 1].time\n",
    "group2 = paint[paint.group == 2].time\n",
    "var_test(group1, group2)"
   ]
  },
  {
   "cell_type": "code",
   "execution_count": 76,
   "metadata": {},
   "outputs": [
    {
     "data": {
      "text/plain": [
       "Ttest_indResult(statistic=2.8180093098831724, pvalue=0.0113883036492929)"
      ]
     },
     "execution_count": 76,
     "metadata": {},
     "output_type": "execute_result"
    }
   ],
   "source": [
    "stats.ttest_ind(group1, group2, equal_var = True)"
   ]
  },
  {
   "cell_type": "code",
   "execution_count": 77,
   "metadata": {},
   "outputs": [
    {
     "data": {
      "text/plain": [
       "0.00569415182464645"
      ]
     },
     "execution_count": 77,
     "metadata": {},
     "output_type": "execute_result"
    }
   ],
   "source": [
    "0.0113883036492929 / 2"
   ]
  },
  {
   "cell_type": "code",
   "execution_count": 78,
   "metadata": {},
   "outputs": [],
   "source": [
    "# 정규분포 가정에 대한 확인까지 해야 문제 온전히 푼 것"
   ]
  },
  {
   "cell_type": "markdown",
   "metadata": {},
   "source": [
    "예 2)"
   ]
  },
  {
   "cell_type": "code",
   "execution_count": 79,
   "metadata": {},
   "outputs": [],
   "source": [
    "group1 = np.array([22, 23, 25, 26, 27, 19, 22, 28, 33, 24])\n",
    "group2 = np.array([21, 25, 36, 24, 33, 28, 29, 31, 30, 32, 33, 35])"
   ]
  },
  {
   "cell_type": "markdown",
   "metadata": {},
   "source": [
    "### 6.5. 자료를 이용한 예제\n",
    "\n",
    "예제 1)\n",
    "\n",
    "- 73개의 강의 선택, 각 강의에 쓰이는 교재는 일치\n",
    "- 동일한 교재의 온라인 오프라인이므로 독립이 아닌 쌍체로 볼 수 있음.\n",
    "- 따라서 대응 비교를 수행해야 한다."
   ]
  },
  {
   "cell_type": "code",
   "execution_count": 95,
   "metadata": {},
   "outputs": [
    {
     "data": {
      "text/html": [
       "<div>\n",
       "<style scoped>\n",
       "    .dataframe tbody tr th:only-of-type {\n",
       "        vertical-align: middle;\n",
       "    }\n",
       "\n",
       "    .dataframe tbody tr th {\n",
       "        vertical-align: top;\n",
       "    }\n",
       "\n",
       "    .dataframe thead th {\n",
       "        text-align: right;\n",
       "    }\n",
       "</style>\n",
       "<table border=\"1\" class=\"dataframe\">\n",
       "  <thead>\n",
       "    <tr style=\"text-align: right;\">\n",
       "      <th></th>\n",
       "      <th>deptAbbr</th>\n",
       "      <th>course</th>\n",
       "      <th>ibsn</th>\n",
       "      <th>uclaNew</th>\n",
       "      <th>amazNew</th>\n",
       "      <th>more</th>\n",
       "      <th>diff</th>\n",
       "    </tr>\n",
       "  </thead>\n",
       "  <tbody>\n",
       "    <tr>\n",
       "      <th>1</th>\n",
       "      <td>Am Ind</td>\n",
       "      <td>C170</td>\n",
       "      <td>978-0803272620</td>\n",
       "      <td>27.67</td>\n",
       "      <td>27.95</td>\n",
       "      <td>Y</td>\n",
       "      <td>-0.28</td>\n",
       "    </tr>\n",
       "    <tr>\n",
       "      <th>2</th>\n",
       "      <td>Anthro</td>\n",
       "      <td>9</td>\n",
       "      <td>978-0030119194</td>\n",
       "      <td>40.59</td>\n",
       "      <td>31.14</td>\n",
       "      <td>Y</td>\n",
       "      <td>9.45</td>\n",
       "    </tr>\n",
       "    <tr>\n",
       "      <th>3</th>\n",
       "      <td>Anthro</td>\n",
       "      <td>135T</td>\n",
       "      <td>978-0300080643</td>\n",
       "      <td>31.68</td>\n",
       "      <td>32.00</td>\n",
       "      <td>Y</td>\n",
       "      <td>-0.32</td>\n",
       "    </tr>\n",
       "    <tr>\n",
       "      <th>4</th>\n",
       "      <td>Anthro</td>\n",
       "      <td>191HB</td>\n",
       "      <td>978-0226206813</td>\n",
       "      <td>16.00</td>\n",
       "      <td>11.52</td>\n",
       "      <td>Y</td>\n",
       "      <td>4.48</td>\n",
       "    </tr>\n",
       "    <tr>\n",
       "      <th>5</th>\n",
       "      <td>Art His</td>\n",
       "      <td>M102K</td>\n",
       "      <td>978-0892365999</td>\n",
       "      <td>18.95</td>\n",
       "      <td>14.21</td>\n",
       "      <td>Y</td>\n",
       "      <td>4.74</td>\n",
       "    </tr>\n",
       "  </tbody>\n",
       "</table>\n",
       "</div>"
      ],
      "text/plain": [
       "  deptAbbr course            ibsn  uclaNew  amazNew more  diff\n",
       "1   Am Ind   C170  978-0803272620    27.67    27.95    Y -0.28\n",
       "2   Anthro      9  978-0030119194    40.59    31.14    Y  9.45\n",
       "3   Anthro   135T  978-0300080643    31.68    32.00    Y -0.32\n",
       "4   Anthro  191HB  978-0226206813    16.00    11.52    Y  4.48\n",
       "5  Art His  M102K  978-0892365999    18.95    14.21    Y  4.74"
      ]
     },
     "execution_count": 95,
     "metadata": {},
     "output_type": "execute_result"
    }
   ],
   "source": [
    "import pandas\n",
    "data = pandas.read_csv(\"week_6/textbooks.txt\", sep = \" \")\n",
    "data.head()"
   ]
  },
  {
   "cell_type": "code",
   "execution_count": null,
   "metadata": {},
   "outputs": [],
   "source": [
    "plt.scatter(data)\n",
    "plt.show()"
   ]
  },
  {
   "cell_type": "code",
   "execution_count": 97,
   "metadata": {},
   "outputs": [
    {
     "data": {
      "text/plain": [
       "Ttest_relResult(statistic=7.648771112479753, pvalue=6.927581126065491e-11)"
      ]
     },
     "execution_count": 97,
     "metadata": {},
     "output_type": "execute_result"
    }
   ],
   "source": [
    "stats.ttest_rel(data.uclaNew, data.amazNew)"
   ]
  },
  {
   "cell_type": "markdown",
   "metadata": {},
   "source": [
    "**정규분포 가정 확인**"
   ]
  },
  {
   "cell_type": "code",
   "execution_count": 96,
   "metadata": {},
   "outputs": [
    {
     "data": {
      "image/png": "[encoded data removed]",
      "text/plain": [
       "<Figure size 432x288 with 1 Axes>"
      ]
     },
     "metadata": {
      "needs_background": "light"
     },
     "output_type": "display_data"
    },
    {
     "name": "stdout",
     "output_type": "stream",
     "text": [
      "0.8645144104957581 1.3152488236300997e-06\n"
     ]
    }
   ],
   "source": [
    "diff = data.uclaNew - data.amazNew\n",
    "\n",
    "# 정규분포 분위수 대조도\n",
    "QQ = ProbPlot(diff)\n",
    "plot = QQ.qqplot(line = 's', color = 'C0', lw = 1)\n",
    "plt.title(\"Normal Q-Q Plot\")\n",
    "plt.show()\n",
    "\n",
    "# Shapiro-Wilk's Normality Test\n",
    "stat, p = shapiro(diff)\n",
    "print(stat, p)"
   ]
  },
  {
   "cell_type": "markdown",
   "metadata": {},
   "source": [
    "\n",
    "정규분포가 아니다.\n",
    "1. \n",
    "2. 비모수 방법을 택한다 (수업의 수준 초과)\n",
    "     - 부채꼴이 점점 넓어지고 퍼지는 분포를 가진다.\n",
    "     - 따라서 **log transformation**을 통해 편차를 줄이는 방법을 선택하곤 한다.\n"
   ]
  },
  {
   "cell_type": "code",
   "execution_count": 98,
   "metadata": {
    "scrolled": true
   },
   "outputs": [
    {
     "data": {
      "image/png": "[encoded data removed]",
      "text/plain": [
       "<Figure size 432x288 with 1 Axes>"
      ]
     },
     "metadata": {
      "needs_background": "light"
     },
     "output_type": "display_data"
    },
    {
     "name": "stdout",
     "output_type": "stream",
     "text": [
      "0.9612739682197571 0.024542562663555145\n"
     ]
    }
   ],
   "source": [
    "diff = np.log(data.uclaNew) - np.log(data.amazNew)\n",
    "\n",
    "# 정규분포 분위수 대조도\n",
    "QQ = ProbPlot(diff)\n",
    "plot = QQ.qqplot(line = 's', color = 'C0', lw = 1)\n",
    "plt.title(\"Normal Q-Q Plot\")\n",
    "plt.show()\n",
    "\n",
    "# Shapiro-Wilk's Normality Test\n",
    "stat, p = shapiro(diff)\n",
    "print(stat, p)"
   ]
  },
  {
   "cell_type": "markdown",
   "metadata": {},
   "source": [
    "예제 2)"
   ]
  }
 ],
 "metadata": {
  "kernelspec": {
   "display_name": "Python 3",
   "language": "python",
   "name": "python3"
  },
  "language_info": {
   "codemirror_mode": {
    "name": "ipython",
    "version": 3
   },
   "file_extension": ".py",
   "mimetype": "text/x-python",
   "name": "python",
   "nbconvert_exporter": "python",
   "pygments_lexer": "ipython3",
   "version": "3.7.3"
  }
 },
 "nbformat": 4,
 "nbformat_minor": 2
}
