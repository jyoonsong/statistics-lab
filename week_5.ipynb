{
 "cells": [
  {
   "cell_type": "markdown",
   "metadata": {},
   "source": [
    "## 5장. 통계적 추론\n",
    "\n",
    "### 5.1. 점추정\n",
    "\n",
    "표본평균은 모평균의 불편추정량\n",
    "표본분산은 모분산의 불편추정량\n",
    "\n",
    "예) 다음의 표는 어떤 과즙의 당분 함량을 화학분석에 의해 얻은 것이다. 이로부터 당분의 (모)평균함량, (모)표준편차를 추정해보자.\n",
    "> 주어진 표본의 표본평균과 표본표준편차를 통해 추정할 수 있음."
   ]
  },
  {
   "cell_type": "code",
   "execution_count": 2,
   "metadata": {},
   "outputs": [
    {
     "name": "stdout",
     "output_type": "stream",
     "text": [
      "14.63\n",
      "0.783226943129796\n"
     ]
    }
   ],
   "source": [
    "import numpy as np\n",
    "x = np.array([14.0, 14.2, 15.1, 13.7, 14.5, 15.6, 14.8, 15.1, 13.5, 15.8])\n",
    "print(x.mean())\n",
    "print(x.std(ddof = 1))"
   ]
  },
  {
   "cell_type": "code",
   "execution_count": 3,
   "metadata": {},
   "outputs": [
    {
     "data": {
      "text/plain": [
       "0.783226943129796"
      ]
     },
     "execution_count": 3,
     "metadata": {},
     "output_type": "execute_result"
    }
   ],
   "source": [
    "# 표본분산: n-1으로 나눈 값\n",
    "# std(ddof = 1)\n",
    "np.sqrt( ((x - x.mean())**2).sum() / 9 )"
   ]
  },
  {
   "cell_type": "code",
   "execution_count": 4,
   "metadata": {},
   "outputs": [
    {
     "data": {
      "text/plain": [
       "0.7430343195303971"
      ]
     },
     "execution_count": 4,
     "metadata": {},
     "output_type": "execute_result"
    }
   ],
   "source": [
    "# 모분산: n으로 나눈 값\n",
    "# std(ddof = 0)\n",
    "np.sqrt( ((x - x.mean())**2).sum() / 10 )"
   ]
  },
  {
   "cell_type": "markdown",
   "metadata": {},
   "source": [
    "### 5.2. 구간추정\n",
    "\n",
    "- `ppf(q, loc, scale)` : 정규분포의 100 * (1-alpha) 분위수\n"
   ]
  },
  {
   "cell_type": "code",
   "execution_count": 5,
   "metadata": {
    "scrolled": true
   },
   "outputs": [
    {
     "name": "stdout",
     "output_type": "stream",
     "text": [
      "0.952\n"
     ]
    }
   ],
   "source": [
    "from scipy.stats import norm\n",
    "\n",
    "np.random.seed(1)\n",
    "\n",
    "alpha = 0.05\n",
    "mu = 0\n",
    "sigma = 1\n",
    "\n",
    "size = 50\n",
    "\n",
    "count = 0\n",
    "n = norm(loc = mu, scale = sigma)\n",
    "\n",
    "for i in range(1000):\n",
    "    x = n.rvs(size = size)\n",
    "    upper = x.mean() + n.ppf(1 - alpha/2) * (sigma/np.sqrt(size))\n",
    "    lower = x.mean() - n.ppf(1 - alpha/2) * (sigma/np.sqrt(size))\n",
    "    \n",
    "    if (lower < mu) & (mu < upper):\n",
    "        count = count + 1\n",
    "        \n",
    "print(count / 1000)"
   ]
  },
  {
   "cell_type": "markdown",
   "metadata": {},
   "source": [
    "### 5.3. 가설 검정"
   ]
  },
  {
   "cell_type": "code",
   "execution_count": 6,
   "metadata": {},
   "outputs": [
    {
     "name": "stdout",
     "output_type": "stream",
     "text": [
      " z0 = 2.500 \n",
      " critical region: >= 1.645 \n",
      " p-value = 0.006\n"
     ]
    }
   ],
   "source": [
    "# \"1500보다 크다\" 주장\n",
    "sd = 100\n",
    "n = 25\n",
    "xbar = 1550\n",
    "mu = 1500\n",
    "\n",
    "z0 = (xbar - mu) / (sd / np.sqrt(n))\n",
    "\n",
    "CR = norm.ppf(0.95, loc = 0, scale = 1) # critical region (기각역)\n",
    "\n",
    "p_val = 1 - norm.cdf(z0, loc = 0, scale = 1)\n",
    "\n",
    "print(\" z0 = %.3f \\n critical region: >= %.3f \\n p-value = %.3f\" % (z0, CR, p_val))"
   ]
  },
  {
   "cell_type": "code",
   "execution_count": 7,
   "metadata": {},
   "outputs": [
    {
     "name": "stdout",
     "output_type": "stream",
     "text": [
      " z0 = -2.169 \n",
      " critical region: <= -1.645 \n",
      " p-value = 0.985\n"
     ]
    }
   ],
   "source": [
    "# 예\n",
    "sd = 10\n",
    "n = 15\n",
    "xbar = 294.4\n",
    "mu = 300\n",
    "\n",
    "z0 = (xbar - mu) / (sd / np.sqrt(n))\n",
    "\n",
    "CR = norm.ppf(0.95, loc = 0, scale = 1) # critical region (기각역)\n",
    "\n",
    "p_val = 1 - norm.cdf(z0, loc = 0, scale = 1)\n",
    "\n",
    "print(\" z0 = %.3f \\n critical region: <= -%.3f \\n p-value = %.3f\" % (z0, CR, p_val))"
   ]
  },
  {
   "cell_type": "markdown",
   "metadata": {},
   "source": [
    "### 5.4. 자료를 이용한 예제"
   ]
  },
  {
   "cell_type": "code",
   "execution_count": 8,
   "metadata": {},
   "outputs": [
    {
     "data": {
      "text/html": [
       "<div>\n",
       "<style scoped>\n",
       "    .dataframe tbody tr th:only-of-type {\n",
       "        vertical-align: middle;\n",
       "    }\n",
       "\n",
       "    .dataframe tbody tr th {\n",
       "        vertical-align: top;\n",
       "    }\n",
       "\n",
       "    .dataframe thead th {\n",
       "        text-align: right;\n",
       "    }\n",
       "</style>\n",
       "<table border=\"1\" class=\"dataframe\">\n",
       "  <thead>\n",
       "    <tr style=\"text-align: right;\">\n",
       "      <th></th>\n",
       "      <th>Order</th>\n",
       "      <th>PID</th>\n",
       "      <th>MS.SubClass</th>\n",
       "      <th>MS.Zoning</th>\n",
       "      <th>Lot.Frontage</th>\n",
       "      <th>Lot.Area</th>\n",
       "      <th>Street</th>\n",
       "      <th>Alley</th>\n",
       "      <th>Lot.Shape</th>\n",
       "      <th>Land.Contour</th>\n",
       "      <th>...</th>\n",
       "      <th>Pool.Area</th>\n",
       "      <th>Pool.QC</th>\n",
       "      <th>Fence</th>\n",
       "      <th>Misc.Feature</th>\n",
       "      <th>Misc.Val</th>\n",
       "      <th>Mo.Sold</th>\n",
       "      <th>Yr.Sold</th>\n",
       "      <th>Sale.Type</th>\n",
       "      <th>Sale.Condition</th>\n",
       "      <th>SalePrice</th>\n",
       "    </tr>\n",
       "  </thead>\n",
       "  <tbody>\n",
       "    <tr>\n",
       "      <th>0</th>\n",
       "      <td>1</td>\n",
       "      <td>526301100</td>\n",
       "      <td>20</td>\n",
       "      <td>RL</td>\n",
       "      <td>141.0</td>\n",
       "      <td>31770</td>\n",
       "      <td>Pave</td>\n",
       "      <td>NaN</td>\n",
       "      <td>IR1</td>\n",
       "      <td>Lvl</td>\n",
       "      <td>...</td>\n",
       "      <td>0</td>\n",
       "      <td>NaN</td>\n",
       "      <td>NaN</td>\n",
       "      <td>NaN</td>\n",
       "      <td>0</td>\n",
       "      <td>5</td>\n",
       "      <td>2010</td>\n",
       "      <td>WD</td>\n",
       "      <td>Normal</td>\n",
       "      <td>215000</td>\n",
       "    </tr>\n",
       "    <tr>\n",
       "      <th>1</th>\n",
       "      <td>2</td>\n",
       "      <td>526350040</td>\n",
       "      <td>20</td>\n",
       "      <td>RH</td>\n",
       "      <td>80.0</td>\n",
       "      <td>11622</td>\n",
       "      <td>Pave</td>\n",
       "      <td>NaN</td>\n",
       "      <td>Reg</td>\n",
       "      <td>Lvl</td>\n",
       "      <td>...</td>\n",
       "      <td>0</td>\n",
       "      <td>NaN</td>\n",
       "      <td>MnPrv</td>\n",
       "      <td>NaN</td>\n",
       "      <td>0</td>\n",
       "      <td>6</td>\n",
       "      <td>2010</td>\n",
       "      <td>WD</td>\n",
       "      <td>Normal</td>\n",
       "      <td>105000</td>\n",
       "    </tr>\n",
       "    <tr>\n",
       "      <th>2</th>\n",
       "      <td>3</td>\n",
       "      <td>526351010</td>\n",
       "      <td>20</td>\n",
       "      <td>RL</td>\n",
       "      <td>81.0</td>\n",
       "      <td>14267</td>\n",
       "      <td>Pave</td>\n",
       "      <td>NaN</td>\n",
       "      <td>IR1</td>\n",
       "      <td>Lvl</td>\n",
       "      <td>...</td>\n",
       "      <td>0</td>\n",
       "      <td>NaN</td>\n",
       "      <td>NaN</td>\n",
       "      <td>Gar2</td>\n",
       "      <td>12500</td>\n",
       "      <td>6</td>\n",
       "      <td>2010</td>\n",
       "      <td>WD</td>\n",
       "      <td>Normal</td>\n",
       "      <td>172000</td>\n",
       "    </tr>\n",
       "    <tr>\n",
       "      <th>3</th>\n",
       "      <td>4</td>\n",
       "      <td>526353030</td>\n",
       "      <td>20</td>\n",
       "      <td>RL</td>\n",
       "      <td>93.0</td>\n",
       "      <td>11160</td>\n",
       "      <td>Pave</td>\n",
       "      <td>NaN</td>\n",
       "      <td>Reg</td>\n",
       "      <td>Lvl</td>\n",
       "      <td>...</td>\n",
       "      <td>0</td>\n",
       "      <td>NaN</td>\n",
       "      <td>NaN</td>\n",
       "      <td>NaN</td>\n",
       "      <td>0</td>\n",
       "      <td>4</td>\n",
       "      <td>2010</td>\n",
       "      <td>WD</td>\n",
       "      <td>Normal</td>\n",
       "      <td>244000</td>\n",
       "    </tr>\n",
       "    <tr>\n",
       "      <th>4</th>\n",
       "      <td>5</td>\n",
       "      <td>527105010</td>\n",
       "      <td>60</td>\n",
       "      <td>RL</td>\n",
       "      <td>74.0</td>\n",
       "      <td>13830</td>\n",
       "      <td>Pave</td>\n",
       "      <td>NaN</td>\n",
       "      <td>IR1</td>\n",
       "      <td>Lvl</td>\n",
       "      <td>...</td>\n",
       "      <td>0</td>\n",
       "      <td>NaN</td>\n",
       "      <td>MnPrv</td>\n",
       "      <td>NaN</td>\n",
       "      <td>0</td>\n",
       "      <td>3</td>\n",
       "      <td>2010</td>\n",
       "      <td>WD</td>\n",
       "      <td>Normal</td>\n",
       "      <td>189900</td>\n",
       "    </tr>\n",
       "  </tbody>\n",
       "</table>\n",
       "<p>5 rows × 82 columns</p>\n",
       "</div>"
      ],
      "text/plain": [
       "   Order        PID  MS.SubClass MS.Zoning  Lot.Frontage  Lot.Area Street  \\\n",
       "0      1  526301100           20        RL         141.0     31770   Pave   \n",
       "1      2  526350040           20        RH          80.0     11622   Pave   \n",
       "2      3  526351010           20        RL          81.0     14267   Pave   \n",
       "3      4  526353030           20        RL          93.0     11160   Pave   \n",
       "4      5  527105010           60        RL          74.0     13830   Pave   \n",
       "\n",
       "  Alley Lot.Shape Land.Contour  ... Pool.Area Pool.QC  Fence Misc.Feature  \\\n",
       "0   NaN       IR1          Lvl  ...         0     NaN    NaN          NaN   \n",
       "1   NaN       Reg          Lvl  ...         0     NaN  MnPrv          NaN   \n",
       "2   NaN       IR1          Lvl  ...         0     NaN    NaN         Gar2   \n",
       "3   NaN       Reg          Lvl  ...         0     NaN    NaN          NaN   \n",
       "4   NaN       IR1          Lvl  ...         0     NaN  MnPrv          NaN   \n",
       "\n",
       "  Misc.Val Mo.Sold Yr.Sold Sale.Type  Sale.Condition  SalePrice  \n",
       "0        0       5    2010       WD           Normal     215000  \n",
       "1        0       6    2010       WD           Normal     105000  \n",
       "2    12500       6    2010       WD           Normal     172000  \n",
       "3        0       4    2010       WD           Normal     244000  \n",
       "4        0       3    2010       WD           Normal     189900  \n",
       "\n",
       "[5 rows x 82 columns]"
      ]
     },
     "execution_count": 8,
     "metadata": {},
     "output_type": "execute_result"
    }
   ],
   "source": [
    "import numpy as np\n",
    "import matplotlib.pyplot as plt\n",
    "import pandas\n",
    "\n",
    "data = pandas.read_csv(\"ames_2.csv\")\n",
    "livarea = data[\"Gr.Liv.Area\"]\n",
    "data.head(5)"
   ]
  },
  {
   "cell_type": "markdown",
   "metadata": {},
   "source": [
    "**예제 1**"
   ]
  },
  {
   "cell_type": "code",
   "execution_count": 9,
   "metadata": {},
   "outputs": [
    {
     "name": "stdout",
     "output_type": "stream",
     "text": [
      "1499.6904436860068\n",
      "255539.2353132209\n"
     ]
    }
   ],
   "source": [
    "from scipy.stats import norm\n",
    "import numpy as np\n",
    "\n",
    "pop_mean = livarea.mean()\n",
    "pop_std = livarea.std()\n",
    "\n",
    "print( pop_mean )\n",
    "print( pop_std**2 )"
   ]
  },
  {
   "cell_type": "code",
   "execution_count": 10,
   "metadata": {},
   "outputs": [
    {
     "name": "stdout",
     "output_type": "stream",
     "text": [
      "505.4226157950803\n",
      "505.4226157950803\n",
      "count    2930.000000\n",
      "mean     1499.690444\n",
      "std       505.508887\n",
      "min       334.000000\n",
      "25%      1126.000000\n",
      "50%      1442.000000\n",
      "75%      1742.750000\n",
      "max      5642.000000\n",
      "Name: Gr.Liv.Area, dtype: float64\n",
      "505.5088874720413\n",
      "505.5088874720413\n"
     ]
    }
   ],
   "source": [
    "# pop\n",
    "print( livarea.std(ddof = 0) )\n",
    "print( np.std(livarea) )\n",
    "\n",
    "# sample\n",
    "print( livarea.describe() )\n",
    "print( livarea.std() )\n",
    "print( np.std(livarea, ddof = 1) )"
   ]
  },
  {
   "cell_type": "markdown",
   "metadata": {},
   "source": [
    "**예제 2**"
   ]
  },
  {
   "cell_type": "code",
   "execution_count": 11,
   "metadata": {},
   "outputs": [
    {
     "name": "stdout",
     "output_type": "stream",
     "text": [
      "1499.4833333333333\n"
     ]
    }
   ],
   "source": [
    "np.random.seed(1)\n",
    "n = 60\n",
    "\n",
    "sample = livarea.sample(n)\n",
    "\n",
    "print(sample.mean())"
   ]
  },
  {
   "cell_type": "markdown",
   "metadata": {},
   "source": [
    "**예제 3**\n",
    "\n",
    "신뢰구간이 모평균을 포함한다"
   ]
  },
  {
   "cell_type": "code",
   "execution_count": 12,
   "metadata": {
    "scrolled": true
   },
   "outputs": [
    {
     "name": "stdout",
     "output_type": "stream",
     "text": [
      "( 1371.5742869027151 ,  1627.3923797639516 )\n"
     ]
    }
   ],
   "source": [
    "alpha = 0.05\n",
    "standard = norm(loc = 0, scale = 1)\n",
    "\n",
    "upper = sample.mean() + standard.ppf(1 - alpha/2) * (pop_std/np.sqrt(n))\n",
    "lower = sample.mean() - standard.ppf(1 - alpha/2) * (pop_std/np.sqrt(n))\n",
    "    \n",
    "print(\"(\", lower, \", \", upper, \")\")"
   ]
  },
  {
   "cell_type": "code",
   "execution_count": 13,
   "metadata": {},
   "outputs": [
    {
     "name": "stdout",
     "output_type": "stream",
     "text": [
      "[array([1353.79095357, 1452.40762024, 1419.05762024, 1372.4242869 ,\n",
      "       1331.19095357, 1355.4742869 , 1418.55762024, 1392.5242869 ,\n",
      "       1403.9742869 , 1305.64095357, 1515.44095357, 1254.45762024,\n",
      "       1404.80762024, 1166.7242869 , 1483.90762024, 1302.4742869 ,\n",
      "       1389.74095357, 1449.44095357, 1409.84095357, 1360.7242869 ,\n",
      "       1421.0242869 , 1363.8742869 , 1433.99095357, 1280.25762024,\n",
      "       1408.99095357, 1400.19095357, 1348.8742869 , 1369.25762024,\n",
      "       1326.04095357, 1341.69095357, 1377.5742869 , 1410.30762024,\n",
      "       1351.74095357, 1411.1242869 , 1307.7242869 , 1312.45762024,\n",
      "       1389.40762024, 1336.90762024, 1489.55762024, 1300.75762024,\n",
      "       1374.15762024, 1363.44095357, 1408.45762024, 1425.55762024,\n",
      "       1355.0242869 , 1309.7242869 , 1305.4242869 , 1380.6742869 ,\n",
      "       1415.09095357, 1351.15762024]), array([1609.60904643, 1708.2257131 , 1674.8757131 , 1628.24237976,\n",
      "       1587.00904643, 1611.29237976, 1674.3757131 , 1648.34237976,\n",
      "       1659.79237976, 1561.45904643, 1771.25904643, 1510.2757131 ,\n",
      "       1660.6257131 , 1422.54237976, 1739.7257131 , 1558.29237976,\n",
      "       1645.55904643, 1705.25904643, 1665.65904643, 1616.54237976,\n",
      "       1676.84237976, 1619.69237976, 1689.80904643, 1536.0757131 ,\n",
      "       1664.80904643, 1656.00904643, 1604.69237976, 1625.0757131 ,\n",
      "       1581.85904643, 1597.50904643, 1633.39237976, 1666.1257131 ,\n",
      "       1607.55904643, 1666.94237976, 1563.54237976, 1568.2757131 ,\n",
      "       1645.2257131 , 1592.7257131 , 1745.3757131 , 1556.5757131 ,\n",
      "       1629.9757131 , 1619.25904643, 1664.2757131 , 1681.3757131 ,\n",
      "       1610.84237976, 1565.54237976, 1561.24237976, 1636.49237976,\n",
      "       1670.90904643, 1606.9757131 ])]\n",
      "[[1353.79095357 1609.60904643]\n",
      " [1452.40762024 1708.2257131 ]\n",
      " [1419.05762024 1674.8757131 ]\n",
      " [1372.4242869  1628.24237976]\n",
      " [1331.19095357 1587.00904643]]\n",
      "[1353.79095357 1609.60904643]\n"
     ]
    }
   ],
   "source": [
    "upper = []\n",
    "lower = []\n",
    "count = 0\n",
    "\n",
    "for i in range(50):\n",
    "    sample = np.random.choice( livarea, n )\n",
    "    upper.append( sample.mean() + standard.ppf(1 - alpha/2) * (pop_std/np.sqrt(n)) )\n",
    "    lower.append( sample.mean() - standard.ppf(1 - alpha/2) * (pop_std/np.sqrt(n)) )\n",
    "\n",
    "lo = np.array(lower)\n",
    "hi = np.array(upper)\n",
    "m = livarea.mean()\n",
    "\n",
    "y = np.array([lo, hi]).T\n",
    "print([lo, hi])\n",
    "print(y[:5]) # check five in the front\n",
    "print(y[0])"
   ]
  },
  {
   "cell_type": "markdown",
   "metadata": {},
   "source": [
    "* `plt.vlines(xpos, ypos, length, color, linestyle)` : 수직선 만들기\n",
    "    * 시작점이 (m, -2)\n",
    "* `plt.axis(\"off\")` : 축 제거\n",
    "* `plt.text(xpos, ypos, text)`: 글씨 쓰기\n",
    "    * `xpos = m * 0.99` : 모평균보다 살짝 작게 쓰려고\n",
    "    * `ypos = -3`\n",
    "    * `$\\mu$`: 뮤 기호 출력"
   ]
  },
  {
   "cell_type": "code",
   "execution_count": 14,
   "metadata": {},
   "outputs": [],
   "source": [
    "import matplotlib.pyplot as plt\n",
    "\n",
    "def plot_ci(lo, hi, m):\n",
    "    \n",
    "    k = len(lo)\n",
    "    \n",
    "    plt.figure(figsize = (10, 6), dpi = 80)\n",
    "    plt.vlines(m, -2, 41 * k / 40, color = \"C0\", linestyle = \"--\")\n",
    "    \n",
    "    # SIMPLE VER\n",
    "    plt.axis(\"off\")\n",
    "    # COMPLEX VER\n",
    "#     plt.xticks([])\n",
    "#     plt.yticks([])\n",
    "    \n",
    "#     ax = plt.gca()\n",
    "#     ax.spines['right'].set_color('none')\n",
    "#     ax.spines['left'].set_color('none')\n",
    "#     ax.spines['top'].set_color('none')\n",
    "#     ax.spines['bottom'].set_color('none')\n",
    "    \n",
    "    # SIMPLE VER\n",
    "    plt.text(m * 0.99, -3, '$\\mu$ = %.3f' % m)\n",
    "    # COMPLEX VER\n",
    "#     plt.annotate(r '$\\mu = %s$' % round(m, 3), \n",
    "#                 xy = (m, 0),\n",
    "#                 xcoords = \"data\",\n",
    "#                 xytext = (m-25, -30),\n",
    "#                 fontsize = 14,\n",
    "#                 textcoords = 'offset points')\n",
    "            \n",
    "    # 50 * 2 행렬 생성\n",
    "    y = np.array([lo, hi]).T\n",
    "    \n",
    "    for i in range(k):\n",
    "        ci = y[i] # [lower bound, upper bound]\n",
    "        mean = y[i].mean() # 표본평균과 동일\n",
    "        \n",
    "        # red dashed line\n",
    "        if (lo[i] > m) or (m > hi[i]):\n",
    "            plt.plot(mean, i, \"C3o\")\n",
    "            plt.hlines(y = i, xmin = ci[0], xmax = ci[1], colors = 'r', linestyles = \"dashed\")\n",
    "        \n",
    "        # black line with orange dot\n",
    "        else:\n",
    "            plt.plot(mean, i, \"C1o\")\n",
    "            plt.hlines(y = i, xmin = ci[0], xmax = ci[1])\n",
    "            \n",
    "    plt.show()"
   ]
  },
  {
   "cell_type": "code",
   "execution_count": 15,
   "metadata": {},
   "outputs": [
    {
     "data": {
      "image/png": "[encoded data removed]",
      "text/plain": [
       "<Figure size 800x480 with 1 Axes>"
      ]
     },
     "metadata": {
      "needs_background": "light"
     },
     "output_type": "display_data"
    }
   ],
   "source": [
    "plot_ci(lo, hi, m)"
   ]
  },
  {
   "cell_type": "code",
   "execution_count": 27,
   "metadata": {},
   "outputs": [
    {
     "name": "stdout",
     "output_type": "stream",
     "text": [
      "1499.6904436860068\n",
      "255452.02055714134\n",
      "255452.02055714134\n"
     ]
    }
   ],
   "source": [
    "import pandas as pd \n",
    "data = pd.read_csv(\"ames.csv\")\n",
    "livarea = data[\"Gr.Liv.Area\"]\n",
    "\n",
    "print( livarea.mean() )\n",
    "print( livarea.std(ddof = 0) ** 2 )\n",
    "print( np.std(livarea) ** 2 )"
   ]
  },
  {
   "cell_type": "code",
   "execution_count": null,
   "metadata": {},
   "outputs": [],
   "source": []
  }
 ],
 "metadata": {
  "kernelspec": {
   "display_name": "Python 3",
   "language": "python",
   "name": "python3"
  },
  "language_info": {
   "codemirror_mode": {
    "name": "ipython",
    "version": 3
   },
   "file_extension": ".py",
   "mimetype": "text/x-python",
   "name": "python",
   "nbconvert_exporter": "python",
   "pygments_lexer": "ipython3",
   "version": "3.7.3"
  }
 },
 "nbformat": 4,
 "nbformat_minor": 2
}
