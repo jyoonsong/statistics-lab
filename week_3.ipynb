{
 "cells": [
  {
   "cell_type": "markdown",
   "metadata": {},
   "source": [
    "## 3.1. 벡터와 행렬\n",
    "\n",
    "### 3.1.1. 벡터\n",
    "\n",
    "- `full(size, value)`: value가 size개 들어있는 integer 벡터\n",
    "- `zeros(size, dtype = float)`: 0이 size개 들어있는 float 벡터\n",
    "- `ones(size, dtype = float)`: 1이 size개 들어있는 float 벡터"
   ]
  },
  {
   "cell_type": "code",
   "execution_count": 2,
   "metadata": {},
   "outputs": [
    {
     "name": "stdout",
     "output_type": "stream",
     "text": [
      "[0 0 0 0 0 0]\n",
      "[0. 0. 0. 0. 0. 0.]\n",
      "[0 0 0 0 0 0]\n"
     ]
    }
   ],
   "source": [
    "import numpy as np\n",
    "\n",
    "a1 = np.full(6, 0) # integer\n",
    "a2 = np.zeros(6) # default float\n",
    "a3 = np.zeros(6, dtype = int) # integer\n",
    "\n",
    "print(a1)\n",
    "print(a2)\n",
    "print(a3)"
   ]
  },
  {
   "cell_type": "code",
   "execution_count": 3,
   "metadata": {},
   "outputs": [
    {
     "name": "stdout",
     "output_type": "stream",
     "text": [
      "[1 1 1 1 1 1]\n",
      "[1. 1. 1. 1. 1. 1.]\n",
      "[1 1 1 1 1 1]\n"
     ]
    }
   ],
   "source": [
    "b1 = np.full(6, 1) # 개수, 값\n",
    "b2 = np.ones(6)    # 개수만 parameter로 받음. method 자체가 값 지정.\n",
    "b3 = np.ones(6, dtype = int)\n",
    "\n",
    "print(b1)\n",
    "print(b2)\n",
    "print(b3)"
   ]
  },
  {
   "cell_type": "markdown",
   "metadata": {},
   "source": [
    "**np.arrange**\n",
    "\n",
    "- "
   ]
  },
  {
   "cell_type": "code",
   "execution_count": 4,
   "metadata": {},
   "outputs": [
    {
     "name": "stdout",
     "output_type": "stream",
     "text": [
      "[0 1 2 3 4 5]\n",
      "[2 3 4 5 6]\n",
      "[ 3  6  9 12 15]\n"
     ]
    }
   ],
   "source": [
    "c1 = np.arange(6) # arange(k): 0 ~ k-1까지 정수\n",
    "c2 = np.arange(2, 7) # arange(m, n): m ~ n-1까지 정수\n",
    "c3 = np.arange(3, 17, 3) # arange(m, n, d): m~ n-1까지 d간격으로\n",
    "\n",
    "print(c1)\n",
    "print(c2)\n",
    "print(c3)"
   ]
  },
  {
   "cell_type": "markdown",
   "metadata": {},
   "source": [
    "**np.random**\n",
    "\n",
    "- `rand(k)`: 0~1에서 k개 난수 생성\n",
    "- `randn(k)`: 표준정규분포에서 k개 난수 생성\n",
    "- `choice(a, size=k, replace=True)`: a에서 k개를 반복을 허용해서 선택\n",
    "- `randint(a, b, k)`: a ~ b-1 사이 정수에서 k개 선택"
   ]
  },
  {
   "cell_type": "code",
   "execution_count": 5,
   "metadata": {},
   "outputs": [
    {
     "name": "stdout",
     "output_type": "stream",
     "text": [
      "[0.20890368 0.44057877 0.41841429 0.38848835 0.4747189 ]\n",
      "[-0.701235   -0.67073294 -1.19574611  1.13029393 -0.07400332]\n"
     ]
    }
   ],
   "source": [
    "print(np.random.rand(5)) # 0~1 난수 생성\n",
    "print(np.random.randn(5)) # 표준정규분포에서 난수 생성"
   ]
  },
  {
   "cell_type": "code",
   "execution_count": 6,
   "metadata": {},
   "outputs": [
    {
     "name": "stdout",
     "output_type": "stream",
     "text": [
      "[2 9 6 5 8]\n",
      "[0 3 5 5 3]\n"
     ]
    }
   ],
   "source": [
    "# random.choice\n",
    "print( np.random.choice(np.arange(10), size=5) )\n",
    "print( np.random.randint(0, 10, 5) )"
   ]
  },
  {
   "cell_type": "markdown",
   "metadata": {},
   "source": [
    "### 3.1.2. 행렬\n",
    "\n",
    "**np.array( list )**\n",
    "\n",
    "- `type(array)`: numpy.ndarray\n",
    "- `array.shape`: array의 (행, 열)\n",
    "- 값에 접근할 때는 `array[x, y]` 형태로"
   ]
  },
  {
   "cell_type": "code",
   "execution_count": 7,
   "metadata": {},
   "outputs": [
    {
     "name": "stdout",
     "output_type": "stream",
     "text": [
      "<class 'numpy.ndarray'>\n",
      "(3,)\n",
      "1 2 3\n",
      "[5 2 3]\n"
     ]
    }
   ],
   "source": [
    "# 1차원\n",
    "a = np.array( [1, 2, 3] )\n",
    "\n",
    "print( type(a) )\n",
    "print( a.shape )\n",
    "print( a[0], a[1], a[2] )\n",
    "\n",
    "a[0] = 5\n",
    "print(a)"
   ]
  },
  {
   "cell_type": "code",
   "execution_count": 8,
   "metadata": {},
   "outputs": [
    {
     "name": "stdout",
     "output_type": "stream",
     "text": [
      "<class 'numpy.ndarray'>\n",
      "(2, 3)\n",
      "1 2 4\n"
     ]
    }
   ],
   "source": [
    "# 2차원\n",
    "b = np.array( [[1,2,3],[4,5,6]] )\n",
    "\n",
    "print(type(b))\n",
    "print(b.shape)\n",
    "print(b[0,0], b[0,1], b[1,0])"
   ]
  },
  {
   "cell_type": "markdown",
   "metadata": {},
   "source": [
    "size가 들어갔던 자리에 (xsize, ysize)를 넣어서 2차원으로 할 수 있음\n",
    "\n",
    "- `zeros( (xsize, ysize) )`\n",
    "- `ones( (xsize, ysize) )`\n",
    "- `full( (xsize, ysize), value )`\n",
    "- `random.rand( (k1, k2) )`\n",
    "\n",
    "추가\n",
    "\n",
    "- `np.eye(r, c=None, k=0)`: An array (r rows) where all elements are equal to 0, except for the k-th diagonal, whose values are equal to 1."
   ]
  },
  {
   "cell_type": "code",
   "execution_count": 9,
   "metadata": {},
   "outputs": [
    {
     "name": "stdout",
     "output_type": "stream",
     "text": [
      "[[0. 0.]\n",
      " [0. 0.]] float64\n",
      "[[1. 1.]]\n",
      "[[7 7]\n",
      " [7 7]] int64\n",
      "[[0.70934788 0.7361672 ]\n",
      " [0.81971194 0.52327322]]\n",
      "[[1. 0. 0.]\n",
      " [0. 1. 0.]\n",
      " [0. 0. 1.]]\n"
     ]
    }
   ],
   "source": [
    "# 위에서 배운 애들 2차원으로 해보자\n",
    "a = np.zeros((2, 2))\n",
    "print(a, a.dtype)\n",
    "\n",
    "b = np.ones((1,2))\n",
    "print(b)\n",
    "\n",
    "c = np.full((2,2), 7)\n",
    "print(c, c.dtype)\n",
    "\n",
    "d = np.random.rand(2,2)\n",
    "print(d)\n",
    "\n",
    "# 새로운 것도 있다\n",
    "e = np.eye(3)\n",
    "print(e)"
   ]
  },
  {
   "cell_type": "code",
   "execution_count": 12,
   "metadata": {},
   "outputs": [
    {
     "name": "stdout",
     "output_type": "stream",
     "text": [
      "[[ 1  2  3  4]\n",
      " [ 5  6  7  8]\n",
      " [ 9 10 11 12]]\n",
      "\n",
      "\n",
      "[ 1  2  3  4  5  6  7  8  9 10 11 12]\n",
      "\n",
      "\n",
      "[[ 1  2  3  4]\n",
      " [ 5  6  7  8]\n",
      " [ 9 10 11 12]]\n",
      "\n",
      "\n",
      "[[5 6 7]]\n",
      "\n",
      "\n",
      "[[77  6  7]]\n",
      "2\n"
     ]
    }
   ],
   "source": [
    "a = np.array( [[1,2,3,4],[5,6,7,8],[9,10,11,12]] )\n",
    "print(a)\n",
    "print(\"\\n\")\n",
    "\n",
    "b = np.arange(1, 13)\n",
    "print(b)\n",
    "print(\"\\n\")\n",
    "\n",
    "b = b.reshape(3, 4)\n",
    "print(b)\n",
    "print(\"\\n\")\n",
    "\n",
    "c = a[1:2, 0:3]\n",
    "print(c)\n",
    "print(\"\\n\")\n",
    "\n",
    "c[0, 0] = 77\n",
    "print(c)\n",
    "print(a[0, 1])"
   ]
  },
  {
   "cell_type": "markdown",
   "metadata": {},
   "source": [
    "- `a[[0,0,1,1], [1,2,1,2]]`: a에서 `a[0, 1], a[0, 2], a[1, 1], a[1, 2]`를 저장한 셈"
   ]
  },
  {
   "cell_type": "code",
   "execution_count": 99,
   "metadata": {},
   "outputs": [
    {
     "name": "stdout",
     "output_type": "stream",
     "text": [
      "[[ 1  2  3  4]\n",
      " [ 5  6  7  8]\n",
      " [ 9 10 11 12]]\n",
      "\n",
      "\n",
      "[2 3 6 7]\n",
      "\n",
      "\n",
      "[[2 3]\n",
      " [6 7]]\n",
      "\n",
      "\n",
      "2\n"
     ]
    }
   ],
   "source": [
    "a = np.array( [[1,2,3,4],[5,6,7,8],[9,10,11,12]] )\n",
    "print(a)\n",
    "print(\"\\n\")\n",
    "\n",
    "c = a[[0,0,1,1], [1,2,1,2]]\n",
    "print(c)\n",
    "print(\"\\n\")\n",
    "\n",
    "c = c.reshape(2, 2)\n",
    "print(c)\n",
    "print(\"\\n\")\n",
    "\n",
    "c[0,0] = 77\n",
    "print(a[0, 1])"
   ]
  },
  {
   "cell_type": "markdown",
   "metadata": {},
   "source": [
    "**boolean expression about an array**\n",
    "\n",
    "- `array > n`: returns boolean array \n",
    "- `array[array > n]` == `array[a > n]`: returns array only with elements that is true"
   ]
  },
  {
   "cell_type": "code",
   "execution_count": 57,
   "metadata": {},
   "outputs": [
    {
     "name": "stdout",
     "output_type": "stream",
     "text": [
      "[[ 1  2  3  4]\n",
      " [ 5  6  7  8]\n",
      " [ 9 10 11 12]]\n",
      "\n",
      "\n",
      "[[False False False False]\n",
      " [False  True  True  True]\n",
      " [ True  True  True  True]]\n",
      "\n",
      "\n",
      "[ 6  7  8  9 10 11 12]\n",
      "[ 6  7  8  9 10 11 12]\n"
     ]
    }
   ],
   "source": [
    "a = np.array( [[1,2,3,4],[5,6,7,8],[9,10,11,12]] )\n",
    "\n",
    "print(a)\n",
    "print(\"\\n\")\n",
    "\n",
    "bool_idx = (a > 5)\n",
    "\n",
    "print(bool_idx)\n",
    "print(\"\\n\")\n",
    "print(a[bool_idx])\n",
    "print(a[a>5])"
   ]
  },
  {
   "cell_type": "markdown",
   "metadata": {},
   "source": [
    "## 3.2. 기본 함수\n",
    "\n",
    "**배열 연산**"
   ]
  },
  {
   "cell_type": "code",
   "execution_count": 17,
   "metadata": {},
   "outputs": [
    {
     "name": "stdout",
     "output_type": "stream",
     "text": [
      "[[ 6  8]\n",
      " [10 12]]\n",
      "[[ 6  8]\n",
      " [10 12]]\n",
      "[[-4 -4]\n",
      " [-4 -4]]\n",
      "[[-4 -4]\n",
      " [-4 -4]]\n",
      "[[ 5 12]\n",
      " [21 32]]\n",
      "[[ 5 12]\n",
      " [21 32]]\n",
      "[[0.2        0.33333333]\n",
      " [0.42857143 0.5       ]]\n",
      "[[0.2        0.33333333]\n",
      " [0.42857143 0.5       ]]\n",
      "[[19 22]\n",
      " [43 50]]\n"
     ]
    }
   ],
   "source": [
    "x = np.array([[1, 2], [3, 4]])\n",
    "y = np.array([[5, 6], [7, 8]])\n",
    "\n",
    "print(x + y)\n",
    "print(np.add(x, y))\n",
    "\n",
    "print(x - y)\n",
    "print(np.subtract(x, y))\n",
    "\n",
    "print(x * y)\n",
    "print(np.multiply(x, y))\n",
    "\n",
    "print(x / y)\n",
    "print(np.divide(x, y))\n",
    "\n",
    "print(np.dot(x, y))"
   ]
  },
  {
   "cell_type": "markdown",
   "metadata": {},
   "source": []
  },
  {
   "cell_type": "code",
   "execution_count": 49,
   "metadata": {},
   "outputs": [
    {
     "name": "stdout",
     "output_type": "stream",
     "text": [
      "10\n",
      "[4 6]\n",
      "[3 7]\n",
      "2.5\n",
      "[2. 3.]\n",
      "[1.5 3.5]\n",
      "1.25\n",
      "[1. 1.]\n",
      "[0.25 0.25]\n"
     ]
    }
   ],
   "source": [
    "x = np.array([[1, 2], [3, 4]])\n",
    "\n",
    "print( np.sum(x) )\n",
    "print( np.sum(x, axis=0) )\n",
    "print( np.sum(x, axis=1) )\n",
    "\n",
    "print( np.mean(x) )\n",
    "print( np.mean(x, axis=0) )\n",
    "print( np.mean(x, axis=1) )\n",
    "\n",
    "print( np.var(x) )\n",
    "print( np.var(x, axis=0) )\n",
    "print( np.var(x, axis=1) )"
   ]
  },
  {
   "cell_type": "code",
   "execution_count": 15,
   "metadata": {},
   "outputs": [
    {
     "name": "stdout",
     "output_type": "stream",
     "text": [
      "3\n",
      "3.0 2.0 3.0\n"
     ]
    }
   ],
   "source": [
    "a = -3\n",
    "b = 2.6\n",
    "\n",
    "print(np.abs(a))\n",
    "print(np.round(b), np.floor(b), np.ceil(b))"
   ]
  },
  {
   "cell_type": "code",
   "execution_count": 53,
   "metadata": {},
   "outputs": [
    {
     "name": "stdout",
     "output_type": "stream",
     "text": [
      "2.718281828459045 2.718281828459045\n",
      "1.0 1.0 0.43429448190325176\n",
      "1.0 1.0\n"
     ]
    }
   ],
   "source": [
    "import math\n",
    "\n",
    "a = np.exp(1)\n",
    "print(a, math.e)\n",
    "print(np.log(a), math.log(a), math.log(a, 10))\n",
    "print(np.sin(np.pi/2), math.sin(math.pi/2))"
   ]
  },
  {
   "cell_type": "code",
   "execution_count": 55,
   "metadata": {},
   "outputs": [
    {
     "name": "stdout",
     "output_type": "stream",
     "text": [
      "120\n",
      "120\n",
      "220\n",
      "220\n"
     ]
    }
   ],
   "source": [
    "from scipy.special import comb\n",
    "from scipy.special import factorial\n",
    "\n",
    "print(factorial(5, exact=True)) # 5!\n",
    "print(comb(10, 3, exact=True)) # 10 C 3\n",
    "print(comb(10, 3, exact=True, repetition=True)) # 10 H 3 = 12 C 3\n",
    "print(comb(12, 3, exact=True))\n"
   ]
  },
  {
   "cell_type": "markdown",
   "metadata": {},
   "source": [
    "## 3.3. 조건문과 반복문\n",
    "\n",
    "### 3.3.1. 조건문\n",
    "\n",
    "**헷갈릴만한 것**\n",
    "\n",
    "- `0`은 False\n",
    "- `[False]`는 True"
   ]
  },
  {
   "cell_type": "code",
   "execution_count": 60,
   "metadata": {},
   "outputs": [
    {
     "name": "stdout",
     "output_type": "stream",
     "text": [
      "a is 1\n"
     ]
    }
   ],
   "source": [
    "a = 1\n",
    "\n",
    "if a == 1:\n",
    "    print(\"a is %i\" %a)"
   ]
  },
  {
   "cell_type": "code",
   "execution_count": 65,
   "metadata": {},
   "outputs": [
    {
     "name": "stdout",
     "output_type": "stream",
     "text": [
      "b = 3\n"
     ]
    }
   ],
   "source": [
    "b = 3\n",
    "\n",
    "if b == 3:\n",
    "    print('b = %i' %b)\n",
    "else:\n",
    "    print('b != %i' %b)"
   ]
  },
  {
   "cell_type": "code",
   "execution_count": 67,
   "metadata": {},
   "outputs": [
    {
     "name": "stdout",
     "output_type": "stream",
     "text": [
      "a is even\n",
      "a is even\n"
     ]
    }
   ],
   "source": [
    "a = 100\n",
    "\n",
    "if a % 2 == 0:\n",
    "    print('a is even')\n",
    "else:\n",
    "    print('a is odd')\n",
    "\n",
    "if not a % 2: # 0은 false이므로\n",
    "    print('a is even')\n",
    "else:\n",
    "    print('a is odd')"
   ]
  },
  {
   "cell_type": "code",
   "execution_count": 71,
   "metadata": {},
   "outputs": [
    {
     "name": "stdout",
     "output_type": "stream",
     "text": [
      "a is neither divided by 2 nor 3\n"
     ]
    }
   ],
   "source": [
    "a = 101\n",
    "\n",
    "if a % 2 == 0:\n",
    "    print('a is divided by 2')\n",
    "elif a % 3 == 0:\n",
    "    print('a is divided by 3')\n",
    "else:\n",
    "    print('a is neither divided by 2 nor 3')\n"
   ]
  },
  {
   "cell_type": "code",
   "execution_count": 20,
   "metadata": {},
   "outputs": [
    {
     "name": "stdout",
     "output_type": "stream",
     "text": [
      "this is true\n",
      "this is true\n"
     ]
    }
   ],
   "source": [
    "if False:\n",
    "    print(\"this is false\")\n",
    "    \n",
    "if [False]:\n",
    "    print(\"this is true\")\n",
    "    \n",
    "if \"zero\":\n",
    "    print(\"this is true\")\n"
   ]
  },
  {
   "cell_type": "markdown",
   "metadata": {},
   "source": [
    "### 3.3.2. 반복문\n",
    "\n",
    "- `continue` forces the loop to start at the next iteration<br> => will jump back to the top of the loop\n",
    "- `pass` means \"there is no code to execute here\" and will continue through the remainder or the loop body. continue will<br> => will continue processing"
   ]
  },
  {
   "cell_type": "code",
   "execution_count": 74,
   "metadata": {},
   "outputs": [
    {
     "name": "stdout",
     "output_type": "stream",
     "text": [
      "range(0, 10)\n",
      "range(0, 10)\n",
      "range(-10, 0)\n"
     ]
    }
   ],
   "source": [
    "a = range(10)\n",
    "print(a)\n",
    "\n",
    "b = range(0, 10)\n",
    "print(b)\n",
    "\n",
    "c = range(-10, 0)\n",
    "print(c)"
   ]
  },
  {
   "cell_type": "code",
   "execution_count": 75,
   "metadata": {},
   "outputs": [
    {
     "name": "stdout",
     "output_type": "stream",
     "text": [
      "1\n",
      "2\n",
      "3\n",
      "4\n",
      "5\n",
      "6\n",
      "7\n",
      "8\n",
      "9\n"
     ]
    }
   ],
   "source": [
    "for i in range(1, 10):\n",
    "    print(i)"
   ]
  },
  {
   "cell_type": "code",
   "execution_count": 83,
   "metadata": {},
   "outputs": [
    {
     "name": "stdout",
     "output_type": "stream",
     "text": [
      "[1, 3, 5, 7, 9]\n"
     ]
    }
   ],
   "source": [
    "seq = []\n",
    "for i in range(1, 10):\n",
    "    if i % 2 == 0:\n",
    "        pass\n",
    "    else:\n",
    "        seq.append(i)\n",
    "        \n",
    "print(seq)"
   ]
  },
  {
   "cell_type": "code",
   "execution_count": 77,
   "metadata": {},
   "outputs": [
    {
     "name": "stdout",
     "output_type": "stream",
     "text": [
      "105\n",
      "[1, 2, 3, 4, 5, 6, 7, 8, 9, 10, 11, 12, 13, 14]\n"
     ]
    }
   ],
   "source": [
    "a = []\n",
    "\n",
    "for i in range(1, 100):\n",
    "    a.append(i)\n",
    "    if sum(a) >= 100:\n",
    "        print(sum(a))\n",
    "        break\n",
    "        \n",
    "print(a)"
   ]
  },
  {
   "cell_type": "code",
   "execution_count": 78,
   "metadata": {},
   "outputs": [
    {
     "name": "stdout",
     "output_type": "stream",
     "text": [
      "[1, 2, 3, 4, 5, 6, 7, 8, 9, 10]\n"
     ]
    }
   ],
   "source": [
    "a = []\n",
    "\n",
    "i = 1\n",
    "while len(a) < 10:\n",
    "    a.append(i)\n",
    "    i += 1\n",
    "\n",
    "print(a)"
   ]
  },
  {
   "cell_type": "code",
   "execution_count": 79,
   "metadata": {},
   "outputs": [
    {
     "data": {
      "text/plain": [
       "\"\\nwhile True:\\n    print('무한루프에 주의합시다')\\n\""
      ]
     },
     "execution_count": 79,
     "metadata": {},
     "output_type": "execute_result"
    }
   ],
   "source": [
    "'''\n",
    "while True:\n",
    "    print('무한루프에 주의합시다')\n",
    "'''"
   ]
  },
  {
   "cell_type": "code",
   "execution_count": 80,
   "metadata": {},
   "outputs": [
    {
     "name": "stdout",
     "output_type": "stream",
     "text": [
      "따라서 break를 적절히 사용해야 합니다\n",
      "따라서 break를 적절히 사용해야 합니다\n",
      "따라서 break를 적절히 사용해야 합니다\n",
      "따라서 break를 적절히 사용해야 합니다\n",
      "따라서 break를 적절히 사용해야 합니다\n",
      "따라서 break를 적절히 사용해야 합니다\n"
     ]
    }
   ],
   "source": [
    "i = 0\n",
    "while True:\n",
    "    print('따라서 break를 적절히 사용해야 합니다')\n",
    "    i += 1\n",
    "    if (i > 5):\n",
    "        break"
   ]
  },
  {
   "cell_type": "code",
   "execution_count": 30,
   "metadata": {},
   "outputs": [
    {
     "name": "stdout",
     "output_type": "stream",
     "text": [
      "[1, 3, 5, 7, 9]\n"
     ]
    }
   ],
   "source": [
    "a = []\n",
    "i = 0\n",
    "while len(a) < 5:\n",
    "    i += 1\n",
    "    if i%2 == 0: continue\n",
    "    a.append(i)\n",
    "print(a)"
   ]
  },
  {
   "cell_type": "markdown",
   "metadata": {},
   "source": [
    "### 3.4. 사용자 정의 함수\n"
   ]
  },
  {
   "cell_type": "code",
   "execution_count": 87,
   "metadata": {},
   "outputs": [
    {
     "name": "stdout",
     "output_type": "stream",
     "text": [
      "4\n",
      "ab\n"
     ]
    }
   ],
   "source": [
    "def sum(a, b):\n",
    "    return(a + b)\n",
    "\n",
    "print(sum(1, 3))\n",
    "print(sum('a', 'b')) # 주의"
   ]
  },
  {
   "cell_type": "markdown",
   "metadata": {},
   "source": [
    "**multiple return value 가능 (주의)**"
   ]
  },
  {
   "cell_type": "code",
   "execution_count": 86,
   "metadata": {},
   "outputs": [
    {
     "name": "stdout",
     "output_type": "stream",
     "text": [
      "10 + 11 = 21\n",
      "(10, 11, 21)\n"
     ]
    }
   ],
   "source": [
    "def sum2(a, b):\n",
    "    return a, b, a+b\n",
    "\n",
    "value1, value2, value3 = sum2(10, 11)\n",
    "\n",
    "print('%i + %i = %i' %(value1, value2, value3))\n",
    "\n",
    "value = sum2(10, 11)\n",
    "print(value)"
   ]
  },
  {
   "cell_type": "markdown",
   "metadata": {},
   "source": [
    "**입력변수가 몇 개가 될지 모르는 경우 `*args` 사용**"
   ]
  },
  {
   "cell_type": "code",
   "execution_count": 55,
   "metadata": {},
   "outputs": [
    {
     "name": "stdout",
     "output_type": "stream",
     "text": [
      "60\n"
     ]
    }
   ],
   "source": [
    "def sum(*args):\n",
    "    value = 0\n",
    "    for i in args: value += i\n",
    "    return value\n",
    "\n",
    "a = sum(10, 11, 12, 13, 14)\n",
    "print(a)"
   ]
  },
  {
   "cell_type": "markdown",
   "metadata": {},
   "source": [
    "### 과제 복습"
   ]
  },
  {
   "cell_type": "code",
   "execution_count": 33,
   "metadata": {},
   "outputs": [
    {
     "name": "stdout",
     "output_type": "stream",
     "text": [
      "[ 4 32 44 10 82 80 41 17 97 50 51 98 56 25 19 31 94 43 77 70 12  1  9 85\n",
      " 83 57 81 90 26 88 21 86  3 34 18 93  2 37 78 96]\n"
     ]
    }
   ],
   "source": [
    "a = np.random.choice(np.arange(1, 100), size=40, replace=False)\n",
    "print(a)"
   ]
  },
  {
   "cell_type": "code",
   "execution_count": 35,
   "metadata": {},
   "outputs": [
    {
     "data": {
      "text/plain": [
       "array([[ 4, 32, 44, 10, 82, 80, 41, 17],\n",
       "       [97, 50, 51, 98, 56, 25, 19, 31],\n",
       "       [94, 43, 77, 70, 12,  1,  9, 85],\n",
       "       [83, 57, 81, 90, 26, 88, 21, 86],\n",
       "       [ 3, 34, 18, 93,  2, 37, 78, 96]])"
      ]
     },
     "execution_count": 35,
     "metadata": {},
     "output_type": "execute_result"
    }
   ],
   "source": [
    "b = a.reshape(5, 8)\n",
    "b"
   ]
  },
  {
   "cell_type": "code",
   "execution_count": 54,
   "metadata": {},
   "outputs": [
    {
     "data": {
      "text/plain": [
       "array([[  4,  32,  44,  10,  82,  80,  41,  17],\n",
       "       [999,  50,  51,  98,  56,  25,  19,  31],\n",
       "       [ 94,  43,  77,  70,  12,   1,   9,  85],\n",
       "       [ 83,  57,  81,  90,  26,  88,  21,  86],\n",
       "       [  3,  34,  18,  93,   2,  37,  78,  96]])"
      ]
     },
     "execution_count": 54,
     "metadata": {},
     "output_type": "execute_result"
    }
   ],
   "source": [
    "c = b[1:3]\n",
    "c[0, 0] = 999\n",
    "b # 바뀜"
   ]
  },
  {
   "cell_type": "code",
   "execution_count": 51,
   "metadata": {},
   "outputs": [
    {
     "data": {
      "text/plain": [
       "array([[ 4, 32, 44, 10, 82, 80, 41, 17],\n",
       "       [97, 50, 51, 98, 56, 25, 19, 31],\n",
       "       [94, 43, 77, 70, 12,  1,  9, 85],\n",
       "       [83, 57, 81, 90, 26, 88, 21, 86],\n",
       "       [ 3, 34, 18, 93,  2, 37, 78, 96]])"
      ]
     },
     "execution_count": 51,
     "metadata": {},
     "output_type": "execute_result"
    }
   ],
   "source": [
    "d = b[:, [0, 3, 6, 7]]\n",
    "d[0,0] = 999\n",
    "b # 안바뀜"
   ]
  },
  {
   "cell_type": "code",
   "execution_count": 59,
   "metadata": {},
   "outputs": [
    {
     "data": {
      "text/plain": [
       "33.6"
      ]
     },
     "execution_count": 59,
     "metadata": {},
     "output_type": "execute_result"
    }
   ],
   "source": [
    "col7 = b[:, 6]\n",
    "np.mean(col7)"
   ]
  },
  {
   "cell_type": "code",
   "execution_count": 64,
   "metadata": {},
   "outputs": [
    {
     "name": "stdout",
     "output_type": "stream",
     "text": [
      "[2]\n",
      "NP\n"
     ]
    }
   ],
   "source": [
    "def moreThan10(i):\n",
    "    if i >= 10:\n",
    "        print(\"P\")\n",
    "    else:\n",
    "        print(\"NP\")\n",
    "\n",
    "r = np.random.randint(1, 20, 1)\n",
    "print(r)\n",
    "moreThan10(r)"
   ]
  },
  {
   "cell_type": "code",
   "execution_count": null,
   "metadata": {},
   "outputs": [],
   "source": [
    "def moreThan10(i):\n",
    "    if i >= 10:\n",
    "        print(\"P\")\n",
    "    else:\n",
    "        print(\"NP\")\n",
    "\n",
    "arr = np.random.randint(1, 20, 8)\n",
    "\n",
    "for i in range(len(arr)):\n",
    "    print(arr[i])\n",
    "    moreThan10(r)"
   ]
  }
 ],
 "metadata": {
  "kernelspec": {
   "display_name": "Python 3",
   "language": "python",
   "name": "python3"
  },
  "language_info": {
   "codemirror_mode": {
    "name": "ipython",
    "version": 3
   },
   "file_extension": ".py",
   "mimetype": "text/x-python",
   "name": "python",
   "nbconvert_exporter": "python",
   "pygments_lexer": "ipython3",
   "version": "3.7.3"
  }
 },
 "nbformat": 4,
 "nbformat_minor": 2
}
