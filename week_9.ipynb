{
 "cells": [
  {
   "cell_type": "markdown",
   "metadata": {},
   "source": [
    "# 9장. 분산분석\n",
    "\n",
    "yi = a + b xi + ei (ei ~iid~ N(0, σ^2))\n",
    "\n",
    "- y 연속형 ~ x 범주형\n",
    "\n",
    "\n",
    "### 9.1. 일원배치법\n",
    "- 인자 1개\n",
    "- k개 그룹에서 뮤i들 간에 (그룹 간 모평균에) 차이가 있는가?"
   ]
  },
  {
   "cell_type": "code",
   "execution_count": 1,
   "metadata": {},
   "outputs": [
    {
     "data": {
      "text/plain": [
       "array([1, 1, 1, 1, 1, 1, 2, 2, 2, 2, 2, 2, 3, 3, 3, 3, 3, 3, 4, 4, 4, 4,\n",
       "       4, 4])"
      ]
     },
     "execution_count": 1,
     "metadata": {},
     "output_type": "execute_result"
    }
   ],
   "source": [
    "import numpy as np\n",
    "import pandas\n",
    "\n",
    "num = np.array([45, 59, 48, 46, 38, 47, 21, 12, 14, 17, 13, 17, 37, 32, 15, 25, 39,\n",
    "41, 16, 11, 20, 21, 14, 7])\n",
    "col = np.repeat(range(1, 5), np.repeat(6, 4))\n",
    "bugs = pandas.DataFrame({'num': num, 'col': col})\n",
    "col"
   ]
  },
  {
   "cell_type": "code",
   "execution_count": 4,
   "metadata": {},
   "outputs": [
    {
     "name": "stdout",
     "output_type": "stream",
     "text": [
      "               sum_sq    df          F        PR(>F)\n",
      "C(col)    4218.458333   3.0  30.551934  1.151046e-07\n",
      "Residual   920.500000  20.0        NaN           NaN\n"
     ]
    }
   ],
   "source": [
    "import statsmodels.api as sm\n",
    "from statsmodels.formula.api import ols\n",
    "\n",
    "model = ols('num ~ C(col)', data = bugs).fit()\n",
    "table = sm.stats.anova_lm(model, typ = 2) \n",
    "# typ = 1로 하면 mean squared 같이 나올 것\n",
    "print(table)"
   ]
  },
  {
   "cell_type": "markdown",
   "metadata": {},
   "source": [
    "### 9.2. 반복이 없는 이원배치법\n",
    "- 인자 2개\n",
    "- 반복 없으므로 구조는 일원배치법과 유사. 대신 A 뿐만 아니라 B도 각각의 A에 대해 p번씩 실험 반복. "
   ]
  },
  {
   "cell_type": "code",
   "execution_count": 5,
   "metadata": {},
   "outputs": [],
   "source": [
    "y = np.array([64, 53, 47, 51, 49, 51, 45, 43, 50, 48, 50, 52])\n",
    "A = np.tile(range(1,5), 3)\n",
    "B = np.repeat(range(1,4), 4)\n",
    "cor = pandas.DataFrame({'A':A, 'B':B, 'y':y})"
   ]
  },
  {
   "cell_type": "code",
   "execution_count": 6,
   "metadata": {},
   "outputs": [
    {
     "name": "stdout",
     "output_type": "stream",
     "text": [
      "              sum_sq   df         F    PR(>F)\n",
      "C(A)       83.583333  3.0  1.357240  0.342215\n",
      "C(B)       91.500000  2.0  2.228687  0.188880\n",
      "Residual  123.166667  6.0       NaN       NaN\n"
     ]
    }
   ],
   "source": [
    "model = ols('y ~ C(A) + C(B)', data = cor).fit()\n",
    "table = sm.stats.anova_lm(model, typ=2)\n",
    "print(table)"
   ]
  },
  {
   "cell_type": "markdown",
   "metadata": {},
   "source": [
    "### 9.3. 반복이 있는 이원배치법\n",
    "- 인자 2개\n",
    "- **평균그림 (interaction plot)**\n",
    "    - 분석의 목표: 상호작용 있는가?\n",
    "    - 기준: 수준 간의 역전현상 유무\n",
    "        - 상호작용이 있으면 교차점이 있음. 없으면 교차점 없음."
   ]
  },
  {
   "cell_type": "code",
   "execution_count": 2,
   "metadata": {},
   "outputs": [
    {
     "data": {
      "text/html": [
       "<div>\n",
       "<style scoped>\n",
       "    .dataframe tbody tr th:only-of-type {\n",
       "        vertical-align: middle;\n",
       "    }\n",
       "\n",
       "    .dataframe tbody tr th {\n",
       "        vertical-align: top;\n",
       "    }\n",
       "\n",
       "    .dataframe thead th {\n",
       "        text-align: right;\n",
       "    }\n",
       "</style>\n",
       "<table border=\"1\" class=\"dataframe\">\n",
       "  <thead>\n",
       "    <tr style=\"text-align: right;\">\n",
       "      <th></th>\n",
       "      <th>A</th>\n",
       "      <th>B</th>\n",
       "      <th>y</th>\n",
       "    </tr>\n",
       "  </thead>\n",
       "  <tbody>\n",
       "    <tr>\n",
       "      <th>1</th>\n",
       "      <td>Piano</td>\n",
       "      <td>early</td>\n",
       "      <td>21</td>\n",
       "    </tr>\n",
       "    <tr>\n",
       "      <th>2</th>\n",
       "      <td>Piano</td>\n",
       "      <td>early</td>\n",
       "      <td>24</td>\n",
       "    </tr>\n",
       "    <tr>\n",
       "      <th>3</th>\n",
       "      <td>Piano</td>\n",
       "      <td>early</td>\n",
       "      <td>22</td>\n",
       "    </tr>\n",
       "    <tr>\n",
       "      <th>4</th>\n",
       "      <td>Piano</td>\n",
       "      <td>early</td>\n",
       "      <td>18</td>\n",
       "    </tr>\n",
       "    <tr>\n",
       "      <th>5</th>\n",
       "      <td>Piano</td>\n",
       "      <td>early</td>\n",
       "      <td>20</td>\n",
       "    </tr>\n",
       "  </tbody>\n",
       "</table>\n",
       "</div>"
      ],
      "text/plain": [
       "       A      B   y\n",
       "1  Piano  early  21\n",
       "2  Piano  early  24\n",
       "3  Piano  early  22\n",
       "4  Piano  early  18\n",
       "5  Piano  early  20"
      ]
     },
     "execution_count": 2,
     "metadata": {},
     "output_type": "execute_result"
    }
   ],
   "source": [
    "import seaborn\n",
    "import matplotlib.pyplot as plt\n",
    "\n",
    "alz = pandas.read_csv(\"week_9/alzheimer.txt\", sep = \" \")\n",
    "alz.head()\n",
    "# seaborn.pointplot(x = \"A\", y = \"y\", hue = \"B\", data = alz)\n",
    "# plt.show()"
   ]
  },
  {
   "cell_type": "code",
   "execution_count": 10,
   "metadata": {},
   "outputs": [
    {
     "name": "stdout",
     "output_type": "stream",
     "text": [
      "           sum_sq    df          F        PR(>F)\n",
      "C(A)        740.0   2.0  49.887640  2.824411e-09\n",
      "C(B)         30.0   1.0   4.044944  5.566448e-02\n",
      "C(A):C(B)   260.0   2.0  17.528090  2.029321e-05\n",
      "Residual    178.0  24.0        NaN           NaN\n"
     ]
    }
   ],
   "source": [
    "model = ols('y ~ C(A)*C(B)', data = alz).fit()\n",
    "table = sm.stats.anova_lm(model, typ = 2)\n",
    "print(table)                                                           "
   ]
  },
  {
   "cell_type": "code",
   "execution_count": null,
   "metadata": {},
   "outputs": [],
   "source": []
  }
 ],
 "metadata": {
  "kernelspec": {
   "display_name": "Python 3",
   "language": "python",
   "name": "python3"
  },
  "language_info": {
   "codemirror_mode": {
    "name": "ipython",
    "version": 3
   },
   "file_extension": ".py",
   "mimetype": "text/x-python",
   "name": "python",
   "nbconvert_exporter": "python",
   "pygments_lexer": "ipython3",
   "version": "3.7.3"
  }
 },
 "nbformat": 4,
 "nbformat_minor": 2
}
