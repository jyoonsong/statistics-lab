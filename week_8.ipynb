{
 "cells": [
  {
   "cell_type": "markdown",
   "metadata": {},
   "source": [
    "# 8장. 상관분석과 회귀분석\n",
    "\n",
    "### 8.1. 상관분석"
   ]
  },
  {
   "cell_type": "code",
   "execution_count": 2,
   "metadata": {},
   "outputs": [
    {
     "data": {
      "text/plain": [
       "<Figure size 500x500 with 1 Axes>"
      ]
     },
     "metadata": {},
     "output_type": "display_data"
    }
   ],
   "source": [
    "import pandas\n",
    "from scipy import stats\n",
    "import matplotlib.pyplot as plt\n",
    "import seaborn # 격자 위에 파란 점 찍게 해주는 형식 지원 (필수 아님)\n",
    "\n",
    "seaborn.set(rc = {'figure.figsize': (3, 3)})\n",
    "possum = pandas.read_csv(\"possum.txt\", sep = \"\\t\")\n",
    "\n",
    "seaborn.relplot(x = 'totalL', y = 'headL', data = possum)\n",
    "plt.show()"
   ]
  },
  {
   "cell_type": "code",
   "execution_count": 3,
   "metadata": {},
   "outputs": [
    {
     "name": "stdout",
     "output_type": "stream",
     "text": [
      "Pearson's correlation coefficient: 0.6910936973935056, p-value: 4.680578654379385e-16\n"
     ]
    }
   ],
   "source": [
    "t, p = stats.pearsonr(possum['headL'], possum['totalL'])\n",
    "print(\"Pearson's correlation coefficient: %s, p-value: %s\" % (t, p))"
   ]
  },
  {
   "cell_type": "markdown",
   "metadata": {},
   "source": [
    "### 8.2. 단순선형회귀모형"
   ]
  },
  {
   "cell_type": "markdown",
   "metadata": {},
   "source": [
    "- **회귀식의 적합 체크**\n",
    "    - `statsmodels.formula.api`의 `ols` 함수\n",
    "    - 유의성 검정 결과 summary\n",
    "        - Df Residuals: SSE의 자유도\n",
    "        - Df model: SSR의 자유도\n",
    "        - R-squared: 결정계수 (전체 y의 변동 중 회귀직선에 의해 설명되는 변동이 47.8%이다)\n",
    "        - Adj. R-squared: 나중에 다시\n",
    "        - F-statistic: 귀무가설 하에서의 F값\n",
    "        - Prob: F분포에서의 유의확률\n",
    "    - 회귀분석에 사용된 formula\n",
    "        - Intercept: Alpha hat \n",
    "            - 회귀변수에 대한 추정치 = 42.7\n",
    "        - totalL: beta hat \n",
    "            - 회귀계수에 대한 추정치 = 0.57\n",
    "            - std err\n",
    "            - t통계량\n",
    "            - 95% 신뢰구간\n",
    "    - 다음 table은 생략. 몰라도 됨\n",
    "    \n",
    "- **모수에 대한 신뢰구간만 따로 구하기**\n",
    "    - `model.conf_int()`로 하면 따로 떼어내어 볼 수 있음\n",
    "\n",
    "- **평균 반응에 대한 추론** \n",
    "    - 내가 원하는 x의 위치에 대한 y의 평균 위치 신뢰구간\n",
    "    - 신뢰구간 y^ +- t a/2 (n-2) * ^S.E(y^)\n",
    "    - mean_se: ^S.E(y hat)"
   ]
  },
  {
   "cell_type": "code",
   "execution_count": 5,
   "metadata": {},
   "outputs": [
    {
     "name": "stdout",
     "output_type": "stream",
     "text": [
      "                            OLS Regression Results                            \n",
      "==============================================================================\n",
      "Dep. Variable:                  headL   R-squared:                       0.478\n",
      "Model:                            OLS   Adj. R-squared:                  0.472\n",
      "Method:                 Least Squares   F-statistic:                     93.26\n",
      "Date:                Wed, 27 Nov 2019   Prob (F-statistic):           4.68e-16\n",
      "Time:                        13:33:14   Log-Likelihood:                -245.75\n",
      "No. Observations:                 104   AIC:                             495.5\n",
      "Df Residuals:                     102   BIC:                             500.8\n",
      "Df Model:                           1                                         \n",
      "Covariance Type:            nonrobust                                         \n",
      "==============================================================================\n",
      "                 coef    std err          t      P>|t|      [0.025      0.975]\n",
      "------------------------------------------------------------------------------\n",
      "Intercept     42.7098      5.173      8.257      0.000      32.450      52.970\n",
      "totalL         0.5729      0.059      9.657      0.000       0.455       0.691\n",
      "==============================================================================\n",
      "Omnibus:                        5.577   Durbin-Watson:                   1.881\n",
      "Prob(Omnibus):                  0.062   Jarque-Bera (JB):                5.117\n",
      "Skew:                           0.422   Prob(JB):                       0.0774\n",
      "Kurtosis:                       3.684   Cond. No.                     1.77e+03\n",
      "==============================================================================\n",
      "\n",
      "Warnings:\n",
      "[1] Standard Errors assume that the covariance matrix of the errors is correctly specified.\n",
      "[2] The condition number is large, 1.77e+03. This might indicate that there are\n",
      "strong multicollinearity or other numerical problems.\n"
     ]
    }
   ],
   "source": [
    "from statsmodels.formula.api import ols\n",
    "\n",
    "model = ols(\"headL ~ totalL\", possum).fit()\n",
    "print(model.summary())"
   ]
  },
  {
   "cell_type": "code",
   "execution_count": 6,
   "metadata": {},
   "outputs": [
    {
     "data": {
      "text/html": [
       "<div>\n",
       "<style scoped>\n",
       "    .dataframe tbody tr th:only-of-type {\n",
       "        vertical-align: middle;\n",
       "    }\n",
       "\n",
       "    .dataframe tbody tr th {\n",
       "        vertical-align: top;\n",
       "    }\n",
       "\n",
       "    .dataframe thead th {\n",
       "        text-align: right;\n",
       "    }\n",
       "</style>\n",
       "<table border=\"1\" class=\"dataframe\">\n",
       "  <thead>\n",
       "    <tr style=\"text-align: right;\">\n",
       "      <th></th>\n",
       "      <th>0</th>\n",
       "      <th>1</th>\n",
       "    </tr>\n",
       "  </thead>\n",
       "  <tbody>\n",
       "    <tr>\n",
       "      <th>Intercept</th>\n",
       "      <td>32.449541</td>\n",
       "      <td>52.970045</td>\n",
       "    </tr>\n",
       "    <tr>\n",
       "      <th>totalL</th>\n",
       "      <td>0.455230</td>\n",
       "      <td>0.690573</td>\n",
       "    </tr>\n",
       "  </tbody>\n",
       "</table>\n",
       "</div>"
      ],
      "text/plain": [
       "                   0          1\n",
       "Intercept  32.449541  52.970045\n",
       "totalL      0.455230   0.690573"
      ]
     },
     "execution_count": 6,
     "metadata": {},
     "output_type": "execute_result"
    }
   ],
   "source": [
    "model.conf_int()"
   ]
  },
  {
   "cell_type": "code",
   "execution_count": 9,
   "metadata": {},
   "outputs": [
    {
     "data": {
      "text/html": [
       "<div>\n",
       "<style scoped>\n",
       "    .dataframe tbody tr th:only-of-type {\n",
       "        vertical-align: middle;\n",
       "    }\n",
       "\n",
       "    .dataframe tbody tr th {\n",
       "        vertical-align: top;\n",
       "    }\n",
       "\n",
       "    .dataframe thead th {\n",
       "        text-align: right;\n",
       "    }\n",
       "</style>\n",
       "<table border=\"1\" class=\"dataframe\">\n",
       "  <thead>\n",
       "    <tr style=\"text-align: right;\">\n",
       "      <th></th>\n",
       "      <th>mean</th>\n",
       "      <th>mean_se</th>\n",
       "      <th>mean_ci_lower</th>\n",
       "      <th>mean_ci_upper</th>\n",
       "      <th>obs_ci_lower</th>\n",
       "      <th>obs_ci_upper</th>\n",
       "    </tr>\n",
       "  </thead>\n",
       "  <tbody>\n",
       "    <tr>\n",
       "      <th>0</th>\n",
       "      <td>90.833501</td>\n",
       "      <td>0.313588</td>\n",
       "      <td>90.211501</td>\n",
       "      <td>91.455501</td>\n",
       "      <td>85.648251</td>\n",
       "      <td>96.018751</td>\n",
       "    </tr>\n",
       "    <tr>\n",
       "      <th>1</th>\n",
       "      <td>93.125106</td>\n",
       "      <td>0.260174</td>\n",
       "      <td>92.609052</td>\n",
       "      <td>93.641161</td>\n",
       "      <td>87.951495</td>\n",
       "      <td>98.298717</td>\n",
       "    </tr>\n",
       "    <tr>\n",
       "      <th>2</th>\n",
       "      <td>95.416711</td>\n",
       "      <td>0.386869</td>\n",
       "      <td>94.649358</td>\n",
       "      <td>96.184064</td>\n",
       "      <td>90.212024</td>\n",
       "      <td>100.621398</td>\n",
       "    </tr>\n",
       "  </tbody>\n",
       "</table>\n",
       "</div>"
      ],
      "text/plain": [
       "        mean   mean_se  mean_ci_lower  mean_ci_upper  obs_ci_lower  \\\n",
       "0  90.833501  0.313588      90.211501      91.455501     85.648251   \n",
       "1  93.125106  0.260174      92.609052      93.641161     87.951495   \n",
       "2  95.416711  0.386869      94.649358      96.184064     90.212024   \n",
       "\n",
       "   obs_ci_upper  \n",
       "0     96.018751  \n",
       "1     98.298717  \n",
       "2    100.621398  "
      ]
     },
     "execution_count": 9,
     "metadata": {},
     "output_type": "execute_result"
    }
   ],
   "source": [
    "# totalL 84, 88, 92 값들에 대해 계산을 해보겠다\n",
    "model.get_prediction(exog = dict(totalL = [84, 88, 92])).summary_frame(alpha = 0.05)"
   ]
  },
  {
   "cell_type": "markdown",
   "metadata": {},
   "source": [
    "### 8.3. 잔차분석\n",
    "\n",
    "2가지\n",
    "\n",
    "1. 잔차도\n",
    "    - fitted 값이 증가함에 따라 residual이 증감하는 선형성 보이는가? (안보여야 가정 성립)\n",
    "2. 정규성\n",
    "    - QQ plot\n",
    "    - shapiro test"
   ]
  },
  {
   "cell_type": "code",
   "execution_count": 10,
   "metadata": {},
   "outputs": [
    {
     "name": "stdout",
     "output_type": "stream",
     "text": [
      "              sum_sq     df          F        PR(>F)\n",
      "totalL    628.148138    1.0  93.256604  4.680579e-16\n",
      "Residual  687.040996  102.0        NaN           NaN\n"
     ]
    }
   ],
   "source": [
    "import statsmodels.api as sm\n",
    "\n",
    "table = sm.stats.anova_lm(model, typ=2)\n",
    "print(table)"
   ]
  },
  {
   "cell_type": "code",
   "execution_count": 12,
   "metadata": {},
   "outputs": [
    {
     "data": {
      "image/png": "[encoded data removed]",
      "text/plain": [
       "<Figure size 288x288 with 1 Axes>"
      ]
     },
     "metadata": {},
     "output_type": "display_data"
    }
   ],
   "source": [
    "import seaborn\n",
    "import numpy as np\n",
    "import matplotlib.pyplot as plt\n",
    "from statsmodels.graphics.gofplots import ProbPlot\n",
    "\n",
    "f = model.fittedvalues\n",
    "r = model.resid\n",
    "ar = np.abs(r)\n",
    "\n",
    "ar_sort = ar.sort_values(ascending = False)\n",
    "top_3_ar = ar_sort[0:3] # top 3 absolute residuals\n",
    "\n",
    "seaborn.set(rc = {'figure.figsize': (4,4)}) # 크기 정해주는 옵션\n",
    "seaborn.residplot(f, r, data = possum) # residual plot 그려주는 부분\n",
    "\n",
    "plt.title(\"Residuals vs. Fitted\")\n",
    "plt.ylabel(\"Residuals\")\n",
    "plt.xlabel(\"Fitted values\")\n",
    "\n",
    "for i in top_3_ar.index:\n",
    "    plt.annotate(i, xy = (f[i], r[i]))\n",
    "plt.show()"
   ]
  },
  {
   "cell_type": "code",
   "execution_count": 14,
   "metadata": {},
   "outputs": [
    {
     "ename": "AttributeError",
     "evalue": "'numpy.ndarray' object has no attribute 'sort_values'",
     "output_type": "error",
     "traceback": [
      "\u001b[0;31m---------------------------------------------------------------------------\u001b[0m",
      "\u001b[0;31mAttributeError\u001b[0m                            Traceback (most recent call last)",
      "\u001b[0;32m<ipython-input-14-51688e639509>\u001b[0m in \u001b[0;36m<module>\u001b[0;34m\u001b[0m\n\u001b[1;32m      7\u001b[0m \u001b[0mf\u001b[0m \u001b[0;34m=\u001b[0m \u001b[0mmodel\u001b[0m\u001b[0;34m.\u001b[0m\u001b[0mfittedvalues\u001b[0m \u001b[0;31m# 예측값 (fitted values)\u001b[0m\u001b[0;34m\u001b[0m\u001b[0;34m\u001b[0m\u001b[0m\n\u001b[1;32m      8\u001b[0m \u001b[0;34m\u001b[0m\u001b[0m\n\u001b[0;32m----> 9\u001b[0;31m \u001b[0mar_sort\u001b[0m \u001b[0;34m=\u001b[0m \u001b[0mstd_res\u001b[0m\u001b[0;34m.\u001b[0m\u001b[0msort_values\u001b[0m\u001b[0;34m(\u001b[0m\u001b[0mascending\u001b[0m \u001b[0;34m=\u001b[0m \u001b[0;32mFalse\u001b[0m\u001b[0;34m)\u001b[0m\u001b[0;34m\u001b[0m\u001b[0;34m\u001b[0m\u001b[0m\n\u001b[0m\u001b[1;32m     10\u001b[0m \u001b[0mtop_3_ar\u001b[0m \u001b[0;34m=\u001b[0m \u001b[0mar_sort\u001b[0m\u001b[0;34m[\u001b[0m\u001b[0;36m0\u001b[0m\u001b[0;34m:\u001b[0m\u001b[0;36m5\u001b[0m\u001b[0;34m]\u001b[0m \u001b[0;31m# top 5 absolute residuals\u001b[0m\u001b[0;34m\u001b[0m\u001b[0;34m\u001b[0m\u001b[0m\n\u001b[1;32m     11\u001b[0m \u001b[0;34m\u001b[0m\u001b[0m\n",
      "\u001b[0;31mAttributeError\u001b[0m: 'numpy.ndarray' object has no attribute 'sort_values'"
     ]
    }
   ],
   "source": [
    "# standardized residual\n",
    "\n",
    "influence = model.get_influence()\n",
    "std_res = influence.resid_studentized_internal\n",
    "stt_res = influence.resid_studentized_external\n",
    "\n",
    "f = model.fittedvalues # 예측값 (fitted values)\n",
    "\n",
    "ar_sort = std_res.sort_values(ascending = False)\n",
    "top_3_ar = ar_sort[0:5] # top 5 absolute residuals\n",
    "\n",
    "seaborn.set(rc = {'figure.figsize': (4,4)}) # 크기 정해주는 옵션\n",
    "seaborn.residplot(f, std_res, data = possum) # residual plot 그려주는 부분\n",
    "\n",
    "plt.title(\"Standardized Residuals vs. Fitted\")\n",
    "plt.ylabel(\"Residuals\")\n",
    "plt.xlabel(\"Fitted values\")\n",
    "\n",
    "for i in top_5_ar.index:\n",
    "    plt.annotate(i, xy = (f[i], r[i]))\n",
    "plt.show()\n",
    "\n",
    "# 아 다섯 개 정도가 쁠마 2를 벗어나고 있구나\n",
    "# => 괜찮네 할 수도 있고\n",
    "# => 이 다섯 개 값 알고 싶어! 할 수도 있음 => 아까 했던 계산 해주면 됨"
   ]
  },
  {
   "cell_type": "code",
   "execution_count": 15,
   "metadata": {},
   "outputs": [
    {
     "ename": "AttributeError",
     "evalue": "'numpy.ndarray' object has no attribute 'sort_values'",
     "output_type": "error",
     "traceback": [
      "\u001b[0;31m---------------------------------------------------------------------------\u001b[0m",
      "\u001b[0;31mAttributeError\u001b[0m                            Traceback (most recent call last)",
      "\u001b[0;32m<ipython-input-15-f43baf84adba>\u001b[0m in \u001b[0;36m<module>\u001b[0;34m\u001b[0m\n\u001b[1;32m      7\u001b[0m \u001b[0mf\u001b[0m \u001b[0;34m=\u001b[0m \u001b[0mmodel\u001b[0m\u001b[0;34m.\u001b[0m\u001b[0mfittedvalues\u001b[0m \u001b[0;31m# 예측값 (fitted values)\u001b[0m\u001b[0;34m\u001b[0m\u001b[0;34m\u001b[0m\u001b[0m\n\u001b[1;32m      8\u001b[0m \u001b[0;34m\u001b[0m\u001b[0m\n\u001b[0;32m----> 9\u001b[0;31m \u001b[0mar_sort\u001b[0m \u001b[0;34m=\u001b[0m \u001b[0mstd_res\u001b[0m\u001b[0;34m.\u001b[0m\u001b[0msort_values\u001b[0m\u001b[0;34m(\u001b[0m\u001b[0mascending\u001b[0m \u001b[0;34m=\u001b[0m \u001b[0;32mFalse\u001b[0m\u001b[0;34m)\u001b[0m\u001b[0;34m\u001b[0m\u001b[0;34m\u001b[0m\u001b[0m\n\u001b[0m\u001b[1;32m     10\u001b[0m \u001b[0mtop_3_ar\u001b[0m \u001b[0;34m=\u001b[0m \u001b[0mar_sort\u001b[0m\u001b[0;34m[\u001b[0m\u001b[0;36m0\u001b[0m\u001b[0;34m:\u001b[0m\u001b[0;36m5\u001b[0m\u001b[0;34m]\u001b[0m \u001b[0;31m# top 5 absolute residuals\u001b[0m\u001b[0;34m\u001b[0m\u001b[0;34m\u001b[0m\u001b[0m\n\u001b[1;32m     11\u001b[0m \u001b[0;34m\u001b[0m\u001b[0m\n",
      "\u001b[0;31mAttributeError\u001b[0m: 'numpy.ndarray' object has no attribute 'sort_values'"
     ]
    }
   ],
   "source": [
    "# standardized residual\n",
    "\n",
    "influence = model.get_influence()\n",
    "std_res = influence.resid_studentized_internal\n",
    "stt_res = influence.resid_studentized_external\n",
    "\n",
    "f = model.fittedvalues # 예측값 (fitted values)\n",
    "\n",
    "ar_sort = std_res.sort_values(ascending = False)\n",
    "top_3_ar = ar_sort[0:5] # top 5 absolute residuals\n",
    "\n",
    "seaborn.set(rc = {'figure.figsize': (4,4)}) # 크기 정해주는 옵션\n",
    "seaborn.residplot(f, std_res, data = possum) # residual plot 그려주는 부분\n",
    "\n",
    "plt.title(\"Standardized residuals vs. Observation number\")\n",
    "plt.ylabel(\"Standardized Residuals\")\n",
    "plt.xlabel(\"Observation number\")\n",
    "\n",
    "for i in top_5_ar.index:\n",
    "    plt.annotate(i, xy = (f[i], r[i]))\n",
    "plt.show()\n",
    "\n",
    "# 아 다섯 개 정도가 쁠마 2를 벗어나고 있구나\n",
    "# => 괜찮네 할 수도 있고\n",
    "# => 이 다섯 개 값 알고 싶어! 할 수도 있음 => 아까 했던 계산 해주면 됨"
   ]
  },
  {
   "cell_type": "code",
   "execution_count": 17,
   "metadata": {},
   "outputs": [
    {
     "ename": "NameError",
     "evalue": "name 'std_' is not defined",
     "output_type": "error",
     "traceback": [
      "\u001b[0;31m---------------------------------------------------------------------------\u001b[0m",
      "\u001b[0;31mNameError\u001b[0m                                 Traceback (most recent call last)",
      "\u001b[0;32m<ipython-input-17-1e58f1eec039>\u001b[0m in \u001b[0;36m<module>\u001b[0;34m\u001b[0m\n\u001b[1;32m      3\u001b[0m \u001b[0;34m\u001b[0m\u001b[0m\n\u001b[1;32m      4\u001b[0m \u001b[0;31m# QQ plot\u001b[0m\u001b[0;34m\u001b[0m\u001b[0;34m\u001b[0m\u001b[0;34m\u001b[0m\u001b[0m\n\u001b[0;32m----> 5\u001b[0;31m \u001b[0mQQ\u001b[0m \u001b[0;34m=\u001b[0m \u001b[0mProbPlot\u001b[0m\u001b[0;34m(\u001b[0m\u001b[0mstd_\u001b[0m\u001b[0;34m)\u001b[0m\u001b[0;34m\u001b[0m\u001b[0;34m\u001b[0m\u001b[0m\n\u001b[0m",
      "\u001b[0;31mNameError\u001b[0m: name 'std_' is not defined"
     ]
    }
   ],
   "source": [
    "# 표준화된 잔차로 QQ plot & shapiro\n",
    "from scipy.stats import shapiro\n",
    "\n",
    "# QQ plot\n",
    "QQ = ProbPlot(std_)"
   ]
  },
  {
   "cell_type": "markdown",
   "metadata": {},
   "source": [
    "### 8.4. 중회귀분석"
   ]
  },
  {
   "cell_type": "code",
   "execution_count": 19,
   "metadata": {},
   "outputs": [
    {
     "data": {
      "image/png": "[encoded data removed]",
      "text/plain": [
       "<Figure size 720x720 with 20 Axes>"
      ]
     },
     "metadata": {},
     "output_type": "display_data"
    }
   ],
   "source": [
    "iqsize = pandas.read_csv(\"iqsize.txt\", sep = ' ')\n",
    "seaborn.pairplot(data = iqsize)\n",
    "plt.show()"
   ]
  },
  {
   "cell_type": "code",
   "execution_count": 20,
   "metadata": {},
   "outputs": [
    {
     "data": {
      "text/html": [
       "<div>\n",
       "<style scoped>\n",
       "    .dataframe tbody tr th:only-of-type {\n",
       "        vertical-align: middle;\n",
       "    }\n",
       "\n",
       "    .dataframe tbody tr th {\n",
       "        vertical-align: top;\n",
       "    }\n",
       "\n",
       "    .dataframe thead th {\n",
       "        text-align: right;\n",
       "    }\n",
       "</style>\n",
       "<table border=\"1\" class=\"dataframe\">\n",
       "  <thead>\n",
       "    <tr style=\"text-align: right;\">\n",
       "      <th></th>\n",
       "      <th>PIQ</th>\n",
       "      <th>Brain</th>\n",
       "      <th>Height</th>\n",
       "      <th>Weight</th>\n",
       "    </tr>\n",
       "  </thead>\n",
       "  <tbody>\n",
       "    <tr>\n",
       "      <th>PIQ</th>\n",
       "      <td>1.000000</td>\n",
       "      <td>0.377815</td>\n",
       "      <td>-0.093156</td>\n",
       "      <td>0.002512</td>\n",
       "    </tr>\n",
       "    <tr>\n",
       "      <th>Brain</th>\n",
       "      <td>0.377815</td>\n",
       "      <td>1.000000</td>\n",
       "      <td>0.588367</td>\n",
       "      <td>0.513487</td>\n",
       "    </tr>\n",
       "    <tr>\n",
       "      <th>Height</th>\n",
       "      <td>-0.093156</td>\n",
       "      <td>0.588367</td>\n",
       "      <td>1.000000</td>\n",
       "      <td>0.699614</td>\n",
       "    </tr>\n",
       "    <tr>\n",
       "      <th>Weight</th>\n",
       "      <td>0.002512</td>\n",
       "      <td>0.513487</td>\n",
       "      <td>0.699614</td>\n",
       "      <td>1.000000</td>\n",
       "    </tr>\n",
       "  </tbody>\n",
       "</table>\n",
       "</div>"
      ],
      "text/plain": [
       "             PIQ     Brain    Height    Weight\n",
       "PIQ     1.000000  0.377815 -0.093156  0.002512\n",
       "Brain   0.377815  1.000000  0.588367  0.513487\n",
       "Height -0.093156  0.588367  1.000000  0.699614\n",
       "Weight  0.002512  0.513487  0.699614  1.000000"
      ]
     },
     "execution_count": 20,
     "metadata": {},
     "output_type": "execute_result"
    }
   ],
   "source": [
    "iqsize.corr(method='pearson')"
   ]
  },
  {
   "cell_type": "code",
   "execution_count": 21,
   "metadata": {},
   "outputs": [
    {
     "name": "stdout",
     "output_type": "stream",
     "text": [
      "Pearson's correlation coefficient: 0.37781546250644005, p-value: 0.01935431879041525\n"
     ]
    }
   ],
   "source": [
    "t, p = stats.pearsonr(iqsize['PIQ'], iqsize['Brain'])\n",
    "print(\"Pearson's correlation coefficient: %s, p-value: %s\" % (t, p))"
   ]
  },
  {
   "cell_type": "code",
   "execution_count": 22,
   "metadata": {},
   "outputs": [
    {
     "name": "stdout",
     "output_type": "stream",
     "text": [
      "                            OLS Regression Results                            \n",
      "==============================================================================\n",
      "Dep. Variable:                    PIQ   R-squared:                       0.295\n",
      "Model:                            OLS   Adj. R-squared:                  0.233\n",
      "Method:                 Least Squares   F-statistic:                     4.741\n",
      "Date:                Wed, 27 Nov 2019   Prob (F-statistic):            0.00722\n",
      "Time:                        14:14:35   Log-Likelihood:                -165.25\n",
      "No. Observations:                  38   AIC:                             338.5\n",
      "Df Residuals:                      34   BIC:                             345.1\n",
      "Df Model:                           3                                         \n",
      "Covariance Type:            nonrobust                                         \n",
      "==============================================================================\n",
      "                 coef    std err          t      P>|t|      [0.025      0.975]\n",
      "------------------------------------------------------------------------------\n",
      "Intercept    111.3536     62.971      1.768      0.086     -16.619     239.326\n",
      "Brain          2.0604      0.563      3.657      0.001       0.915       3.205\n",
      "Height        -2.7319      1.229     -2.222      0.033      -5.230      -0.233\n",
      "Weight         0.0006      0.197      0.003      0.998      -0.400       0.401\n",
      "==============================================================================\n",
      "Omnibus:                        1.379   Durbin-Watson:                   1.827\n",
      "Prob(Omnibus):                  0.502   Jarque-Bera (JB):                1.088\n",
      "Skew:                           0.409   Prob(JB):                        0.580\n",
      "Kurtosis:                       2.859   Cond. No.                     3.73e+03\n",
      "==============================================================================\n",
      "\n",
      "Warnings:\n",
      "[1] Standard Errors assume that the covariance matrix of the errors is correctly specified.\n",
      "[2] The condition number is large, 3.73e+03. This might indicate that there are\n",
      "strong multicollinearity or other numerical problems.\n"
     ]
    }
   ],
   "source": [
    "model = ols(\"PIQ ~ Brain + Height + Weight\", iqsize).fit()\n",
    "print(model.summary())"
   ]
  },
  {
   "cell_type": "code",
   "execution_count": null,
   "metadata": {},
   "outputs": [],
   "source": []
  }
 ],
 "metadata": {
  "kernelspec": {
   "display_name": "Python 3",
   "language": "python",
   "name": "python3"
  },
  "language_info": {
   "codemirror_mode": {
    "name": "ipython",
    "version": 3
   },
   "file_extension": ".py",
   "mimetype": "text/x-python",
   "name": "python",
   "nbconvert_exporter": "python",
   "pygments_lexer": "ipython3",
   "version": "3.7.3"
  }
 },
 "nbformat": 4,
 "nbformat_minor": 2
}
