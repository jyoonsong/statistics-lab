{
 "cells": [
  {
   "cell_type": "markdown",
   "metadata": {},
   "source": [
    "## 4.5. 자료를 이용한 예제 "
   ]
  },
  {
   "cell_type": "code",
   "execution_count": 10,
   "metadata": {},
   "outputs": [
    {
     "data": {
      "text/html": [
       "<div>\n",
       "<style scoped>\n",
       "    .dataframe tbody tr th:only-of-type {\n",
       "        vertical-align: middle;\n",
       "    }\n",
       "\n",
       "    .dataframe tbody tr th {\n",
       "        vertical-align: top;\n",
       "    }\n",
       "\n",
       "    .dataframe thead th {\n",
       "        text-align: right;\n",
       "    }\n",
       "</style>\n",
       "<table border=\"1\" class=\"dataframe\">\n",
       "  <thead>\n",
       "    <tr style=\"text-align: right;\">\n",
       "      <th></th>\n",
       "      <th>Order</th>\n",
       "      <th>PID</th>\n",
       "      <th>MS.SubClass</th>\n",
       "      <th>MS.Zoning</th>\n",
       "      <th>Lot.Frontage</th>\n",
       "      <th>Lot.Area</th>\n",
       "      <th>Street</th>\n",
       "      <th>Alley</th>\n",
       "      <th>Lot.Shape</th>\n",
       "      <th>Land.Contour</th>\n",
       "      <th>...</th>\n",
       "      <th>Pool.Area</th>\n",
       "      <th>Pool.QC</th>\n",
       "      <th>Fence</th>\n",
       "      <th>Misc.Feature</th>\n",
       "      <th>Misc.Val</th>\n",
       "      <th>Mo.Sold</th>\n",
       "      <th>Yr.Sold</th>\n",
       "      <th>Sale.Type</th>\n",
       "      <th>Sale.Condition</th>\n",
       "      <th>SalePrice</th>\n",
       "    </tr>\n",
       "  </thead>\n",
       "  <tbody>\n",
       "    <tr>\n",
       "      <th>0</th>\n",
       "      <td>1</td>\n",
       "      <td>526301100</td>\n",
       "      <td>20</td>\n",
       "      <td>RL</td>\n",
       "      <td>141.0</td>\n",
       "      <td>31770</td>\n",
       "      <td>Pave</td>\n",
       "      <td>NaN</td>\n",
       "      <td>IR1</td>\n",
       "      <td>Lvl</td>\n",
       "      <td>...</td>\n",
       "      <td>0</td>\n",
       "      <td>NaN</td>\n",
       "      <td>NaN</td>\n",
       "      <td>NaN</td>\n",
       "      <td>0</td>\n",
       "      <td>5</td>\n",
       "      <td>2010</td>\n",
       "      <td>WD</td>\n",
       "      <td>Normal</td>\n",
       "      <td>215000</td>\n",
       "    </tr>\n",
       "    <tr>\n",
       "      <th>1</th>\n",
       "      <td>2</td>\n",
       "      <td>526350040</td>\n",
       "      <td>20</td>\n",
       "      <td>RH</td>\n",
       "      <td>80.0</td>\n",
       "      <td>11622</td>\n",
       "      <td>Pave</td>\n",
       "      <td>NaN</td>\n",
       "      <td>Reg</td>\n",
       "      <td>Lvl</td>\n",
       "      <td>...</td>\n",
       "      <td>0</td>\n",
       "      <td>NaN</td>\n",
       "      <td>MnPrv</td>\n",
       "      <td>NaN</td>\n",
       "      <td>0</td>\n",
       "      <td>6</td>\n",
       "      <td>2010</td>\n",
       "      <td>WD</td>\n",
       "      <td>Normal</td>\n",
       "      <td>105000</td>\n",
       "    </tr>\n",
       "    <tr>\n",
       "      <th>2</th>\n",
       "      <td>3</td>\n",
       "      <td>526351010</td>\n",
       "      <td>20</td>\n",
       "      <td>RL</td>\n",
       "      <td>81.0</td>\n",
       "      <td>14267</td>\n",
       "      <td>Pave</td>\n",
       "      <td>NaN</td>\n",
       "      <td>IR1</td>\n",
       "      <td>Lvl</td>\n",
       "      <td>...</td>\n",
       "      <td>0</td>\n",
       "      <td>NaN</td>\n",
       "      <td>NaN</td>\n",
       "      <td>Gar2</td>\n",
       "      <td>12500</td>\n",
       "      <td>6</td>\n",
       "      <td>2010</td>\n",
       "      <td>WD</td>\n",
       "      <td>Normal</td>\n",
       "      <td>172000</td>\n",
       "    </tr>\n",
       "    <tr>\n",
       "      <th>3</th>\n",
       "      <td>4</td>\n",
       "      <td>526353030</td>\n",
       "      <td>20</td>\n",
       "      <td>RL</td>\n",
       "      <td>93.0</td>\n",
       "      <td>11160</td>\n",
       "      <td>Pave</td>\n",
       "      <td>NaN</td>\n",
       "      <td>Reg</td>\n",
       "      <td>Lvl</td>\n",
       "      <td>...</td>\n",
       "      <td>0</td>\n",
       "      <td>NaN</td>\n",
       "      <td>NaN</td>\n",
       "      <td>NaN</td>\n",
       "      <td>0</td>\n",
       "      <td>4</td>\n",
       "      <td>2010</td>\n",
       "      <td>WD</td>\n",
       "      <td>Normal</td>\n",
       "      <td>244000</td>\n",
       "    </tr>\n",
       "  </tbody>\n",
       "</table>\n",
       "<p>4 rows × 82 columns</p>\n",
       "</div>"
      ],
      "text/plain": [
       "   Order        PID  MS.SubClass MS.Zoning  Lot.Frontage  Lot.Area Street  \\\n",
       "0      1  526301100           20        RL         141.0     31770   Pave   \n",
       "1      2  526350040           20        RH          80.0     11622   Pave   \n",
       "2      3  526351010           20        RL          81.0     14267   Pave   \n",
       "3      4  526353030           20        RL          93.0     11160   Pave   \n",
       "\n",
       "  Alley Lot.Shape Land.Contour  ... Pool.Area Pool.QC  Fence Misc.Feature  \\\n",
       "0   NaN       IR1          Lvl  ...         0     NaN    NaN          NaN   \n",
       "1   NaN       Reg          Lvl  ...         0     NaN  MnPrv          NaN   \n",
       "2   NaN       IR1          Lvl  ...         0     NaN    NaN         Gar2   \n",
       "3   NaN       Reg          Lvl  ...         0     NaN    NaN          NaN   \n",
       "\n",
       "  Misc.Val Mo.Sold Yr.Sold Sale.Type  Sale.Condition  SalePrice  \n",
       "0        0       5    2010       WD           Normal     215000  \n",
       "1        0       6    2010       WD           Normal     105000  \n",
       "2    12500       6    2010       WD           Normal     172000  \n",
       "3        0       4    2010       WD           Normal     244000  \n",
       "\n",
       "[4 rows x 82 columns]"
      ]
     },
     "execution_count": 10,
     "metadata": {},
     "output_type": "execute_result"
    }
   ],
   "source": [
    "import numpy as np\n",
    "import matplotlib.pyplot as plt\n",
    "import pandas\n",
    "\n",
    "pop = pandas.read_csv(\"ames.csv\")\n",
    "pop.head(4)"
   ]
  },
  {
   "cell_type": "markdown",
   "metadata": {},
   "source": [
    "### 예제 1\n",
    "\n",
    "- 히스토그램은 `matplotlib.pyplot` 모듈의 `hist`함수를 이용하여 그렸다.\n",
    "- 수치적 요약으로 중심위치에 대해서는 평균과 중앙값을, 산포에 대해서는 분산과 표준편차를 계산하였다. 모평균은 약 180796.06, 모표준편차는 약 79886.69로 계산된다\n",
    "- 모집단의 분포는 **오른쪽으로 긴 꼬리를 가지는(Right-skewed)** 왜도가 양수인 분포이다."
   ]
  },
  {
   "cell_type": "code",
   "execution_count": 11,
   "metadata": {},
   "outputs": [
    {
     "data": {
      "image/png": "[encoded data removed]",
      "text/plain": [
       "<Figure size 432x288 with 1 Axes>"
      ]
     },
     "metadata": {
      "needs_background": "light"
     },
     "output_type": "display_data"
    },
    {
     "name": "stdout",
     "output_type": "stream",
     "text": [
      "count      2930.000000\n",
      "mean     180796.060068\n",
      "std       79886.692357\n",
      "min       12789.000000\n",
      "25%      129500.000000\n",
      "50%      160000.000000\n",
      "75%      213500.000000\n",
      "max      755000.000000\n",
      "Name: SalePrice, dtype: float64\n",
      "var\t6379705498.413448\n"
     ]
    }
   ],
   "source": [
    "# 히스토그램\n",
    "plt.hist(pop['SalePrice'], bins = 15, color = \"C0\", histtype = 'bar')\n",
    "plt.title(\"Histogram of SalePrice\")\n",
    "plt.ylabel(\"frequency\")\n",
    "plt.ylabel(\"SalePrice\")\n",
    "plt.show()\n",
    "\n",
    "# 수치적 요약\n",
    "print( pop['SalePrice'].describe() )\n",
    "\n",
    "mean = np.mean(pop['SalePrice'])\n",
    "std = np.std(pop['SalePrice'])\n",
    "\n",
    "# describe() 함수를 쓰지 않는 경우 아래와 같은 코드를 사용하는 것도 가능하다.\n",
    "# print(\"평균\", mean)\n",
    "# print(\"중앙값\", np.median(pop['SalePrice']))\n",
    "print(\"var\\t\" + str(np.var(pop['SalePrice'])))\n",
    "# print(\"표준편차\", std)"
   ]
  },
  {
   "cell_type": "markdown",
   "metadata": {},
   "source": [
    "### 예제 2\n",
    "* 모평균의 추정값은 **표본평균**이다. 아래 표본에서 계산한 표본평균, 즉 모평균의 추정값은 **185113.3**이다."
   ]
  },
  {
   "cell_type": "code",
   "execution_count": 12,
   "metadata": {},
   "outputs": [
    {
     "name": "stdout",
     "output_type": "stream",
     "text": [
      "185113.3\n"
     ]
    }
   ],
   "source": [
    "np.random.seed(1)\n",
    "\n",
    "n = 50\n",
    "\n",
    "sample = pop['SalePrice'].sample(n)\n",
    "print( sample.mean() )"
   ]
  },
  {
   "cell_type": "markdown",
   "metadata": {},
   "source": [
    "### 예제 3\n",
    "\n",
    "표본평균의 분포는 **좌우대칭 종모양의 정규분포에 근사**한다. 이는 중심극한정리와 일관되는 결과이다.\n"
   ]
  },
  {
   "cell_type": "code",
   "execution_count": 13,
   "metadata": {},
   "outputs": [
    {
     "data": {
      "image/png": "[encoded data removed]",
      "text/plain": [
       "<Figure size 432x288 with 1 Axes>"
      ]
     },
     "metadata": {
      "needs_background": "light"
     },
     "output_type": "display_data"
    }
   ],
   "source": [
    "sample_mean50 = []\n",
    "\n",
    "for _ in range(5000):\n",
    "    sample = pop['SalePrice'].sample(n)\n",
    "    sample_mean50.append( sample.mean() )\n",
    "\n",
    "plt.hist(sample_mean50, bins = 20, color = \"C0\", histtype = 'bar')\n",
    "plt.title(\"Histogram of sample means (n = 50)\")\n",
    "plt.ylabel(\"frequency\")\n",
    "plt.ylabel(\"sample mean\")\n",
    "plt.show()"
   ]
  },
  {
   "cell_type": "markdown",
   "metadata": {},
   "source": [
    "### 예제 4\n",
    "\n",
    "* 표본평균의 평균은 약 180806.79로, 모평균 180796.06와 유사한 값이다. n이 무한대로 갈 때, 표본평균의 평균은 모평균과 같아진다.\n",
    "* 표본평균의 분산은 약 128895736.19으로, 모분산 6379705498.41을 표본의 크기(n)인 50으로 나눈 127594109.97과 유사한 값이다.\n",
    "* **이는 표본평균의 평균이 모평균(`μ`)에 근사하며, 표본평균의 분산은 모분산을 표본의 크기로 나눈 값(`σ^2/n`)에 근사함을 보여준다.**\n",
    "* 예제 3에서의 답변을 종합하여 정리하면 표본평균의 분포는 `μ`를 평균, `σ^2/n`정규분포 `N(μ, σ^2/n)`에 근사한다."
   ]
  },
  {
   "cell_type": "code",
   "execution_count": 14,
   "metadata": {},
   "outputs": [
    {
     "name": "stdout",
     "output_type": "stream",
     "text": [
      "180804.551812\n",
      "128927219.58197807\n"
     ]
    }
   ],
   "source": [
    "print( np.mean(sample_mean50) )\n",
    "print( np.var(sample_mean50, ddof = 1) ) # or "
   ]
  },
  {
   "cell_type": "markdown",
   "metadata": {},
   "source": [
    "### 예제 5\n",
    "\n",
    "* n이 50일 때에 비해 n이 150일 때, 그래프의 폭이 더 좁고 모평균 근처에 좀더 몰려 있다. 이를 통해 **표본의 크기(n)가 클수록 표본평균의 분산이 작아짐**을 알 수 있다."
   ]
  },
  {
   "cell_type": "code",
   "execution_count": 15,
   "metadata": {},
   "outputs": [
    {
     "data": {
      "image/png": "[encoded data removed]",
      "text/plain": [
       "<Figure size 432x288 with 1 Axes>"
      ]
     },
     "metadata": {
      "needs_background": "light"
     },
     "output_type": "display_data"
    }
   ],
   "source": [
    "n = 150\n",
    "sample_mean150 = []\n",
    "\n",
    "for _ in range(5000):\n",
    "    sample = pop['SalePrice'].sample(n)\n",
    "    sample_mean150.append( sample.mean() )\n",
    "\n",
    "plt.hist(sample_mean150, bins = 20, color = \"C0\", histtype = 'bar')\n",
    "plt.title(\"Histogram of sample means (n = 150)\")\n",
    "plt.ylabel(\"frequency\")\n",
    "plt.ylabel(\"sample mean\")\n",
    "plt.show()"
   ]
  }
 ],
 "metadata": {
  "kernelspec": {
   "display_name": "Python 3",
   "language": "python",
   "name": "python3"
  },
  "language_info": {
   "codemirror_mode": {
    "name": "ipython",
    "version": 3
   },
   "file_extension": ".py",
   "mimetype": "text/x-python",
   "name": "python",
   "nbconvert_exporter": "python",
   "pygments_lexer": "ipython3",
   "version": "3.7.3"
  }
 },
 "nbformat": 4,
 "nbformat_minor": 2
}
