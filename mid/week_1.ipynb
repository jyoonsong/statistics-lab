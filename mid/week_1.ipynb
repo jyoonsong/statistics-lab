{
 "cells": [
  {
   "cell_type": "markdown",
   "metadata": {},
   "source": [
    "# Week 1\n",
    "\n",
    "### 1. 정수형"
   ]
  },
  {
   "cell_type": "code",
   "execution_count": 118,
   "metadata": {},
   "outputs": [
    {
     "name": "stdout",
     "output_type": "stream",
     "text": [
      "Hello World\n"
     ]
    }
   ],
   "source": [
    "print (\"Hello World\")"
   ]
  },
  {
   "cell_type": "code",
   "execution_count": 119,
   "metadata": {},
   "outputs": [
    {
     "name": "stdout",
     "output_type": "stream",
     "text": [
      "5\n",
      "3\n",
      "100\n",
      "100.0\n"
     ]
    }
   ],
   "source": [
    "a = 5\n",
    "b = 3\n",
    "c = 100 # 정수형\n",
    "d = 1e+2 # 실수형\n",
    "\n",
    "print(a)\n",
    "print(b)\n",
    "print(c)\n",
    "print(d)"
   ]
  },
  {
   "cell_type": "code",
   "execution_count": 120,
   "metadata": {},
   "outputs": [
    {
     "name": "stdout",
     "output_type": "stream",
     "text": [
      "8\n",
      "2\n",
      "1.6666666666666667\n",
      "15\n",
      "103\n",
      "103.0\n"
     ]
    }
   ],
   "source": [
    "print(a + b)\n",
    "print(a - b)\n",
    "print(a / b)\n",
    "print(a * b)\n",
    "print(b + c)\n",
    "print(b + d)"
   ]
  },
  {
   "cell_type": "code",
   "execution_count": 121,
   "metadata": {},
   "outputs": [
    {
     "name": "stdout",
     "output_type": "stream",
     "text": [
      "3\n",
      "1\n",
      "125\n"
     ]
    }
   ],
   "source": [
    "print(7 % 4) # 나머지\n",
    "print(7 // 4) # 몫\n",
    "print(a**b) # a 제곱 b"
   ]
  },
  {
   "cell_type": "code",
   "execution_count": 122,
   "metadata": {},
   "outputs": [
    {
     "name": "stdout",
     "output_type": "stream",
     "text": [
      "7\n",
      "2.3333333333333335\n",
      "7.0\n"
     ]
    }
   ],
   "source": [
    "a = 4\n",
    "a += 3\n",
    "print(a)\n",
    "\n",
    "a /= 3 # a = a / 3\n",
    "print(a)\n",
    "\n",
    "a *= 3 # a = a * 3\n",
    "print(a)"
   ]
  },
  {
   "cell_type": "markdown",
   "metadata": {},
   "source": [
    "### 2. 문자형"
   ]
  },
  {
   "cell_type": "code",
   "execution_count": 123,
   "metadata": {},
   "outputs": [
    {
     "name": "stdout",
     "output_type": "stream",
     "text": [
      "python\n",
      "python\n",
      "'hello' world\n",
      "hello \"world\"\n"
     ]
    }
   ],
   "source": [
    "c = \"python\"\n",
    "print(c)\n",
    "\n",
    "d = 'python'\n",
    "print(d)\n",
    "\n",
    "e = \"'hello' world\"\n",
    "f = 'hello \"world\"'\n",
    "print(e)\n",
    "print(f)"
   ]
  },
  {
   "cell_type": "code",
   "execution_count": 124,
   "metadata": {},
   "outputs": [
    {
     "name": "stdout",
     "output_type": "stream",
     "text": [
      "python3\n",
      "python2\n",
      "python3\tpython2\n"
     ]
    }
   ],
   "source": [
    "f = \"python3\\npython2\"\n",
    "print(f)\n",
    "\n",
    "f = \"python3\\tpython2\"\n",
    "print(f)"
   ]
  },
  {
   "cell_type": "code",
   "execution_count": 125,
   "metadata": {},
   "outputs": [
    {
     "name": "stdout",
     "output_type": "stream",
     "text": [
      "a\n",
      "abc\n",
      "abc\n",
      "h\n",
      "fg\n"
     ]
    }
   ],
   "source": [
    "e = \"abcdefgh\"\n",
    "\n",
    "print( e[0] )\n",
    "\n",
    "print( e[0:3] ) # [0,3)\n",
    "print( e[:3] ) # same\n",
    "\n",
    "print( e[-1] ) # backwards\n",
    "print( e[-3:-1] ) # backwards [-3,-1)"
   ]
  },
  {
   "cell_type": "code",
   "execution_count": 126,
   "metadata": {},
   "outputs": [
    {
     "name": "stdout",
     "output_type": "stream",
     "text": [
      "abcdef\n",
      "abcabcabcabcabc\n",
      "aaaaa\n"
     ]
    }
   ],
   "source": [
    "a = 'abc'\n",
    "b = 'def'\n",
    "\n",
    "print(a + b)\n",
    "print(a * 5)\n",
    "print('a' * 5)"
   ]
  },
  {
   "cell_type": "markdown",
   "metadata": {},
   "source": [
    "### 3. 논리형(boolean)"
   ]
  },
  {
   "cell_type": "code",
   "execution_count": 127,
   "metadata": {},
   "outputs": [
    {
     "name": "stdout",
     "output_type": "stream",
     "text": [
      "True\n",
      "False\n",
      "True\n",
      "False\n",
      "True\n",
      "False\n"
     ]
    }
   ],
   "source": [
    "a = 1\n",
    "print(a == 1)\n",
    "print(a != 1)\n",
    "\n",
    "print(a is 1)\n",
    "print(a is not 1)\n",
    "\n",
    "print(a > 0)\n",
    "print(not a) # 1 = true / 0 = false"
   ]
  },
  {
   "cell_type": "code",
   "execution_count": 128,
   "metadata": {},
   "outputs": [
    {
     "name": "stdout",
     "output_type": "stream",
     "text": [
      "True\n",
      "True\n"
     ]
    }
   ],
   "source": [
    "print (a in [1, 2, 3])\n",
    "print (\"a\" in \"abc\")"
   ]
  },
  {
   "cell_type": "code",
   "execution_count": 129,
   "metadata": {},
   "outputs": [
    {
     "name": "stdout",
     "output_type": "stream",
     "text": [
      "2\n",
      "0\n",
      "0\n"
     ]
    }
   ],
   "source": [
    "print( True + True )\n",
    "print( False + False )\n",
    "print( True * False )"
   ]
  },
  {
   "cell_type": "code",
   "execution_count": 130,
   "metadata": {},
   "outputs": [
    {
     "name": "stdout",
     "output_type": "stream",
     "text": [
      "True\n",
      "True\n"
     ]
    }
   ],
   "source": [
    "print( (3 == 2) or (3 * 4 == 12) )\n",
    "print( (2 * 1 == 2) and (3 * 2 == 6) )"
   ]
  },
  {
   "cell_type": "markdown",
   "metadata": {},
   "source": [
    "### 4. 리스트형"
   ]
  },
  {
   "cell_type": "code",
   "execution_count": 131,
   "metadata": {},
   "outputs": [
    {
     "name": "stdout",
     "output_type": "stream",
     "text": [
      "[22, 23, 24, 25] ['kim', 'lee', 'park'] [True, False, True]\n"
     ]
    }
   ],
   "source": [
    "# 리스트는 모든 데이터 타입을 다 원소로 받음.\n",
    "age = [22, 23, 24, 25]\n",
    "name = ['kim', 'lee', 'park']\n",
    "TF = [True, False, True]\n",
    "\n",
    "print(age, name, TF)"
   ]
  },
  {
   "cell_type": "code",
   "execution_count": 132,
   "metadata": {},
   "outputs": [
    {
     "name": "stdout",
     "output_type": "stream",
     "text": [
      "[1, 2, 3, 'a', 'b', True]\n"
     ]
    }
   ],
   "source": [
    "# 다른 데이터 타입도 하나의 리스트에 포함 가능\n",
    "a = [1, 2, 3, 'a', 'b', True]\n",
    "print(a)"
   ]
  },
  {
   "cell_type": "code",
   "execution_count": 133,
   "metadata": {},
   "outputs": [
    {
     "name": "stdout",
     "output_type": "stream",
     "text": [
      "[1, 2, 3, [4, 5, 6]]\n"
     ]
    }
   ],
   "source": [
    "# list를 list의 원소로 받을 수 있음\n",
    "c = [1, 2, 3, [4, 5, 6]]\n",
    "print(c)"
   ]
  },
  {
   "cell_type": "code",
   "execution_count": 134,
   "metadata": {},
   "outputs": [
    {
     "name": "stdout",
     "output_type": "stream",
     "text": [
      "1\n",
      "[1, 2, 3]\n",
      "[3, 'a']\n",
      "ab\n",
      "True\n",
      "[4, 5]\n"
     ]
    }
   ],
   "source": [
    "# indexing & slicing\n",
    "print(a[0])\n",
    "print(a[:3])\n",
    "print(a[2:4])\n",
    "print(a[3] + a[4])\n",
    "print(a[-1])\n",
    "\n",
    "print(c[-1][0:2])"
   ]
  },
  {
   "cell_type": "code",
   "execution_count": 135,
   "metadata": {},
   "outputs": [
    {
     "name": "stdout",
     "output_type": "stream",
     "text": [
      "[1, 2, 3, 4, 5, 6]\n"
     ]
    }
   ],
   "source": [
    "# list의 연산\n",
    "a = [1, 2, 3]\n",
    "b = [4, 5, 6]\n",
    "print(a + b)\n",
    "# print(a - b) ERROR"
   ]
  },
  {
   "cell_type": "code",
   "execution_count": 136,
   "metadata": {
    "scrolled": true
   },
   "outputs": [
    {
     "name": "stdout",
     "output_type": "stream",
     "text": [
      "[1, 2, 3, [1, 2, 3], 5, 6, 7]\n",
      "[1, 2, 3, 1, 2, 3, 5, 6, 7]\n",
      "[1, 2, 3, 4, 5, 6, 3, 5, 6, 7]\n"
     ]
    }
   ],
   "source": [
    "# list 내의 원소 수정\n",
    "a = [1, 2, 3, 4, 5, 6, 7]\n",
    "a[3] = [1, 2, 3]\n",
    "print(a)\n",
    "\n",
    "a[3:4] = [1, 2, 3] # 3에서 4전까지(index = 3: [1,2,3])에 값 넣기\n",
    "print(a)\n",
    "\n",
    "a[3:5] = [4, 5, 6] # 3에서 5전까지(index = 3, 4: 1, 2)에 값 넣기\n",
    "print(a)"
   ]
  },
  {
   "cell_type": "markdown",
   "metadata": {},
   "source": [
    "리스트 관련 내장함수\n",
    "\n",
    "- `append(e)` : e를 맨 마지막에 넣어라 (list 형태 그대로 원소로 들어감)\n",
    "- `insert(i, e)` : i 자리에 e를 넣어라\n",
    "- `extend(list)` : list를 맨 마지막에 merge해서 붙여라 (list 형태만 가능)\n",
    "- `remove(e)` : 가장 먼저 나오는 e값을 지워라\n",
    "\n",
    "global\n",
    "- `del(arr[i])` : arr의 i 자리 값을 지움\n",
    "- `del(arr)` : arr 자체가 싹 다 지워짐"
   ]
  },
  {
   "cell_type": "code",
   "execution_count": 137,
   "metadata": {},
   "outputs": [
    {
     "name": "stdout",
     "output_type": "stream",
     "text": [
      "[4]\n",
      "[4, 4]\n",
      "[[1, 2, 3, 4]]\n"
     ]
    }
   ],
   "source": [
    "# list 내장함수\n",
    "a = []\n",
    "a.append(4)\n",
    "print(a)\n",
    "\n",
    "a.append(4)\n",
    "print(a)\n",
    "\n",
    "b = []\n",
    "b.append([1,2,3,4])\n",
    "print(b)"
   ]
  },
  {
   "cell_type": "code",
   "execution_count": 138,
   "metadata": {},
   "outputs": [
    {
     "name": "stdout",
     "output_type": "stream",
     "text": [
      "[[1, 2, 3, 4], 3]\n"
     ]
    }
   ],
   "source": [
    "b.insert(1, 3)\n",
    "print(b)"
   ]
  },
  {
   "cell_type": "code",
   "execution_count": 139,
   "metadata": {},
   "outputs": [
    {
     "name": "stdout",
     "output_type": "stream",
     "text": [
      "[1, 5, 9, 1, 2, 3]\n"
     ]
    }
   ],
   "source": [
    "a = [1, 5, 9]\n",
    "a.extend([1, 2, 3])\n",
    "print(a)"
   ]
  },
  {
   "cell_type": "code",
   "execution_count": 140,
   "metadata": {},
   "outputs": [
    {
     "name": "stdout",
     "output_type": "stream",
     "text": [
      "[5, 9, 1, 2, 3]\n"
     ]
    }
   ],
   "source": [
    "a.remove(1)\n",
    "print(a)"
   ]
  },
  {
   "cell_type": "code",
   "execution_count": 141,
   "metadata": {},
   "outputs": [
    {
     "name": "stdout",
     "output_type": "stream",
     "text": [
      "[5, 1, 2, 3]\n"
     ]
    }
   ],
   "source": [
    "del(a[1])\n",
    "print(a)"
   ]
  },
  {
   "cell_type": "code",
   "execution_count": 142,
   "metadata": {},
   "outputs": [],
   "source": [
    "del(a)\n",
    "# print(a) ERROR"
   ]
  }
 ],
 "metadata": {
  "kernelspec": {
   "display_name": "Python 3",
   "language": "python",
   "name": "python3"
  },
  "language_info": {
   "codemirror_mode": {
    "name": "ipython",
    "version": 3
   },
   "file_extension": ".py",
   "mimetype": "text/x-python",
   "name": "python",
   "nbconvert_exporter": "python",
   "pygments_lexer": "ipython3",
   "version": "3.7.3"
  }
 },
 "nbformat": 4,
 "nbformat_minor": 2
}
