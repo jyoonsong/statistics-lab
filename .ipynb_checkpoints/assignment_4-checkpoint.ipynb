{
 "cells": [
  {
   "cell_type": "markdown",
   "metadata": {},
   "source": [
    "# 예제 1"
   ]
  },
  {
   "cell_type": "code",
   "execution_count": 3,
   "metadata": {},
   "outputs": [
    {
     "data": {
      "text/html": [
       "<div>\n",
       "<style scoped>\n",
       "    .dataframe tbody tr th:only-of-type {\n",
       "        vertical-align: middle;\n",
       "    }\n",
       "\n",
       "    .dataframe tbody tr th {\n",
       "        vertical-align: top;\n",
       "    }\n",
       "\n",
       "    .dataframe thead th {\n",
       "        text-align: right;\n",
       "    }\n",
       "</style>\n",
       "<table border=\"1\" class=\"dataframe\">\n",
       "  <thead>\n",
       "    <tr style=\"text-align: right;\">\n",
       "      <th></th>\n",
       "      <th>deptAbbr</th>\n",
       "      <th>course</th>\n",
       "      <th>ibsn</th>\n",
       "      <th>uclaNew</th>\n",
       "      <th>amazNew</th>\n",
       "      <th>more</th>\n",
       "      <th>diff</th>\n",
       "    </tr>\n",
       "  </thead>\n",
       "  <tbody>\n",
       "    <tr>\n",
       "      <th>1</th>\n",
       "      <td>Am Ind</td>\n",
       "      <td>C170</td>\n",
       "      <td>978-0803272620</td>\n",
       "      <td>27.67</td>\n",
       "      <td>27.95</td>\n",
       "      <td>Y</td>\n",
       "      <td>-0.28</td>\n",
       "    </tr>\n",
       "    <tr>\n",
       "      <th>2</th>\n",
       "      <td>Anthro</td>\n",
       "      <td>9</td>\n",
       "      <td>978-0030119194</td>\n",
       "      <td>40.59</td>\n",
       "      <td>31.14</td>\n",
       "      <td>Y</td>\n",
       "      <td>9.45</td>\n",
       "    </tr>\n",
       "    <tr>\n",
       "      <th>3</th>\n",
       "      <td>Anthro</td>\n",
       "      <td>135T</td>\n",
       "      <td>978-0300080643</td>\n",
       "      <td>31.68</td>\n",
       "      <td>32.00</td>\n",
       "      <td>Y</td>\n",
       "      <td>-0.32</td>\n",
       "    </tr>\n",
       "    <tr>\n",
       "      <th>4</th>\n",
       "      <td>Anthro</td>\n",
       "      <td>191HB</td>\n",
       "      <td>978-0226206813</td>\n",
       "      <td>16.00</td>\n",
       "      <td>11.52</td>\n",
       "      <td>Y</td>\n",
       "      <td>4.48</td>\n",
       "    </tr>\n",
       "    <tr>\n",
       "      <th>5</th>\n",
       "      <td>Art His</td>\n",
       "      <td>M102K</td>\n",
       "      <td>978-0892365999</td>\n",
       "      <td>18.95</td>\n",
       "      <td>14.21</td>\n",
       "      <td>Y</td>\n",
       "      <td>4.74</td>\n",
       "    </tr>\n",
       "  </tbody>\n",
       "</table>\n",
       "</div>"
      ],
      "text/plain": [
       "  deptAbbr course            ibsn  uclaNew  amazNew more  diff\n",
       "1   Am Ind   C170  978-0803272620    27.67    27.95    Y -0.28\n",
       "2   Anthro      9  978-0030119194    40.59    31.14    Y  9.45\n",
       "3   Anthro   135T  978-0300080643    31.68    32.00    Y -0.32\n",
       "4   Anthro  191HB  978-0226206813    16.00    11.52    Y  4.48\n",
       "5  Art His  M102K  978-0892365999    18.95    14.21    Y  4.74"
      ]
     },
     "execution_count": 3,
     "metadata": {},
     "output_type": "execute_result"
    }
   ],
   "source": [
    "import pandas as pd\n",
    "import numpy as np\n",
    "from scipy import stats\n",
    "from scipy.stats import t\n",
    "\n",
    "import matplotlib.pyplot as plt\n",
    "from statsmodels.graphics.gofplots import ProbPlot\n",
    "from scipy.stats import shapiro\n",
    "\n",
    "data = pd.read_csv(\"week_6/textbooks.txt\", sep = \" \")\n",
    "data.head()"
   ]
  },
  {
   "cell_type": "markdown",
   "metadata": {},
   "source": [
    "### 대응비교\n",
    "- 73개의 강의 선택, 각 강의에 쓰이는 교재는 일치\n",
    "  - 동일한 교재의 온라인 오프라인이므로 독립이 아닌 쌍체로 볼 수 있음.\n",
    "  - 따라서 **대응 비교**를 수행해야 한다.\n",
    "- 같은 textbook에 대한 amazNew와 uclaNew를 동질적은 쌍으로 묶고, 각 쌍에서 amazNew와 uclaNew의 차를 D라는 새로운 변수로 정의한다.\n",
    "\n",
    "### 정규분포 가정사항 확인\n",
    "* shapiro noramlity test 수행 결과, 유의확률이 유의수준을 0.01로 잡아도 훨씬 작기 때문에 귀무가설을 기각할 근거가 충분하다. 즉 정규분포 가정이 성립하지 않는다.\n",
    "* 이는 Q-Q plot을 통해서도 확인할 수 있다. 직선을 벗어난 점이 특히 양 끝에 많기 때문에 정규분포 가정이 성립하지 않는 것이다.\n",
    "* 하지만 일단은 정규분포라는 가정 하에 검정을 수행하겠다."
   ]
  },
  {
   "cell_type": "code",
   "execution_count": 4,
   "metadata": {},
   "outputs": [
    {
     "data": {
      "image/png": "[encoded data removed]",
      "text/plain": [
       "<Figure size 432x288 with 1 Axes>"
      ]
     },
     "metadata": {
      "needs_background": "light"
     },
     "output_type": "display_data"
    },
    {
     "name": "stdout",
     "output_type": "stream",
     "text": [
      "0.8645144104957581 1.3152488236300997e-06\n"
     ]
    }
   ],
   "source": [
    "diff = data.uclaNew - data.amazNew\n",
    "\n",
    "# 정규분포 분위수 대조도\n",
    "QQ = ProbPlot(diff)\n",
    "plot = QQ.qqplot(line = 's', color = 'C0', lw = 1)\n",
    "plt.title(\"Normal Q-Q Plot\")\n",
    "plt.show()\n",
    "\n",
    "# Shapiro-Wilk's Normality Test\n",
    "stat, p = shapiro(diff)\n",
    "print(stat, p)"
   ]
  },
  {
   "cell_type": "markdown",
   "metadata": {},
   "source": [
    "### 가설 검정\n",
    "\n",
    "1. 가설\n",
    "    - H0: μD = 0 (두 판매 장소 간 교재의 판매가격은 유의한 차이가 있다)\n",
    "    - H1: μD != 0 (두 판매 장소 간 교재의 판매가격은 유의한 차이가 없다)\n",
    "2. 유의수준 0.05\n",
    "3. 검정통계량\n",
    "    - D의 표본평균의 분포: 평균이 `μD`, 분산이 `σD^2/n`인 정규분포를 따른다. 이를 표준화할 때 D의 모분산을 모르기 때문에 D의 표본분산으로 대체하면 `(Dbar - μD) / (sD / 루트n) ~ t(72)`이다. 여기서 Dbar은 D의 표본평균.\n",
    "    - 검정통계량 관측값: 아래 `ttest_rel`로 계산한 결과 **7.65**이다.\n",
    "4. 결론 도출\n",
    "    - 기각역: n이 충분히 커서 자유도가 높기 때문에 t분포의 분위수가 표준정규분포 분위수에 근사한다. 따라서 기각역은 |T| >= 1.96 인데, 검정통계량이 이에 속하기 때문에 귀무가설을 기각할 수 있다.\n",
    "    - 유의확률(p-value): **6.93e-11**이다. 이는 유의수준 0.05에 비해 충분히 작기 때문에 귀무가설을 기각할 수 있다.\n",
    "    - 결론: 즉 유의수준 5% 하에서 교재의 판매가격은 판매 장소에 따라 차이가 난다는 통계적 근거가 충분히 있다."
   ]
  },
  {
   "cell_type": "code",
   "execution_count": 5,
   "metadata": {},
   "outputs": [
    {
     "data": {
      "text/plain": [
       "Ttest_relResult(statistic=7.648771112479753, pvalue=6.927581126065491e-11)"
      ]
     },
     "execution_count": 5,
     "metadata": {},
     "output_type": "execute_result"
    }
   ],
   "source": [
    "stats.ttest_rel(data.uclaNew, data.amazNew)"
   ]
  },
  {
   "cell_type": "markdown",
   "metadata": {},
   "source": [
    "# 추가문제 1\n",
    "\n",
    "1. 예제 1 수행 후, 예제 1의 amazNew와 uclaNew에 log를 취한 뒤 log(uclaNew)-log(amazNew)가 정규분포를 따르는지 확인하고, log(uclaNew/amazNew)의 모평균이 0이 아닌지 검정하시오.\n",
    "\n",
    "### 대응 비교\n",
    "\n",
    "예제 1에서와 같은 이유로 **대응 비교**를 수행한다.\n",
    "이때 위에서 언급한 바와 같이 `np.log`을 사용하여 log transformation을 해준다.\n",
    "\n",
    "### 정규분포 가정사항 확인\n",
    "- 정규분포 가정이 성립하지 않기 때문에 log transformation을 하여 검정을 진행한다.\n",
    "- log transformation을 하여 shapiro normality test를 수행하면 유의확률이 0.02로 유의수준을 0.01로 잡으면 귀무가설을 기각할 통계적 근거가 불충분하기 때문에 정규분포 가정이 성립한다고 볼 수 있다. 유의수준을 0.05로 잡으면 가정이 성립하지 않는다."
   ]
  },
  {
   "cell_type": "code",
   "execution_count": 6,
   "metadata": {},
   "outputs": [
    {
     "data": {
      "image/png": "[encoded data removed]",
      "text/plain": [
       "<Figure size 432x288 with 1 Axes>"
      ]
     },
     "metadata": {
      "needs_background": "light"
     },
     "output_type": "display_data"
    },
    {
     "name": "stdout",
     "output_type": "stream",
     "text": [
      "0.9612739682197571 0.024542562663555145\n"
     ]
    }
   ],
   "source": [
    "diff_log = np.log(data.uclaNew) - np.log(data.amazNew)\n",
    "\n",
    "# 정규분포 분위수 대조도\n",
    "QQ = ProbPlot(diff_log)\n",
    "plot = QQ.qqplot(line = 's', color = 'C0', lw = 1)\n",
    "plt.title(\"Normal Q-Q Plot\")\n",
    "plt.show()\n",
    "\n",
    "# Shapiro-Wilk's Normality Test\n",
    "stat, p = shapiro(diff_log)\n",
    "print(stat, p)"
   ]
  },
  {
   "cell_type": "markdown",
   "metadata": {},
   "source": [
    "### 가설 검정\n",
    "\n",
    "\n",
    "\n",
    "1. 가설\n",
    "    - H0: μD = 0 (두 판매 장소 간 교재의 판매가격은 유의한 차이가 있다)\n",
    "    - H1: μD != 0 (두 판매 장소 간 교재의 판매가격은 유의한 차이가 없다)\n",
    "2. 유의수준 0.05\n",
    "3. 검정통계량\n",
    "    - D의 표본평균의 분포: 평균이 `μD`, 표준편차가 `σD`인 정규분포를 따른다.\n",
    "    - 검정통계량 관측값: 아래 `ttest_rel`로 계산한 결과 **12.67**이다.\n",
    "4. 결론 도출\n",
    "    - 기각역: n이 충분히 커서 자유도가 높기 때문에 t분포의 분위수가 표준정규분포 분위수에 근사한다. 따라서 기각역은 |Z| >= 1.96 인데, 검정통계량이 이에 속하기 때문에 귀무가설을 기각할 수 있다.\n",
    "    - 유의확률(p-value): **5.25e-20**이다. 이는 유의수준 0.05에 비해 충분히 작기 때문에 귀무가설을 기각할 수 있다.\n",
    "    - 결론: 즉 유의수준 5% 하에서 교재의 판매가격은 판매 장소에 따라 차이가 난다는 통계적 근거가 충분히 있다."
   ]
  },
  {
   "cell_type": "code",
   "execution_count": 7,
   "metadata": {},
   "outputs": [
    {
     "data": {
      "text/plain": [
       "Ttest_relResult(statistic=12.670201707319729, pvalue=5.249131549263643e-20)"
      ]
     },
     "execution_count": 7,
     "metadata": {},
     "output_type": "execute_result"
    }
   ],
   "source": [
    "stats.ttest_rel(np.log(data.uclaNew), np.log(data.amazNew))"
   ]
  },
  {
   "cell_type": "markdown",
   "metadata": {},
   "source": [
    "# 예제 2\n",
    "주어진 자료는 2012년 Washington, DC에서 열렸던 Cherry Blossom 10 mile run 경기에 서 완주를 한 선수 100명의 자료이다. 성별에 따른 완주시간은 차이가 있는가? 적절한 가설을 세우고 유의수준 5%에서 이를 검정하시오."
   ]
  },
  {
   "cell_type": "code",
   "execution_count": 8,
   "metadata": {},
   "outputs": [
    {
     "name": "stdout",
     "output_type": "stream",
     "text": [
      "55 45\n"
     ]
    },
    {
     "data": {
      "text/html": [
       "<div>\n",
       "<style scoped>\n",
       "    .dataframe tbody tr th:only-of-type {\n",
       "        vertical-align: middle;\n",
       "    }\n",
       "\n",
       "    .dataframe tbody tr th {\n",
       "        vertical-align: top;\n",
       "    }\n",
       "\n",
       "    .dataframe thead th {\n",
       "        text-align: right;\n",
       "    }\n",
       "</style>\n",
       "<table border=\"1\" class=\"dataframe\">\n",
       "  <thead>\n",
       "    <tr style=\"text-align: right;\">\n",
       "      <th></th>\n",
       "      <th>time</th>\n",
       "      <th>age</th>\n",
       "      <th>gender</th>\n",
       "      <th>state</th>\n",
       "    </tr>\n",
       "  </thead>\n",
       "  <tbody>\n",
       "    <tr>\n",
       "      <th>3</th>\n",
       "      <td>109.52</td>\n",
       "      <td>33</td>\n",
       "      <td>F</td>\n",
       "      <td>VA</td>\n",
       "    </tr>\n",
       "    <tr>\n",
       "      <th>6</th>\n",
       "      <td>70.12</td>\n",
       "      <td>42</td>\n",
       "      <td>F</td>\n",
       "      <td>MD</td>\n",
       "    </tr>\n",
       "    <tr>\n",
       "      <th>8</th>\n",
       "      <td>128.51</td>\n",
       "      <td>32</td>\n",
       "      <td>F</td>\n",
       "      <td>DC</td>\n",
       "    </tr>\n",
       "    <tr>\n",
       "      <th>9</th>\n",
       "      <td>95.21</td>\n",
       "      <td>29</td>\n",
       "      <td>F</td>\n",
       "      <td>VA</td>\n",
       "    </tr>\n",
       "    <tr>\n",
       "      <th>11</th>\n",
       "      <td>106.17</td>\n",
       "      <td>37</td>\n",
       "      <td>F</td>\n",
       "      <td>VA</td>\n",
       "    </tr>\n",
       "  </tbody>\n",
       "</table>\n",
       "</div>"
      ],
      "text/plain": [
       "      time  age gender state\n",
       "3   109.52   33      F    VA\n",
       "6    70.12   42      F    MD\n",
       "8   128.51   32      F    DC\n",
       "9    95.21   29      F    VA\n",
       "11  106.17   37      F    VA"
      ]
     },
     "execution_count": 8,
     "metadata": {},
     "output_type": "execute_result"
    }
   ],
   "source": [
    "data = pd.read_csv(\"week_6/run10samp.txt\", sep = \" \")\n",
    "data.head()\n",
    "\n",
    "female = data[data.gender == \"F\"]\n",
    "male = data[data.gender == \"M\"]\n",
    "print(len(female), len(male))\n",
    "female.head()"
   ]
  },
  {
   "cell_type": "markdown",
   "metadata": {},
   "source": [
    "### 이표본 모평균의 비교\n",
    "- 55명의 여성 모집단과 45명의 남성 모집단의 완주시간은 서로 독립이다. 두 모집단의 모평균이 유의수준 5% 하에서 통계적으로 유의한 차이를 가지는지에 대한 검정을 수행하기 위해서는 독립 이표본 검정을 수행한다."
   ]
  },
  {
   "cell_type": "markdown",
   "metadata": {},
   "source": [
    "### 정규분포 가정사항 확인\n",
    "- 두 모집단의 모평균을 비교하기 위해서는 우선 정규분포 가정사항을 확인해야 하는데, 표본의 크기가 30이상으로 충분히 크기 때문에 중심극한정리에 의해 두 모집단은 모두 정규분포를 근사적으로 따른다고 볼 수 있다. \n",
    "- 이를 아래 코드를 통해 QQ plot과 shapiro normality test를 통해서도 확인할 수 있다.\n",
    "- 두 모집단 모두 shapiro test 결과 유의확률이 유의수준 0.05에 비해 크기 때문에 귀무가설을 기각할 수 없고, 정규성 가정이 성립한다. QQ plot 상에서 직선 형태에 가까운 모양을 보이므로 이를 다시 한 번 확인할 수 있다."
   ]
  },
  {
   "cell_type": "code",
   "execution_count": 9,
   "metadata": {},
   "outputs": [
    {
     "data": {
      "image/png": "[encoded data removed]",
      "text/plain": [
       "<Figure size 432x288 with 1 Axes>"
      ]
     },
     "metadata": {
      "needs_background": "light"
     },
     "output_type": "display_data"
    },
    {
     "data": {
      "image/png": "[encoded data removed]",
      "text/plain": [
       "<Figure size 432x288 with 1 Axes>"
      ]
     },
     "metadata": {
      "needs_background": "light"
     },
     "output_type": "display_data"
    },
    {
     "name": "stdout",
     "output_type": "stream",
     "text": [
      "0.9757740497589111 0.3294515311717987\n",
      "0.9866881370544434 0.8784902691841125\n"
     ]
    }
   ],
   "source": [
    "# 정규분포 분위수 대조도\n",
    "QQ = ProbPlot(female.time)\n",
    "plot = QQ.qqplot(line = 's', color = 'C0', lw = 1)\n",
    "plt.title(\"Female Normal Q-Q Plot\")\n",
    "plt.show()\n",
    "\n",
    "QQ = ProbPlot(male.time)\n",
    "plot = QQ.qqplot(line = 's', color = 'C0', lw = 1)\n",
    "plt.title(\"Male Normal Q-Q Plot\")\n",
    "plt.show()\n",
    "\n",
    "# Shapiro-Wilk's Normality Test\n",
    "stat, p = shapiro(female.time)\n",
    "print(stat, p)\n",
    "stat, p = shapiro(male.time)\n",
    "print(stat, p)"
   ]
  },
  {
   "cell_type": "markdown",
   "metadata": {},
   "source": [
    "### 두 모분산에 관한 추론\n",
    "모평균을 비교하는 검정을 수행하기에 앞서 두 모집단의 모분산이 동일한지에 대한 검정을 수행한다.<br>\n",
    "A는 여성 선수의 완주시간, B는 남성 선수의 완주시간을 나타내는 확률변수로 정의한다. 두 확률변수는 서로 독립이다.\n",
    "\n",
    "1. 가설\n",
    "    - H0: σA^2 / σB^2 = 1 (등분산)\n",
    "    - H1: σA^2 / σB^2 != 1 (이분산)\n",
    "2. 유의수준 0.05\n",
    "3. 검정통계량\n",
    "    - 표본분포: `(sA^2/σA^2)/(sB^2/σB^2) ~ F(54, 44)`\n",
    "    - 검정통계량 관측값: 아래 정의된 `var_test`로 계산한 결과 **1.48**이다.\n",
    "4. 결론 도출\n",
    "    - 유의확률(p-value): **0.1833**이다. 이는 유의수준 0.05에 비해 크기 때문에 귀무가설을 기각할 수 없다.\n",
    "    - 결론: 즉 유의수준 5% 하에서 여성 선수와 남성 선수의 완주시간 모분산이 동일하다는 통계적 근거가 충분히 있다."
   ]
  },
  {
   "cell_type": "code",
   "execution_count": 12,
   "metadata": {},
   "outputs": [
    {
     "name": "stdout",
     "output_type": "stream",
     "text": [
      " F test to compare two variances: F = 1.47806\n",
      " num df = 54\n",
      " denom df = 44\n",
      " p-value = 0.1833\n"
     ]
    }
   ],
   "source": [
    "from scipy.stats import f\n",
    "\n",
    "def var_test(sample1, sample2):\n",
    "    n1 = len(sample1)\n",
    "    n2 = len(sample2)\n",
    "    \n",
    "    S1 = np.var(sample1, ddof = 1)\n",
    "    S2 = np.var(sample2, ddof = 1)\n",
    "    \n",
    "    dfn = n1 - 1\n",
    "    dfd = n2 - 1\n",
    "    \n",
    "    F = S1/S2\n",
    "    \n",
    "    pval = 2 * min(f.cdf(F, dfn, dfd), 1 - f.cdf(F, dfn, dfd))\n",
    "    \n",
    "    print(\" F test to compare two variances: F = %s\\n num df = %s\\n denom df = %s\\n p-value = %s\" % (round(F, 5), dfn, dfd, round(pval, 5)))\n",
    "\n",
    "var_test(female.time, male.time)"
   ]
  },
  {
   "cell_type": "markdown",
   "metadata": {},
   "source": [
    "### 가설 검정\n",
    "위에서 언급했듯이 A는 여성 선수의 완주시간, B는 남성 선수의 완주시간을 나타내는 확률변수로 정의한다.\n",
    "또한 중심극한정리에 의해 A ~ N(μA, σA^2) 이고 B ~ N(μB, σB^2) 이다.\n",
    "\n",
    "1. 가설\n",
    "    - H0: μA - μB = 0 (성별에 따라 완주시간에 유의한 차이가 없다)\n",
    "    - H1: μA - μB != 0 (성별에 따라 완주시간에 유의한 차이가 있다)\n",
    "2. 유의수준 0.05\n",
    "3. 검정통계량\n",
    "    - A의 표본평균의 분포: 평균이 `μA`, 분산이 `σA^2/n`인 정규분포를 따른다.  \n",
    "    - B의 표본평균의 분포: 평균이 `μB`, 분산이 `σB^2/n`인 정규분포를 따른다.\n",
    "    - 이때 \"두 모분산에 관한 추론\" 부분에 의해 등분산 가정이 성립한다. 따라서 합동표본분산 Sp를 사용할 수 있다.\n",
    "      - `((XbarA - XbarB) - (μA - μB)) / Sp * 루트(1/55 + 1/44) ~ t(97)`\n",
    "      - 이때 t(97)은 자유도가 충분히 크므로 표준정규분포에 근사한다.\n",
    "    - 검정통계량 관측값: 위 식에서 XbarA에 A의 표본평균을 대입하고, XbarB에 B의 표본평균을 대입하고, Sp에 합동표본분산을 대입하면 아래 `ttest_rel`로 계산한 결과와 같이 **5.12**가 나온다.\n",
    "4. 결론 도출\n",
    "    - 기각역: n이 충분히 커서 자유도가 높기 때문에 t분포의 분위수가 표준정규분포 분위수에 근사한다. 따라서 기각역은 |T| >= 1.96 인데, 검정통계량이 이에 속하기 때문에 귀무가설을 기각할 수 있다.\n",
    "    - 유의확률(p-value): **1.54e-06**이다. 이는 유의수준 0.05에 비해 충분히 작기 때문에 귀무가설을 기각할 수 있다.\n",
    "    - 결론: 즉 유의수준 5% 하에서 성별에 따라 완주시간에 유의한 차이가 있다는 충분한 통계적 근거가 존재한다."
   ]
  },
  {
   "cell_type": "code",
   "execution_count": 15,
   "metadata": {},
   "outputs": [
    {
     "data": {
      "text/plain": [
       "Ttest_indResult(statistic=5.117305648181876, pvalue=1.5438819783437654e-06)"
      ]
     },
     "execution_count": 15,
     "metadata": {},
     "output_type": "execute_result"
    }
   ],
   "source": [
    "stats.ttest_ind(female.time, male.time, equal_var = True)"
   ]
  },
  {
   "cell_type": "markdown",
   "metadata": {},
   "source": [
    "# 추가문제 2\n",
    "2. 예제 2의 결과를 이용하여 남성의 완주시간 평균과 여성의 완주시간 평균 차의 95% 신뢰구간을 구하여라.\n",
    "\n",
    "### 합동표본분산 계산"
   ]
  },
  {
   "cell_type": "code",
   "execution_count": null,
   "metadata": {},
   "outputs": [],
   "source": []
  }
 ],
 "metadata": {
  "kernelspec": {
   "display_name": "Python 3",
   "language": "python",
   "name": "python3"
  },
  "language_info": {
   "codemirror_mode": {
    "name": "ipython",
    "version": 3
   },
   "file_extension": ".py",
   "mimetype": "text/x-python",
   "name": "python",
   "nbconvert_exporter": "python",
   "pygments_lexer": "ipython3",
   "version": "3.7.3"
  }
 },
 "nbformat": 4,
 "nbformat_minor": 2
}
