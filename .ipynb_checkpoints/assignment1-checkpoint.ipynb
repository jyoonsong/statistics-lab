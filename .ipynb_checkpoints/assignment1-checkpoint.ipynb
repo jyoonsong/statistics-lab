{
 "cells": [
  {
   "cell_type": "code",
   "execution_count": 33,
   "metadata": {},
   "outputs": [
    {
     "name": "stdout",
     "output_type": "stream",
     "text": [
      "\n"
     ]
    }
   ],
   "source": [
    "import pandas as pd\n",
    "df = pd.read_csv(\"cdc.txt\", sep = \" \")\n",
    "\n",
    "# df.head()\n",
    "# df.info()\n",
    "# df.describe()\n",
    "# df.shape\n",
    "\n",
    "# 슬라이드에 없는 것\n",
    "## 특정 변수에 대해서만 실행\n",
    "df.genhlth.head() \n",
    "## iloc와 loc를 통해 자료를 뽑아 볼 수 있다.\n",
    "df.iloc[0,0]\n",
    "df.iloc[0:3, 3:5]\n",
    "df.loc[df.exerany == 0]\n",
    "\n",
    "print() # 위 내용은 너무 길어서 방해될까봐 일부러 출력 안했습니다."
   ]
  },
  {
   "cell_type": "markdown",
   "metadata": {},
   "source": [
    "### 예제 1\n",
    "예제 1. genhlth 변수에 대해 적절한 방법을 이용하여 요약해보자. 범주형 자료의 경우에는 어떠한 요약 방법을 사용할 수 있는가?\n",
    "\n",
    "**분석**<br>\n",
    "- 범주형 자료의 경우에는 분할표 또는 bar chart를 이용하여 요약할 수 있다.\n",
    "- 아래는 분할표와 bar chart를 차례대로 출력하는 코드이다.\n",
    "- 분할표를 보면, "
   ]
  },
  {
   "cell_type": "code",
   "execution_count": 41,
   "metadata": {},
   "outputs": [
    {
     "name": "stdout",
     "output_type": "stream",
     "text": [
      "Counter({'very good': 6972, 'good': 5675, 'excellent': 4657, 'fair': 2019, 'poor': 677})\n",
      "[5675, 6972, 4657, 2019, 677]\n"
     ]
    },
    {
     "data": {
      "image/png": "[encoded data removed]",
      "text/plain": [
       "<Figure size 432x288 with 1 Axes>"
      ]
     },
     "metadata": {
      "needs_background": "light"
     },
     "output_type": "display_data"
    }
   ],
   "source": [
    "from collections import Counter\n",
    "import matplotlib.pyplot as plt \n",
    "cg = Counter(df.genhlth)\n",
    "\n",
    "# 분할표\n",
    "print(cg)\n",
    "\n",
    "dict_keys = [\"very good\", \"excellent\", \"good\", \"fair\", \"poor\"]\n",
    "\n",
    "# bar chart\n",
    "cg_k = list(dict_keys)\n",
    "cg_v = list(cg.values())\n",
    "\n",
    "plt.bar(cg_k, cg_v)\n",
    "plt.xlabel(\"genhlth\")\n",
    "plt.ylabel(\"count\")\n",
    "plt.title(\"bar chart for genhlth\", fontsize = 20)\n",
    "plt.show()"
   ]
  },
  {
   "cell_type": "markdown",
   "metadata": {},
   "source": [
    "### 예제 2\n",
    "예제 2. weight 변수에 대한 수치적 요약 값을 구해보자. 전체 응답자의 평균 몸무게는 얼마인가?"
   ]
  },
  {
   "cell_type": "code",
   "execution_count": 31,
   "metadata": {},
   "outputs": [
    {
     "name": "stdout",
     "output_type": "stream",
     "text": [
      "169.68295\n"
     ]
    }
   ],
   "source": [
    "import numpy as np\n",
    "print( np.mean(df.weight) )"
   ]
  },
  {
   "cell_type": "markdown",
   "metadata": {},
   "source": [
    "### 예제 3\n",
    "예제 3. weight 변수와 wtdesire 변수의 산점도를 그려보자. 두 변수 사이에는 어떠한 관계가 존재한다고 보여지는가? 두 변수의 상관계수는 무엇은 나타내고 있는가?"
   ]
  },
  {
   "cell_type": "code",
   "execution_count": null,
   "metadata": {},
   "outputs": [],
   "source": []
  },
  {
   "cell_type": "markdown",
   "metadata": {},
   "source": [
    "### 예제 4\n",
    "예제 4. wtdesire 변수와 weight 변수의 차를 계산하여 새로운 변수 wdiff 를 만들어보자. wdiff 의 분포는 어떠한가? 수치적 요약과 그래프 요약을 통해 살펴보자. 이것이 의미하는 바는 무엇인가?"
   ]
  },
  {
   "cell_type": "code",
   "execution_count": null,
   "metadata": {},
   "outputs": [],
   "source": []
  },
  {
   "cell_type": "markdown",
   "metadata": {},
   "source": [
    "### 예제 5\n",
    "예제 5. age 변수를 이용하여 히스토그램을 그려보자. 그리고 구간의 수를 50, 100으로 바꿔가며 동일한 히스토그램을 그린 후 비교해보자."
   ]
  },
  {
   "cell_type": "code",
   "execution_count": null,
   "metadata": {},
   "outputs": [],
   "source": []
  }
 ],
 "metadata": {
  "kernelspec": {
   "display_name": "Python 3",
   "language": "python",
   "name": "python3"
  },
  "language_info": {
   "codemirror_mode": {
    "name": "ipython",
    "version": 3
   },
   "file_extension": ".py",
   "mimetype": "text/x-python",
   "name": "python",
   "nbconvert_exporter": "python",
   "pygments_lexer": "ipython3",
   "version": "3.6.0"
  }
 },
 "nbformat": 4,
 "nbformat_minor": 2
}
