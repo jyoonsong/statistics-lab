{
 "cells": [
  {
   "cell_type": "markdown",
   "metadata": {},
   "source": [
    "# Week 1\n",
    "\n",
    "### 1. 정수형"
   ]
  },
  {
   "cell_type": "code",
   "execution_count": 8,
   "metadata": {},
   "outputs": [
    {
     "name": "stdout",
     "output_type": "stream",
     "text": [
      "Hello World\n"
     ]
    }
   ],
   "source": [
    "print (\"Hello World\")"
   ]
  },
  {
   "cell_type": "code",
   "execution_count": 14,
   "metadata": {},
   "outputs": [
    {
     "name": "stdout",
     "output_type": "stream",
     "text": [
      "5\n",
      "3\n",
      "100\n",
      "100.0\n"
     ]
    }
   ],
   "source": [
    "a = 5\n",
    "b = 3\n",
    "c = 100 # 정수형\n",
    "d = 1e+2 # 실수형\n",
    "\n",
    "print(a)\n",
    "print(b)\n",
    "print(c)\n",
    "print(d)"
   ]
  },
  {
   "cell_type": "code",
   "execution_count": 15,
   "metadata": {},
   "outputs": [
    {
     "name": "stdout",
     "output_type": "stream",
     "text": [
      "8\n",
      "2\n",
      "1.6666666666666667\n",
      "15\n",
      "103\n",
      "103.0\n"
     ]
    }
   ],
   "source": [
    "print(a + b)\n",
    "print(a - b)\n",
    "print(a / b)\n",
    "print(a * b)\n",
    "print(b + c)\n",
    "print(b + d)"
   ]
  },
  {
   "cell_type": "code",
   "execution_count": 16,
   "metadata": {},
   "outputs": [
    {
     "name": "stdout",
     "output_type": "stream",
     "text": [
      "3\n",
      "1\n",
      "125\n"
     ]
    }
   ],
   "source": [
    "print(7 % 4) # 나머지\n",
    "print(7 // 4) # 몫\n",
    "print(a**b) # a 제곱 b"
   ]
  },
  {
   "cell_type": "code",
   "execution_count": 17,
   "metadata": {},
   "outputs": [
    {
     "name": "stdout",
     "output_type": "stream",
     "text": [
      "7\n",
      "2.3333333333333335\n",
      "7.0\n"
     ]
    }
   ],
   "source": [
    "a = 4\n",
    "a += 3\n",
    "print(a)\n",
    "\n",
    "a /= 3 # a = a / 3\n",
    "print(a)\n",
    "\n",
    "a *= 3 # a = a * 3\n",
    "print(a)"
   ]
  },
  {
   "cell_type": "markdown",
   "metadata": {},
   "source": [
    "### 2. 문자형"
   ]
  },
  {
   "cell_type": "code",
   "execution_count": 18,
   "metadata": {},
   "outputs": [
    {
     "name": "stdout",
     "output_type": "stream",
     "text": [
      "python\n",
      "python\n",
      "'hello' world\n",
      "hello \"world\"\n"
     ]
    }
   ],
   "source": [
    "c = \"python\"\n",
    "print(c)\n",
    "\n",
    "d = 'python'\n",
    "print(d)\n",
    "\n",
    "e = \"'hello' world\"\n",
    "f = 'hello \"world\"'\n",
    "print(e)\n",
    "print(f)"
   ]
  },
  {
   "cell_type": "code",
   "execution_count": 22,
   "metadata": {},
   "outputs": [
    {
     "name": "stdout",
     "output_type": "stream",
     "text": [
      "python3\n",
      "python2\n",
      "python3\tpython2\n"
     ]
    }
   ],
   "source": [
    "f = \"python3\\npython2\"\n",
    "print(f)\n",
    "\n",
    "f = \"python3\\tpython2\"\n",
    "print(f)"
   ]
  },
  {
   "cell_type": "code",
   "execution_count": 26,
   "metadata": {},
   "outputs": [
    {
     "name": "stdout",
     "output_type": "stream",
     "text": [
      "a\n",
      "abc\n",
      "abc\n",
      "h\n",
      "fg\n"
     ]
    }
   ],
   "source": [
    "e = \"abcdefgh\"\n",
    "\n",
    "print( e[0] )\n",
    "\n",
    "print( e[0:3] ) # [0,3)\n",
    "print( e[:3] ) # same\n",
    "\n",
    "print( e[-1] ) # backwards\n",
    "print( e[-3:-1] ) # backwards [-3,-1)"
   ]
  },
  {
   "cell_type": "code",
   "execution_count": 29,
   "metadata": {},
   "outputs": [
    {
     "name": "stdout",
     "output_type": "stream",
     "text": [
      "abcdef\n",
      "abcabcabcabcabc\n",
      "aaaaa\n"
     ]
    }
   ],
   "source": [
    "a = 'abc'\n",
    "b = 'def'\n",
    "\n",
    "print(a + b)\n",
    "print(a * 5)\n",
    "print('a' * 5)"
   ]
  },
  {
   "cell_type": "markdown",
   "metadata": {},
   "source": [
    "### 3. 논리형(boolean)"
   ]
  },
  {
   "cell_type": "code",
   "execution_count": 37,
   "metadata": {},
   "outputs": [
    {
     "name": "stdout",
     "output_type": "stream",
     "text": [
      "True\n",
      "False\n",
      "True\n",
      "False\n",
      "True\n",
      "False\n"
     ]
    }
   ],
   "source": [
    "a = 1\n",
    "print(a == 1)\n",
    "print(a != 1)\n",
    "\n",
    "print(a is 1)\n",
    "print(a is not 1)\n",
    "\n",
    "print(a > 0)\n",
    "print(not a) # 1 = true / 0 = false"
   ]
  },
  {
   "cell_type": "code",
   "execution_count": 39,
   "metadata": {},
   "outputs": [
    {
     "name": "stdout",
     "output_type": "stream",
     "text": [
      "True\n",
      "True\n"
     ]
    }
   ],
   "source": [
    "print (a in [1, 2, 3])\n",
    "print (\"a\" in \"abc\")"
   ]
  },
  {
   "cell_type": "code",
   "execution_count": 42,
   "metadata": {},
   "outputs": [
    {
     "name": "stdout",
     "output_type": "stream",
     "text": [
      "2\n",
      "0\n"
     ]
    }
   ],
   "source": [
    "print( True + True )\n",
    "print( False + False )\n",
    "print( True * False )"
   ]
  },
  {
   "cell_type": "code",
   "execution_count": 45,
   "metadata": {},
   "outputs": [
    {
     "name": "stdout",
     "output_type": "stream",
     "text": [
      "True\n",
      "True\n"
     ]
    }
   ],
   "source": [
    "print( (3 == 2) or (3 * 4 == 12) )\n",
    "print( (2 * 1 == 2) and (3 * 2 == 6) )"
   ]
  },
  {
   "cell_type": "markdown",
   "metadata": {},
   "source": [
    "### 4. 리스트형"
   ]
  },
  {
   "cell_type": "code",
   "execution_count": 46,
   "metadata": {},
   "outputs": [
    {
     "name": "stdout",
     "output_type": "stream",
     "text": [
      "[22, 23, 24, 25] ['kim', 'lee', 'park'] [True, False, True]\n"
     ]
    }
   ],
   "source": [
    "# 리스트는 모든 데이터 타입을 다 원소로 받음.\n",
    "age = [22, 23, 24, 25]\n",
    "name = ['kim', 'lee', 'park']\n",
    "TF = [True, False, True]\n",
    "\n",
    "print(age, name, TF)"
   ]
  },
  {
   "cell_type": "code",
   "execution_count": 47,
   "metadata": {},
   "outputs": [
    {
     "name": "stdout",
     "output_type": "stream",
     "text": [
      "[1, 2, 3, 'a', 'b', True]\n"
     ]
    }
   ],
   "source": [
    "# 다른 데이터 타입도 하나의 리스트에 포함 가능\n",
    "a = [1, 2, 3, 'a', 'b', True]\n",
    "print(a)"
   ]
  },
  {
   "cell_type": "code",
   "execution_count": 48,
   "metadata": {},
   "outputs": [
    {
     "name": "stdout",
     "output_type": "stream",
     "text": [
      "[1, 2, 3, [4, 5, 6]]\n"
     ]
    }
   ],
   "source": [
    "# list를 list의 원소로 받을 수 있음\n",
    "c = [1, 2, 3, [4, 5, 6]]\n",
    "print(c)"
   ]
  },
  {
   "cell_type": "code",
   "execution_count": 50,
   "metadata": {},
   "outputs": [
    {
     "name": "stdout",
     "output_type": "stream",
     "text": [
      "1\n",
      "[1, 2, 3]\n",
      "[3, 'a']\n",
      "ab\n",
      "True\n",
      "[4, 5]\n"
     ]
    }
   ],
   "source": [
    "# indexing & slicing\n",
    "print(a[0])\n",
    "print(a[:3])\n",
    "print(a[2:4])\n",
    "print(a[3] + a[4])\n",
    "print(a[-1])\n",
    "\n",
    "print(c[-1][0:2])"
   ]
  },
  {
   "cell_type": "code",
   "execution_count": 51,
   "metadata": {},
   "outputs": [
    {
     "name": "stdout",
     "output_type": "stream",
     "text": [
      "[1, 2, 3, 4, 5, 6]\n"
     ]
    }
   ],
   "source": [
    "# list의 연산\n",
    "a = [1, 2, 3]\n",
    "b = [4, 5, 6]\n",
    "print(a + b)\n",
    "# print(a - b) ERROR"
   ]
  },
  {
   "cell_type": "code",
   "execution_count": 53,
   "metadata": {},
   "outputs": [
    {
     "name": "stdout",
     "output_type": "stream",
     "text": [
      "[1, 2, 3, [1, 2, 3], 5, 6, 7]\n",
      "[1, 2, 3, 1, 2, 3, 5, 6, 7]\n",
      "[1, 2, 3, 4, 5, 6, 3, 5, 6, 7]\n"
     ]
    }
   ],
   "source": [
    "# list 내의 원소 수정\n",
    "a = [1, 2, 3, 4, 5, 6, 7]\n",
    "a[3] = [1, 2, 3]\n",
    "print(a)\n",
    "\n",
    "a[3:4] = [1, 2, 3] # 3에서 4전까지(index = 3: [1,2,3])에 값 넣기\n",
    "print(a)\n",
    "\n",
    "a[3:5] = [4, 5, 6] # 3에서 5전까지(index = 3, 4: 1, 2)에 값 넣기\n",
    "print(a)"
   ]
  },
  {
   "cell_type": "code",
   "execution_count": 55,
   "metadata": {},
   "outputs": [
    {
     "name": "stdout",
     "output_type": "stream",
     "text": [
      "[4]\n",
      "[[1, 2, 3, 4]]\n"
     ]
    }
   ],
   "source": [
    "# list 내장함수\n",
    "a = []\n",
    "a.append(4)\n",
    "print(a)\n",
    "\n",
    "b = []\n",
    "b.append([1,2,3,4])\n",
    "print(b)"
   ]
  }
 ],
 "metadata": {
  "kernelspec": {
   "display_name": "Python 3",
   "language": "python",
   "name": "python3"
  },
  "language_info": {
   "codemirror_mode": {
    "name": "ipython",
    "version": 3
   },
   "file_extension": ".py",
   "mimetype": "text/x-python",
   "name": "python",
   "nbconvert_exporter": "python",
   "pygments_lexer": "ipython3",
   "version": "3.7.4"
  }
 },
 "nbformat": 4,
 "nbformat_minor": 2
}
