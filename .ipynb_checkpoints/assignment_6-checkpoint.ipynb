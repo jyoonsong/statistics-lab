{
 "cells": [
  {
   "cell_type": "markdown",
   "metadata": {},
   "source": [
    "### 예제 1\n",
    "\n",
    "어느 시장 조사기관은 여러 가지 대중매체가 주는 정보의 양을 비교하기 위해 다음과 같은 실험을 계획하 였다. 40명의 성인을 랜덤하게 추출하여 철저한 면접을 통해 TV, 신문, 라디오, 잡지 중 어느 매체를 많이 접하는지 에 따라 분류하였다. 다음 표는 최근에 일어난 사건들에 대한 조사 대상자들의 인지도를 측정한 실험에서 얻어진 값들을 나타내고, 값이 클수록 인지도가 높은 것을 의미한다. 이 자료를 이용하여 사람들의 인지도가 대중매체에 따라 다르다고 할 수 있는지 유의수준 5%에서 검정해보자"
   ]
  },
  {
   "cell_type": "code",
   "execution_count": 17,
   "metadata": {},
   "outputs": [
    {
     "data": {
      "text/html": [
       "<div>\n",
       "<style scoped>\n",
       "    .dataframe tbody tr th:only-of-type {\n",
       "        vertical-align: middle;\n",
       "    }\n",
       "\n",
       "    .dataframe tbody tr th {\n",
       "        vertical-align: top;\n",
       "    }\n",
       "\n",
       "    .dataframe thead th {\n",
       "        text-align: right;\n",
       "    }\n",
       "</style>\n",
       "<table border=\"1\" class=\"dataframe\">\n",
       "  <thead>\n",
       "    <tr style=\"text-align: right;\">\n",
       "      <th></th>\n",
       "      <th>awareness</th>\n",
       "      <th>media</th>\n",
       "    </tr>\n",
       "  </thead>\n",
       "  <tbody>\n",
       "    <tr>\n",
       "      <th>0</th>\n",
       "      <td>16</td>\n",
       "      <td>1</td>\n",
       "    </tr>\n",
       "    <tr>\n",
       "      <th>1</th>\n",
       "      <td>19</td>\n",
       "      <td>1</td>\n",
       "    </tr>\n",
       "    <tr>\n",
       "      <th>2</th>\n",
       "      <td>25</td>\n",
       "      <td>1</td>\n",
       "    </tr>\n",
       "    <tr>\n",
       "      <th>3</th>\n",
       "      <td>22</td>\n",
       "      <td>1</td>\n",
       "    </tr>\n",
       "    <tr>\n",
       "      <th>4</th>\n",
       "      <td>21</td>\n",
       "      <td>1</td>\n",
       "    </tr>\n",
       "  </tbody>\n",
       "</table>\n",
       "</div>"
      ],
      "text/plain": [
       "   awareness  media\n",
       "0         16      1\n",
       "1         19      1\n",
       "2         25      1\n",
       "3         22      1\n",
       "4         21      1"
      ]
     },
     "execution_count": 17,
     "metadata": {},
     "output_type": "execute_result"
    }
   ],
   "source": [
    "import numpy as np\n",
    "import pandas as pd\n",
    "\n",
    "num = np.array([16, 19, 25, 22, 21, 15, 16, 22, 21, 18, # 10\n",
    "               13, 14, 15, 16, 15, 13, 19, 16, 20, 14, 11, # 11\n",
    "               18, 18, 15, 14, 14, 10, 18, 15, 15, # 9\n",
    "               11, 15, 17, 17, 13, 14, 16, 13, 11]) # 9\n",
    "col = np.concatenate([np.repeat(1, 10), np.repeat(2, 11), np.repeat(3, 9), np.repeat(4, 9)])\n",
    "data = pd.DataFrame({'awareness': num, 'media': col})\n",
    "data.head()"
   ]
  },
  {
   "cell_type": "markdown",
   "metadata": {},
   "source": [
    "**풀이**\n",
    "\n",
    "분산분석 중 일원 배치법을 이용한다.\n",
    "- 모형: `Yij = m + Ai + Eij` (i = 1, ..., 4) (j = 1, ..., Ni)\n",
    "    - m: 총평균\n",
    "    - i는 매체를 나타내는 index\n",
    "    - j는 각 매체에 대해 조사된 대상자의 index\n",
    "    - Eij: 오차항\n",
    "        - 서로 독립이며 N(0, σ^2)를 따르는 확률변수로 가정한다.\n",
    "- 가설\n",
    "    - H0: A1 = A2 = A3 = A4 = 0\n",
    "    - H1: 적어도 한 Ai는 0이 아니다.\n",
    "- 귀무가설 하의 검정통계량 관측값\n",
    "    - F = 7.593032\n",
    "- 유의확률\n",
    "    - p = 0.000488\n",
    "- 유의성 판단 및 결론\n",
    "    - 유의확률이 유의수준 0.05 이하로 매우 작은 것으로 나타났다. 따라서 유의수준 5% 하에서 모평균이 모두 동일하다는 귀무가설을 기각할 통계적 근거가 충분하다. 즉 **대중매체에 따라 사람들의 인지도에 차이가 있다**고 볼 수 있다.\n",
    "    "
   ]
  },
  {
   "cell_type": "code",
   "execution_count": 18,
   "metadata": {},
   "outputs": [
    {
     "name": "stdout",
     "output_type": "stream",
     "text": [
      "            df      sum_sq    mean_sq         F    PR(>F)\n",
      "C(media)   3.0  169.120824  56.373608  7.593032  0.000488\n",
      "Residual  35.0  259.853535   7.424387       NaN       NaN\n"
     ]
    }
   ],
   "source": [
    "import statsmodels.api as sm\n",
    "from statsmodels.formula.api import ols\n",
    "\n",
    "model = ols('awareness ~ C(media)', data = data).fit()\n",
    "table = sm.stats.anova_lm(model, typ = 1)\n",
    "print(table)"
   ]
  },
  {
   "cell_type": "markdown",
   "metadata": {},
   "source": [
    "### 예제 2\n",
    "어느 회사의 마케팅 부서에서는 하나의 상품에 대해 세 가지 다른 디자인의 포장을 적용한 후 이 상품들을 서로 다른 5군데의 상점에서 한 달 동안 판매하였다. 그리고 그 판매 결과는 아래와 같다. 제품의 매출은 판매되는 상점과 제품의 포장 디자인에 따라 다르다고 할 수 있는가? 적절한 가설을 쓰고 유의수준 5%에서 이를 검정하시오.\n",
    "\n"
   ]
  },
  {
   "cell_type": "code",
   "execution_count": 26,
   "metadata": {},
   "outputs": [
    {
     "data": {
      "text/html": [
       "<div>\n",
       "<style scoped>\n",
       "    .dataframe tbody tr th:only-of-type {\n",
       "        vertical-align: middle;\n",
       "    }\n",
       "\n",
       "    .dataframe tbody tr th {\n",
       "        vertical-align: top;\n",
       "    }\n",
       "\n",
       "    .dataframe thead th {\n",
       "        text-align: right;\n",
       "    }\n",
       "</style>\n",
       "<table border=\"1\" class=\"dataframe\">\n",
       "  <thead>\n",
       "    <tr style=\"text-align: right;\">\n",
       "      <th></th>\n",
       "      <th>store</th>\n",
       "      <th>design</th>\n",
       "      <th>y</th>\n",
       "    </tr>\n",
       "  </thead>\n",
       "  <tbody>\n",
       "    <tr>\n",
       "      <th>0</th>\n",
       "      <td>1</td>\n",
       "      <td>1</td>\n",
       "      <td>210</td>\n",
       "    </tr>\n",
       "    <tr>\n",
       "      <th>1</th>\n",
       "      <td>2</td>\n",
       "      <td>1</td>\n",
       "      <td>230</td>\n",
       "    </tr>\n",
       "    <tr>\n",
       "      <th>2</th>\n",
       "      <td>3</td>\n",
       "      <td>1</td>\n",
       "      <td>190</td>\n",
       "    </tr>\n",
       "    <tr>\n",
       "      <th>3</th>\n",
       "      <td>4</td>\n",
       "      <td>1</td>\n",
       "      <td>180</td>\n",
       "    </tr>\n",
       "    <tr>\n",
       "      <th>4</th>\n",
       "      <td>5</td>\n",
       "      <td>1</td>\n",
       "      <td>190</td>\n",
       "    </tr>\n",
       "  </tbody>\n",
       "</table>\n",
       "</div>"
      ],
      "text/plain": [
       "   store  design    y\n",
       "0      1       1  210\n",
       "1      2       1  230\n",
       "2      3       1  190\n",
       "3      4       1  180\n",
       "4      5       1  190"
      ]
     },
     "execution_count": 26,
     "metadata": {},
     "output_type": "execute_result"
    }
   ],
   "source": [
    "y = np.array([210, 230, 190, 180, 190,\n",
    "               195, 170, 200, 190, 193,\n",
    "               295, 275, 290, 275, 265])\n",
    "store = np.tile(range(1, 6), 3)\n",
    "design = np.repeat(range(1, 4), 5)\n",
    "mkt_data = pd.DataFrame({'store': store, 'design': design, 'y': y})\n",
    "mkt_data.head()"
   ]
  },
  {
   "cell_type": "markdown",
   "metadata": {},
   "source": [
    "**풀이**\n",
    "\n",
    "상점의 종류와 제품의 포장 디자인이라는 두 가지 설명변수를 고려해야 하므로 반복이 없는 이원배치법을 적용한다.\n",
    "- 모형: `Yij = m + Ai + Bj + Eij` (i = 1, ..., 5) (j = 1, 2, 3)\n",
    "    - m: 총평균\n",
    "    - i는 상점의 종류를 나타내는 index\n",
    "        - Ai: 상점의 종류의 i번째 수준의 효과\n",
    "    - j는 포장 디자인을 나타내는 index\n",
    "        - Bi: 포장 디자인의 j번째 수준의 효과\n",
    "    - Eij: 오차항\n",
    "        - 서로 독립이며 N(0, σ^2)를 따르는 확률변수로 가정한다.\n",
    "- 인자 A의 효과\n",
    "    - 가설\n",
    "        - H0: A1 = A2 = A3 = A4 = A5 = 0\n",
    "        - H1: 적어도 한 Ai는 0이 아니다.\n",
    "    - 귀무가설 하의 검정통계량 관측값\n",
    "        - F = 0.703284\n",
    "    - 유의확률\n",
    "        - p = 0.611391\n",
    "    - 유의성 판단 및 결론\n",
    "        - 유의확률이 유의수준 0.05보다 매우 큰 것으로 나타났다. 따라서 유의수준 5% 하에서 귀무가설을 기각할 통계적 근거가 충분하지 않다. 즉 **판매되는 상점에 따라 제품의 매출에는 유의한 차이가 없다**고 볼 수 있다.\n",
    "- 인자 B의 효과\n",
    "    - 가설\n",
    "        - H0: B1 = B2 = B3 = 0\n",
    "        - H1: 적어도 한 Bi는 0이 아니다.\n",
    "    - 귀무가설 하의 검정통계량 관측값\n",
    "        - F = 48.398787\n",
    "    - 유의확률\n",
    "        - p = 0.000034\n",
    "    - 유의성 판단 및 결론\n",
    "        - 유의확률이 유의수준 0.05 이하로 매우 작은 것으로 나타났다. 따라서 유의수준 5% 하에서 귀무가설을 기각할 통계적 근거가 충분하다. 즉 **포장 디자인에 따라 제품의 매출에 유의한 차이가 있다**고 볼 수 있다."
   ]
  },
  {
   "cell_type": "code",
   "execution_count": 27,
   "metadata": {},
   "outputs": [
    {
     "name": "stdout",
     "output_type": "stream",
     "text": [
      "                 sum_sq   df          F    PR(>F)\n",
      "C(store)     711.066667  4.0   0.703284  0.611391\n",
      "C(design)  24467.200000  2.0  48.398787  0.000034\n",
      "Residual    2022.133333  8.0        NaN       NaN\n"
     ]
    }
   ],
   "source": [
    "model = ols('y ~ C(store) + C(design)', data = mkt_data).fit()\n",
    "table = sm.stats.anova_lm(model, typ = 2)\n",
    "print(table)"
   ]
  },
  {
   "cell_type": "markdown",
   "metadata": {},
   "source": [
    "### 예제 3\n",
    "\n",
    "남녀의 성별과 고단백질로 구성된 아침 식사의 섭취 여부가 성인의 신체적 활동 능력에 영향을 미치는지를 알아보기 위하여 랜덤하게 선택된 남녀 10명에 대해 각각 5명씩 고단백질 아침식사와 저단백질 아침식사를 섭취 하게 한 후, 신체적 능력을 테스트를 통해 측정하였다. 측정된 점수가 높을수록 신체 활동 능력이 더 우수하다는 것을 의미한다. 실험 결과가 아래와 같을 때, 주어진 자료에 대해 이원배치법을 적용한 후 그 결과를 해석하여라."
   ]
  },
  {
   "cell_type": "code",
   "execution_count": 31,
   "metadata": {},
   "outputs": [
    {
     "data": {
      "text/html": [
       "<div>\n",
       "<style scoped>\n",
       "    .dataframe tbody tr th:only-of-type {\n",
       "        vertical-align: middle;\n",
       "    }\n",
       "\n",
       "    .dataframe tbody tr th {\n",
       "        vertical-align: top;\n",
       "    }\n",
       "\n",
       "    .dataframe thead th {\n",
       "        text-align: right;\n",
       "    }\n",
       "</style>\n",
       "<table border=\"1\" class=\"dataframe\">\n",
       "  <thead>\n",
       "    <tr style=\"text-align: right;\">\n",
       "      <th></th>\n",
       "      <th>protein</th>\n",
       "      <th>gender</th>\n",
       "      <th>y</th>\n",
       "    </tr>\n",
       "  </thead>\n",
       "  <tbody>\n",
       "    <tr>\n",
       "      <th>0</th>\n",
       "      <td>1</td>\n",
       "      <td>1</td>\n",
       "      <td>10</td>\n",
       "    </tr>\n",
       "    <tr>\n",
       "      <th>1</th>\n",
       "      <td>1</td>\n",
       "      <td>1</td>\n",
       "      <td>7</td>\n",
       "    </tr>\n",
       "    <tr>\n",
       "      <th>2</th>\n",
       "      <td>1</td>\n",
       "      <td>1</td>\n",
       "      <td>9</td>\n",
       "    </tr>\n",
       "    <tr>\n",
       "      <th>3</th>\n",
       "      <td>1</td>\n",
       "      <td>1</td>\n",
       "      <td>6</td>\n",
       "    </tr>\n",
       "    <tr>\n",
       "      <th>4</th>\n",
       "      <td>1</td>\n",
       "      <td>1</td>\n",
       "      <td>8</td>\n",
       "    </tr>\n",
       "  </tbody>\n",
       "</table>\n",
       "</div>"
      ],
      "text/plain": [
       "   protein  gender   y\n",
       "0        1       1  10\n",
       "1        1       1   7\n",
       "2        1       1   9\n",
       "3        1       1   6\n",
       "4        1       1   8"
      ]
     },
     "execution_count": 31,
     "metadata": {},
     "output_type": "execute_result"
    }
   ],
   "source": [
    "import seaborn\n",
    "import matplotlib.pyplot as plt\n",
    "\n",
    "y = np.array([10, 7, 9, 6, 8,\n",
    "             5, 4, 7, 4, 5,\n",
    "             5, 4, 6, 3, 2,\n",
    "             3, 4, 5, 1, 2])\n",
    "protein = np.repeat(range(1, 5), 5)\n",
    "gender = np.repeat(range(1, 3), 10)\n",
    "\n",
    "meal_data = pd.DataFrame({'protein': protein, 'gender': gender, 'y': y})\n",
    "meal_data.head()"
   ]
  },
  {
   "cell_type": "code",
   "execution_count": null,
   "metadata": {},
   "outputs": [],
   "source": []
  }
 ],
 "metadata": {
  "kernelspec": {
   "display_name": "Python 3",
   "language": "python",
   "name": "python3"
  },
  "language_info": {
   "codemirror_mode": {
    "name": "ipython",
    "version": 3
   },
   "file_extension": ".py",
   "mimetype": "text/x-python",
   "name": "python",
   "nbconvert_exporter": "python",
   "pygments_lexer": "ipython3",
   "version": "3.7.3"
  }
 },
 "nbformat": 4,
 "nbformat_minor": 2
}
