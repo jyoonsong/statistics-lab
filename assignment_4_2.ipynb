{
 "cells": [
  {
   "cell_type": "markdown",
   "metadata": {},
   "source": [
    "### 예제 1\n",
    "예제1. 다음은 랜덤하게 선택된 806명의 Facebook 사용자들에 대해 Facebook의 privacy setting 기능의 사용 법을 알고 있는지에 대해 조사한 결과이다. 성별과 privacy setting의 사용법 인지 여부가 관계가 있다고 할 수 있는가? 유의수준 5%에서 이를 검정하시오.\n",
    "\n",
    "\n",
    "> 두 변수가 서로 연관을 맺고 있는지에 관심을 가지는 것이므로 독립성 검정을 수행한다.\n",
    "\n",
    "1. 가설\n",
    "    - H0: pij = pi * pj (i = 1, 2) (j = 1, 2, 3)\n",
    "        - 성별과 사용법 인지 여부는 서로 독립이다.\n",
    "    - H1: not H0\n",
    "        - i는 성별을 나타내는 index\n",
    "        - j는 privacy setting의 사용법 인지 여부를 나타내는 index\n",
    "2. 유의수준\n",
    "    - a = 0.05\n",
    "3. 검정통계량\n",
    "    - 귀무가설 하의 검정통계량의 분포는 생략\n",
    "    - 검정통계량 값은 **8.85855**로 계산된다.\n",
    "4. 유의확률, 가설검정 결과\n",
    "    - 유의확률 = **0.01192**\n",
    "    - 유의수준 a보다 유의확률이 작기 때문에 귀무가설을 기각할 수 있다. 따라서 **성별과 privacy setting의 사용법 인지 여부는 서로 관계가 있다고 볼 수 있다. 즉 독립이 아니다.**"
   ]
  },
  {
   "cell_type": "code",
   "execution_count": 2,
   "metadata": {},
   "outputs": [
    {
     "name": "stdout",
     "output_type": "stream",
     "text": [
      "        Know  Not know  Not at all know\n",
      "Male     288        10               79\n",
      "Female   378         7               62\n"
     ]
    }
   ],
   "source": [
    "import numpy as np\n",
    "from scipy import stats\n",
    "import pandas\n",
    "from scipy.stats import norm\n",
    "\n",
    "x = np.array([[288, 10, 79], [378, 7, 62]])\n",
    "\n",
    "# 분할표\n",
    "table = pandas.DataFrame(x, ['Male', 'Female'], ['Know', 'Not know', 'Not at all know'])\n",
    "print(table)"
   ]
  },
  {
   "cell_type": "code",
   "execution_count": 3,
   "metadata": {},
   "outputs": [
    {
     "name": "stdout",
     "output_type": "stream",
     "text": [
      "Chi-squared test: X-squared = 8.85855, p-value = 0.01192, df = 2\n"
     ]
    }
   ],
   "source": [
    "# 입력된 x에 대해 독립성 검정 시행\n",
    "g, p, dof, expctd = stats.chi2_contingency(table)\n",
    "print(\"Chi-squared test: X-squared = %s, p-value = %s, df = %s\" % (round(g, 5), round(p, 5), dof))"
   ]
  },
  {
   "cell_type": "markdown",
   "metadata": {},
   "source": [
    "### 예제 2\n",
    "예제2. 심폐 소생술은 심장과 폐의 활동이 갑자기 멈추었을 때 실시하는 응급처치방법이다. 심폐 소생술 시행 시 혈액 뭉침 등을 완화하기 위해 혈액 희석제(blood thinner)을 처방하는 경우가 있는데, 만약 심폐 소생술로 인해 신체 내부 손상을 입은 경우라면 혈액 희석제는 환자에게 치명적일 수도 있다. 다음은 심폐 소생술을 받 은 환자들 중 혈액 희석제를 사용하지 않은 환자들 50명과 혈액 희석제를 사용한 환자들 40명을 대상으로 그들의 생존 여부를 조사한 결과이다. 혈액 희석제 사용 여부에 따른 생존률은 차이가 있는가? 유의수준 5%에서 이를 검정하시오.\n",
    "\n",
    "> 여러 모비율이 서로 차이가 있는지 혹은 동일하다고 볼 수 있는지 알아보고자 하는 것이므로 동질성 검정을 시행한다.\n",
    "\n",
    "1. 가설\n",
    "    - H0: (p11, p12) = (p21, p22)\n",
    "    - H1: not H0\n",
    "        - p11: 사용한 적 없음 & 생존 비율\n",
    "        - p12: 사용한 적 없음 & 사망 비율\n",
    "        - p21: 사용한 적 있음 & 생존 비율\n",
    "        - p22: 사용한 적 있음 & 사망 비율\n",
    "2. 유의수준\n",
    "    - a = 0.05\n",
    "3. 검정통계량\n",
    "    - 귀무가설 하의 검정통계량의 분포는 생략\n",
    "    - 검정통계량 값은 **1.28008**로 계산된다.\n",
    "4. 유의확률, 가설검정 결과\n",
    "    - 유의확률 = **0.25788**\n",
    "    - 유의수준 0.05보다 유의확률이 크기 때문에 귀무가설을 기각할 수 없다. 따라서 **혈액 희석제 사용 여부에 따른 생존 여부는 통계적으로 유의한 차이가 있다고 볼 수 없다.**"
   ]
  },
  {
   "cell_type": "code",
   "execution_count": 5,
   "metadata": {},
   "outputs": [
    {
     "name": "stdout",
     "output_type": "stream",
     "text": [
      "          Alive  Dead\n",
      "Not used     11    39\n",
      "Used         14    26\n"
     ]
    }
   ],
   "source": [
    "x = np.array([[11, 39], [14, 26]])\n",
    "\n",
    "# 분할표\n",
    "table = pandas.DataFrame(x, ['Not used', 'Used'], ['Alive', 'Dead'])\n",
    "print(table)"
   ]
  },
  {
   "cell_type": "code",
   "execution_count": 6,
   "metadata": {},
   "outputs": [
    {
     "name": "stdout",
     "output_type": "stream",
     "text": [
      "Chi-squared test: X-squared = 1.28008, p-value = 0.25788, df = 1\n"
     ]
    }
   ],
   "source": [
    "# 입력된 x에 대해 동질성 검정 시행\n",
    "g, p, dof, expctd = stats.chi2_contingency(table)\n",
    "print(\"Chi-squared test: X-squared = %s, p-value = %s, df = %s\" % (round(g, 5), round(p, 5), dof))"
   ]
  }
 ],
 "metadata": {
  "kernelspec": {
   "display_name": "Python 3",
   "language": "python",
   "name": "python3"
  },
  "language_info": {
   "codemirror_mode": {
    "name": "ipython",
    "version": 3
   },
   "file_extension": ".py",
   "mimetype": "text/x-python",
   "name": "python",
   "nbconvert_exporter": "python",
   "pygments_lexer": "ipython3",
   "version": "3.7.3"
  }
 },
 "nbformat": 4,
 "nbformat_minor": 2
}
